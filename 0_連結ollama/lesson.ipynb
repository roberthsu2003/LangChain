{
 "cells": [
  {
   "cell_type": "code",
   "execution_count": null,
   "metadata": {},
   "outputs": [],
   "source": [
    "#使用ollama的api\n",
    "#應用程式和ollama都在本機端\n",
    "from ollama import chat\n",
    "from ollama import ChatResponse\n",
    "\n",
    "response:ChatResponse = chat(model='llama3.2:3b', messages=[\n",
    "  {\n",
    "    'role': 'user',\n",
    "    'content': 'Why is the sky blue?',\n",
    "  },\n",
    "])\n",
    "print(response['message']['content'])\n",
    "# or access fields directly from the response object\n",
    "print(response.message.content)"
   ]
  },
  {
   "cell_type": "code",
   "execution_count": 2,
   "metadata": {},
   "outputs": [
    {
     "name": "stdout",
     "output_type": "stream",
     "text": [
      "**Short answer:**  \n",
      "The sky looks blue because the air molecules in Earth’s atmosphere scatter the shorter‑wavelength (blue) part of sunlight far more efficiently than the longer‑wavelength (red) part. That scattered blue light reaches our eyes from every direction, so the sky appears blue.\n",
      "\n",
      "---\n",
      "\n",
      "### The physics behind it\n",
      "\n",
      "| Step | What happens | Why it matters |\n",
      "|------|--------------|----------------|\n",
      "| 1. Sun emits white light | Sunlight is a mix of all visible wavelengths (≈ 400–700 nm). | The sky gets its light from the Sun. |\n",
      "| 2. Light enters the atmosphere | It passes through a column of air filled mainly with N₂ and O₂ molecules. | The particles that cause scattering are much smaller than the wavelength of visible light. |\n",
      "| 3. Rayleigh scattering | The scattering cross‑section of a molecule varies as **1/λ⁴** (Rayleigh’s law). | Blue light (≈ 450 nm) is ~ (700/450)⁴ ≈ 10 times more strongly scattered than red light (≈ 700 nm). |\n",
      "| 4. Scattered light reaches us | Blue photons are redirected in all directions; the direct beam still contains more red and green. | Our eye sees the diffuse, highly‑scattered blue coming from the sky. |\n",
      "\n",
      "**Key point:** The scattering is proportional to the inverse fourth power of the wavelength, so the effect is strongest for the shortest visible wavelengths (blue/violet). The Sun’s violet light is scattered even more, but our eyes are less sensitive to violet and much of it is absorbed by the upper atmosphere, so we see a blue hue instead of violet.\n",
      "\n",
      "---\n",
      "\n",
      "### Why the sky isn’t always a uniform blue\n",
      "\n",
      "| Situation | What changes | Effect on color |\n",
      "|-----------|--------------|-----------------|\n",
      "| **Sunrise / sunset** | Light travels a longer path through the atmosphere. | Blue light is scattered out of the direct beam, leaving reds and oranges. |\n",
      "| **Pollution / haze** | Larger aerosol particles (Mie scattering) scatter all wavelengths almost equally. | Sky looks whiter or greyer. |\n",
      "| **Clouds** | Thick clouds are composed of droplets that scatter all colors strongly. | Clouds appear white or gray. |\n",
      "| **At night** | No direct sunlight, only moonlight or artificial sources. | Sky is dark; faint blue glow is due to Rayleigh scattering of starlight (if any). |\n",
      "\n",
      "---\n",
      "\n",
      "### Quick recap\n",
      "\n",
      "1. Sunlight contains all colors.  \n",
      "2. Atmospheric molecules preferentially scatter blue light (Rayleigh scattering).  \n",
      "3. The scattered blue light reaches us from every direction → the sky looks blue.  \n",
      "\n",
      "That’s the basic reason you see a beautiful blue sky on a clear day!\n"
     ]
    }
   ],
   "source": [
    "#使用ollama的api\n",
    "#應用程式在docker容器內,ollama在主機上\n",
    "\n",
    "from ollama import Client\n",
    "\n",
    "client = Client(\n",
    "  host='http://host.docker.internal:11434',\n",
    "  headers={'x-some-header': 'some-value'}\n",
    ")\n",
    "\n",
    "response = client.chat(model='gpt-oss:20b', messages=[\n",
    "  {\n",
    "    'role': 'user',\n",
    "    'content': 'Why is the sky blue?',\n",
    "  },\n",
    "])\n",
    "print(response['message']['content'])"
   ]
  },
  {
   "cell_type": "code",
   "execution_count": null,
   "metadata": {},
   "outputs": [],
   "source": [
    "#使用ollama的REST API\n",
    "#應用程式在docker容器內,ollama在主機上"
   ]
  },
  {
   "cell_type": "code",
   "execution_count": 6,
   "metadata": {},
   "outputs": [
    {
     "name": "stdout",
     "output_type": "stream",
     "text": [
      "To find the remainder of 9 divided by 3, we can use simple division.\n",
      "\n",
      "9 ÷ 3 = ?\n",
      "\n",
      "We can divide 9 into three parts:\n",
      "\n",
      "3 + 3 + 3 = 9\n",
      "\n",
      "Since all three parts are equal, the quotient (result) is 3, and the remainder is 0.\n",
      "\n",
      "So, 9除以3的內容是3，沒有餘數。\n"
     ]
    }
   ],
   "source": [
    "from langchain_core.prompts import ChatPromptTemplate\n",
    "from langchain_ollama.llms import OllamaLLM\n",
    "\n",
    "template = \"\"\"Question: {question}\n",
    "\n",
    "Answer: Let's think step by step.\"\"\"\n",
    "\n",
    "prompt = ChatPromptTemplate.from_template(template)\n",
    "\n",
    "model = OllamaLLM(model=\"llama3.2:3b\")\n",
    "\n",
    "chain = prompt | model\n",
    "\n",
    "response = chain.invoke({\"question\": \"9除以3的內容是:\"})\n",
    "print(response)"
   ]
  }
 ],
 "metadata": {
  "kernelspec": {
   "display_name": "pydev",
   "language": "python",
   "name": "python3"
  },
  "language_info": {
   "codemirror_mode": {
    "name": "ipython",
    "version": 3
   },
   "file_extension": ".py",
   "mimetype": "text/x-python",
   "name": "python",
   "nbconvert_exporter": "python",
   "pygments_lexer": "ipython3",
   "version": "3.10.18"
  }
 },
 "nbformat": 4,
 "nbformat_minor": 2
}
