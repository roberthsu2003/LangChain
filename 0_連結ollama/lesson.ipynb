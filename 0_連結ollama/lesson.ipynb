{
 "cells": [
  {
   "cell_type": "code",
   "execution_count": 1,
   "metadata": {},
   "outputs": [
    {
     "name": "stdout",
     "output_type": "stream",
     "text": [
      "The sky appears blue because of a phenomenon called Rayleigh scattering, named after the British physicist Lord Rayleigh, who first described it in the late 19th century.\n",
      "\n",
      "Here's what happens:\n",
      "\n",
      "1. **Sunlight enters Earth's atmosphere**: When sunlight enters our atmosphere, it encounters tiny molecules of gases such as nitrogen (N2) and oxygen (O2).\n",
      "2. **Scattering occurs**: These molecules scatter the light in all directions, but they scatter shorter (blue) wavelengths more than longer (red) wavelengths.\n",
      "3. **Blue light is scattered**: The blue light is scattered in all directions by the tiny molecules, reaching our eyes from all parts of the sky.\n",
      "4. **Red light passes through**: Meanwhile, the longer wavelengths of red light continue to travel in a straight line, without being significantly scattered.\n",
      "\n",
      "As a result, when we look at the sky, we see mostly the blue light that's been scattered in all directions, which is why it appears blue. The color of the sky can change depending on the time of day, atmospheric conditions, and pollution levels, but this is the basic principle behind why the sky is blue.\n",
      "\n",
      "It's worth noting that the sky doesn't actually appear blue at all times. During sunrise and sunset, the sky often takes on hues of red, orange, and pink due to the scattering of light by atmospheric particles. And in areas with high levels of pollution or dust, the sky can appear more hazy or gray.\n",
      "\n",
      "I hope this helps you understand why the sky is blue!\n",
      "The sky appears blue because of a phenomenon called Rayleigh scattering, named after the British physicist Lord Rayleigh, who first described it in the late 19th century.\n",
      "\n",
      "Here's what happens:\n",
      "\n",
      "1. **Sunlight enters Earth's atmosphere**: When sunlight enters our atmosphere, it encounters tiny molecules of gases such as nitrogen (N2) and oxygen (O2).\n",
      "2. **Scattering occurs**: These molecules scatter the light in all directions, but they scatter shorter (blue) wavelengths more than longer (red) wavelengths.\n",
      "3. **Blue light is scattered**: The blue light is scattered in all directions by the tiny molecules, reaching our eyes from all parts of the sky.\n",
      "4. **Red light passes through**: Meanwhile, the longer wavelengths of red light continue to travel in a straight line, without being significantly scattered.\n",
      "\n",
      "As a result, when we look at the sky, we see mostly the blue light that's been scattered in all directions, which is why it appears blue. The color of the sky can change depending on the time of day, atmospheric conditions, and pollution levels, but this is the basic principle behind why the sky is blue.\n",
      "\n",
      "It's worth noting that the sky doesn't actually appear blue at all times. During sunrise and sunset, the sky often takes on hues of red, orange, and pink due to the scattering of light by atmospheric particles. And in areas with high levels of pollution or dust, the sky can appear more hazy or gray.\n",
      "\n",
      "I hope this helps you understand why the sky is blue!\n"
     ]
    }
   ],
   "source": [
    "#使用ollam的api\n",
    "from ollama import chat\n",
    "from ollama import ChatResponse\n",
    "response: ChatResponse = chat(model='llama3.2:3b', messages=[\n",
    "  {\n",
    "    'role': 'user',\n",
    "    'content': 'Why is the sky blue?',\n",
    "  },\n",
    "])\n",
    "print(response['message']['content'])\n",
    "# or access fields directly from the response object\n",
    "print(response.message.content)"
   ]
  },
  {
   "cell_type": "code",
   "execution_count": 6,
   "metadata": {},
   "outputs": [
    {
     "name": "stdout",
     "output_type": "stream",
     "text": [
      "To find the remainder of 9 divided by 3, we can use simple division.\n",
      "\n",
      "9 ÷ 3 = ?\n",
      "\n",
      "We can divide 9 into three parts:\n",
      "\n",
      "3 + 3 + 3 = 9\n",
      "\n",
      "Since all three parts are equal, the quotient (result) is 3, and the remainder is 0.\n",
      "\n",
      "So, 9除以3的內容是3，沒有餘數。\n"
     ]
    }
   ],
   "source": [
    "from langchain_core.prompts import ChatPromptTemplate\n",
    "from langchain_ollama.llms import OllamaLLM\n",
    "\n",
    "template = \"\"\"Question: {question}\n",
    "\n",
    "Answer: Let's think step by step.\"\"\"\n",
    "\n",
    "prompt = ChatPromptTemplate.from_template(template)\n",
    "\n",
    "model = OllamaLLM(model=\"llama3.2:3b\")\n",
    "\n",
    "chain = prompt | model\n",
    "\n",
    "response = chain.invoke({\"question\": \"9除以3的內容是:\"})\n",
    "print(response)"
   ]
  }
 ],
 "metadata": {
  "kernelspec": {
   "display_name": "base",
   "language": "python",
   "name": "python3"
  },
  "language_info": {
   "codemirror_mode": {
    "name": "ipython",
    "version": 3
   },
   "file_extension": ".py",
   "mimetype": "text/x-python",
   "name": "python",
   "nbconvert_exporter": "python",
   "pygments_lexer": "ipython3",
   "version": "3.11.11"
  }
 },
 "nbformat": 4,
 "nbformat_minor": 2
}
