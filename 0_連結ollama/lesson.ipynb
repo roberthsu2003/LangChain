{
 "cells": [
  {
   "cell_type": "code",
   "execution_count": null,
   "metadata": {},
   "outputs": [],
   "source": [
    "#使用ollama的api\n",
    "#應用程式和ollama都在本機端\n",
    "from ollama import chat\n",
    "from ollama import ChatResponse\n",
    "\n",
    "response:ChatResponse = chat(model='llama3.2:3b', messages=[\n",
    "  {\n",
    "    'role': 'user',\n",
    "    'content': 'Why is the sky blue?',\n",
    "  },\n",
    "])\n",
    "print(response['message']['content'])\n",
    "# or access fields directly from the response object\n",
    "print(response.message.content)"
   ]
  },
  {
   "cell_type": "code",
   "execution_count": 13,
   "metadata": {},
   "outputs": [
    {
     "name": "stdout",
     "output_type": "stream",
     "text": [
      "### Short answer  \n",
      "The sky looks blue because the air molecules in our atmosphere scatter sunlight, and the shorter (blue‑light) wavelengths are scattered far more efficiently than the longer (red‑light) wavelengths. When you look up, the light that has been scattered in all directions reaches your eye, and the blue component dominates.\n",
      "\n",
      "---\n",
      "\n",
      "## 1.  What happens to sunlight in the atmosphere?\n",
      "\n",
      "1. **Sunlight is white** – it contains all visible wavelengths (≈400–700 nm) in roughly equal amounts.\n",
      "2. **The atmosphere is made of gases** (mostly N₂ and O₂) and tiny particles.\n",
      "3. **Scattering**: As light hits these molecules or particles, it changes direction. The efficiency of this scattering depends strongly on the wavelength (colour) of the light and the size of the scatterer.\n",
      "\n",
      "---\n",
      "\n",
      "## 2.  Rayleigh scattering – the key mechanism for a clear, blue sky\n",
      "\n",
      "- **Rayleigh scattering** occurs when the particles are *much smaller* than the wavelength of light (e.g., air molecules, 0.1 µm vs. 0.4–0.7 µm for visible light).\n",
      "- The scattering intensity \\(I\\) follows:\n",
      "  \\[\n",
      "  I \\propto \\frac{1}{\\lambda^4}\n",
      "  \\]\n",
      "  So blue light (≈450 nm) is scattered \\((700/450)^4 \\approx 10\\) times more than red light (≈650 nm).\n",
      "\n",
      "- **Result:** When you look at a random part of the sky, the light that has been scattered toward you is dominated by the blue wavelengths. The direct sunlight you see in the direction of the Sun is still mostly white (or slightly yellowish) because it has travelled a short distance through the atmosphere and lost only a small fraction of its blue component.\n",
      "\n",
      "---\n",
      "\n",
      "## 3.  Why does the sky change colour at sunrise/sunset?\n",
      "\n",
      "- **Longer path length**: The Sun is near the horizon, so sunlight travels through more air before reaching you.\n",
      "- **More scattering of blue light**: By the time the light reaches your eye, most of the blue has been scattered out of the direct beam.\n",
      "- **Red/amber light dominates**: The remaining light is richer in red/orange wavelengths, which we see as a beautiful sunrise/sunset.\n",
      "\n",
      "---\n",
      "\n",
      "## 4.  Other factors that influence sky colour\n",
      "\n",
      "| Factor | Effect |\n",
      "|--------|--------|\n",
      "| **Aerosols (dust, pollution, smoke)** | Larger particles cause **Mie scattering**, which is less wavelength‑dependent, so the sky can appear whiter or even slightly hazy. |\n",
      "| **Clouds** | Block sunlight and scatter light in all directions, giving a gray or white appearance. |\n",
      "| **Atmospheric composition** | In rare places (e.g., polar regions with aurorae), other emissions (oxygen, nitrogen) can produce green, pink, or purple hues. |\n",
      "| **Altitude** | Higher altitudes have thinner air, so the sky may appear slightly deeper blue. |\n",
      "\n",
      "---\n",
      "\n",
      "## 5.  Quick recap\n",
      "\n",
      "- Sunlight is white; the atmosphere contains tiny gas molecules.\n",
      "- Rayleigh scattering preferentially deflects short‑wavelength (blue) light.\n",
      "- The scattered blue light reaches our eyes from every direction, making the sky appear blue.\n",
      "- At sunrise/sunset, the path is longer, more blue light is removed, and the sky turns red/orange.\n",
      "\n",
      "That’s why, on a clear day with a clean atmosphere, the sky is blue!\n"
     ]
    }
   ],
   "source": [
    "#使用ollama的api\n",
    "#應用程式在docker容器內,ollama在主機上\n",
    "\n",
    "from ollama import Client\n",
    "\n",
    "client = Client(\n",
    "  host='http://host.docker.internal:11434',\n",
    "  headers={'x-some-header': 'some-value'}\n",
    ")\n",
    "\n",
    "response = client.chat(model='gpt-oss:20b', messages=[\n",
    "  {\n",
    "    'role': 'user',\n",
    "    'content': 'Why is the sky blue?',\n",
    "  },\n",
    "])\n",
    "print(response['message']['content'])"
   ]
  },
  {
   "cell_type": "code",
   "execution_count": null,
   "metadata": {},
   "outputs": [],
   "source": [
    "#使用ollama的REST API\n",
    "#應用程式在docker容器內,ollama在主機上"
   ]
  },
  {
   "cell_type": "code",
   "execution_count": 6,
   "metadata": {},
   "outputs": [
    {
     "name": "stdout",
     "output_type": "stream",
     "text": [
      "To find the remainder of 9 divided by 3, we can use simple division.\n",
      "\n",
      "9 ÷ 3 = ?\n",
      "\n",
      "We can divide 9 into three parts:\n",
      "\n",
      "3 + 3 + 3 = 9\n",
      "\n",
      "Since all three parts are equal, the quotient (result) is 3, and the remainder is 0.\n",
      "\n",
      "So, 9除以3的內容是3，沒有餘數。\n"
     ]
    }
   ],
   "source": [
    "from langchain_core.prompts import ChatPromptTemplate\n",
    "from langchain_ollama.llms import OllamaLLM\n",
    "\n",
    "template = \"\"\"Question: {question}\n",
    "\n",
    "Answer: Let's think step by step.\"\"\"\n",
    "\n",
    "prompt = ChatPromptTemplate.from_template(template)\n",
    "\n",
    "model = OllamaLLM(model=\"llama3.2:3b\")\n",
    "\n",
    "chain = prompt | model\n",
    "\n",
    "response = chain.invoke({\"question\": \"9除以3的內容是:\"})\n",
    "print(response)"
   ]
  }
 ],
 "metadata": {
  "kernelspec": {
   "display_name": "pydev",
   "language": "python",
   "name": "python3"
  },
  "language_info": {
   "codemirror_mode": {
    "name": "ipython",
    "version": 3
   },
   "file_extension": ".py",
   "mimetype": "text/x-python",
   "name": "python",
   "nbconvert_exporter": "python",
   "pygments_lexer": "ipython3",
   "version": "3.10.18"
  }
 },
 "nbformat": 4,
 "nbformat_minor": 2
}
