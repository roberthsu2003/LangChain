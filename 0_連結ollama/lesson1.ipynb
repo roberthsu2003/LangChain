{
 "cells": [
  {
   "cell_type": "markdown",
   "id": "3b219554",
   "metadata": {},
   "source": [
    "## Request(No streaming)\n",
    "\n",
    "[官網說明較完整](https://github.com/ollama/ollama/blob/main/docs/api.md#generate-a-completion)\n",
    "\n",
    "### Request\n",
    "- stream:必需設定為false\n",
    "\n",
    "### Response\n",
    "- 因為stream是false,response為json object\n",
    "\n"
   ]
  },
  {
   "cell_type": "code",
   "execution_count": 2,
   "id": "849964ba",
   "metadata": {},
   "outputs": [
    {
     "name": "stdout",
     "output_type": "stream",
     "text": [
      "💬 AI 回應：\n",
      "{'model': 'llama3.2:latest', 'created_at': '2025-08-20T04:12:37.071285Z', 'response': '{ \"Python函數\":\" Python函數是一種可以被重覆呼叫的程式結構，能夠傳入參數並返回值。它可以用於程式複雜化、可重用性和模塊化等方面的設計。\" }', 'done': True, 'done_reason': 'stop', 'context': [128006, 9125, 128007, 271, 38766, 1303, 33025, 2696, 25, 6790, 220, 2366, 18, 271, 128009, 128006, 882, 128007, 271, 109311, 11883, 112825, 107874, 9554, 76868, 50338, 13393, 233, 101567, 114064, 21043, 31380, 9554, 111703, 29430, 11571, 128009, 128006, 78191, 128007, 271, 90, 330, 31380, 111703, 104214, 3332, 13325, 111703, 104214, 107226, 104091, 74770, 101307, 30358, 117633, 105324, 105424, 9554, 39607, 29430, 102971, 106391, 3922, 27327, 8192, 254, 109365, 17701, 110259, 104214, 105360, 32626, 26592, 1811, 103282, 74770, 11883, 102572, 39607, 29430, 109242, 25132, 250, 33208, 5486, 31540, 30358, 11883, 34171, 34208, 54872, 59657, 232, 33208, 50667, 108900, 9554, 113404, 1811, 1, 335], 'total_duration': 11453335584, 'load_duration': 10839824084, 'prompt_eval_count': 42, 'prompt_eval_duration': 110090292, 'eval_count': 63, 'eval_duration': 502590333}\n",
      "{ \"Python函數\":\" Python函數是一種可以被重覆呼叫的程式結構，能夠傳入參數並返回值。它可以用於程式複雜化、可重用性和模塊化等方面的設計。\" }\n"
     ]
    }
   ],
   "source": [
    "import requests\n",
    "\n",
    "def chat_with_ollama(prompt: str):\n",
    "    url = \"http://host.docker.internal:11434/api/generate\"\n",
    "    payload = {\n",
    "        \"model\": \"llama3.2:latest\",\n",
    "        \"prompt\": prompt,\n",
    "        \"stream\": False,\n",
    "        \"options\": { #參考說明1\n",
    "            \"temperature\": 0.7,\n",
    "            \"top_p\": 0.9,\n",
    "            \"top_k\": 50,\n",
    "        },\n",
    "        \"max_tokens\": 100,\n",
    "        \"format\": \"json\",\n",
    "    }\n",
    "\n",
    "    response = requests.post(url, json=payload)\n",
    "    result = response.json()\n",
    "    print(\"💬 AI 回應：\")\n",
    "    # Print the whole result for debugging\n",
    "    print(result)\n",
    "    # Try to print the 'response' key if it exists, otherwise print possible keys\n",
    "    if \"response\" in result:\n",
    "        print(result[\"response\"])\n",
    "    elif \"message\" in result:\n",
    "        print(result[\"message\"])\n",
    "    elif \"content\" in result:\n",
    "        print(result[\"content\"])\n",
    "    else:\n",
    "        print(\"No expected key found in response. Available keys:\", result.keys())\n",
    "\n",
    "#範例輸入\n",
    "chat_with_ollama(\"請用簡單的方式解釋什麼是Python的函式？\")"
   ]
  },
  {
   "cell_type": "code",
   "execution_count": 3,
   "id": "0238de16",
   "metadata": {},
   "outputs": [
    {
     "name": "stdout",
     "output_type": "stream",
     "text": [
      "歡迎使用本地端 LLM 聊天機器人（輸入 q 離開）\n",
      "💬 AI 回應：\n",
      "{'model': 'llama3.2:latest', 'created_at': '2025-08-20T04:17:50.642338Z', 'response': '{}', 'done': True, 'done_reason': 'stop', 'context': [128006, 9125, 128007, 271, 38766, 1303, 33025, 2696, 25, 6790, 220, 2366, 18, 271, 128009, 128006, 882, 128007, 271, 36827, 35894, 101399, 101567, 114064, 21043, 126930, 9554, 128009, 128006, 78191, 128007, 271, 6390], 'total_duration': 649223625, 'load_duration': 540414333, 'prompt_eval_count': 33, 'prompt_eval_duration': 86627375, 'eval_count': 2, 'eval_duration': 21678417}\n",
      "{}\n",
      "💬 AI 回應：\n",
      "{'model': 'llama3.2:latest', 'created_at': '2025-08-20T04:18:34.753447Z', 'response': '{\"title\":\"天空為什麼是蓝的\",\"date\":\"2022-09-01T14:00:00.000Z\",\"contentUrl\":\"https://zh.wikipedia.org/wiki/蓝色\",\"headerImage\":null,\"footerImage\":null,\"author\":\"黄明\",\"summary\":\"\",\"tags\":[\"蓝色\",\"天空\",\"光学\",\"气候\"],\"topics\":[\"科学\",\"天气\",\"物理学\"],\"isOrganizationPost\":false,\"isArticle\":true,\"type\":\"articleSummary\",\"wordCount\":100}', 'done': True, 'done_reason': 'stop', 'context': [128006, 9125, 128007, 271, 38766, 1303, 33025, 2696, 25, 6790, 220, 2366, 18, 271, 128009, 128006, 882, 128007, 271, 36827, 35894, 101399, 101567, 114064, 21043, 126930, 9554, 128009, 128006, 78191, 128007, 271, 5018, 2150, 3332, 36827, 35894, 101399, 101567, 114064, 21043, 115427, 9554, 2247, 1045, 3332, 2366, 17, 12, 2545, 12, 1721, 51, 975, 25, 410, 25, 410, 13, 931, 57, 2247, 1834, 2934, 3332, 2485, 1129, 24752, 34466, 2726, 26583, 14, 115427, 39135, 2247, 2775, 1945, 794, 2994, 1359, 7101, 1945, 794, 2994, 1359, 3170, 3332, 105310, 31958, 2247, 1743, 61867, 14412, 37899, 115427, 39135, 2247, 36827, 35894, 2247, 101426, 48864, 2247, 102146, 103550, 69982, 56252, 37899, 108396, 2247, 36827, 102146, 2247, 118656, 48864, 69982, 285, 42674, 4226, 794, 3934, 1359, 285, 17064, 794, 1904, 1359, 1337, 3332, 7203, 19791, 2247, 1178, 2568, 794, 1041, 92], 'total_duration': 952360375, 'load_duration': 72013667, 'prompt_eval_count': 33, 'prompt_eval_duration': 45057292, 'eval_count': 107, 'eval_duration': 834823291}\n",
      "{\"title\":\"天空為什麼是蓝的\",\"date\":\"2022-09-01T14:00:00.000Z\",\"contentUrl\":\"https://zh.wikipedia.org/wiki/蓝色\",\"headerImage\":null,\"footerImage\":null,\"author\":\"黄明\",\"summary\":\"\",\"tags\":[\"蓝色\",\"天空\",\"光学\",\"气候\"],\"topics\":[\"科学\",\"天气\",\"物理学\"],\"isOrganizationPost\":false,\"isArticle\":true,\"type\":\"articleSummary\",\"wordCount\":100}\n"
     ]
    }
   ],
   "source": [
    "def chat_with_ollama(prompt: str):\n",
    "    url = \"http://host.docker.internal:11434/api/generate\"\n",
    "    payload = {\n",
    "        \"model\": \"llama3.2:latest\",\n",
    "        \"prompt\": prompt,\n",
    "        \"stream\": False,\n",
    "        \"options\": { #參考說明1\n",
    "            \"temperature\": 0.7,\n",
    "            \"top_p\": 0.9,\n",
    "            \"top_k\": 50,\n",
    "        },\n",
    "        \"max_tokens\": 100,\n",
    "        \"format\": \"json\",\n",
    "    }\n",
    "\n",
    "    response = requests.post(url, json=payload)\n",
    "    result = response.json()\n",
    "    print(\"💬 AI 回應：\")\n",
    "    # Print the whole result for debugging\n",
    "    print(result)\n",
    "    # Try to print the 'response' key if it exists, otherwise print possible keys\n",
    "    if \"response\" in result:\n",
    "        print(result[\"response\"])\n",
    "    elif \"message\" in result:\n",
    "        print(result[\"message\"])\n",
    "    elif \"content\" in result:\n",
    "        print(result[\"content\"])\n",
    "    else:\n",
    "        print(\"No expected key found in response. Available keys:\", result.keys())\n",
    "\n",
    "    \n",
    "def chat_loop():\n",
    "    print(\"歡迎使用本地端 LLM 聊天機器人（輸入 q 離開）\")\n",
    "    while True:\n",
    "        user_input = input(\"👤 你說：\")\n",
    "        if user_input.lower() == 'q':\n",
    "            break\n",
    "        chat_with_ollama(user_input)\n",
    "\n",
    "chat_loop()"
   ]
  }
 ],
 "metadata": {
  "kernelspec": {
   "display_name": "pydev",
   "language": "python",
   "name": "python3"
  },
  "language_info": {
   "codemirror_mode": {
    "name": "ipython",
    "version": 3
   },
   "file_extension": ".py",
   "mimetype": "text/x-python",
   "name": "python",
   "nbconvert_exporter": "python",
   "pygments_lexer": "ipython3",
   "version": "3.10.18"
  }
 },
 "nbformat": 4,
 "nbformat_minor": 5
}
