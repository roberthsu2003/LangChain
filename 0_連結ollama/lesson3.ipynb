{
 "cells": [
  {
   "cell_type": "code",
   "execution_count": null,
   "id": "722e11f4",
   "metadata": {},
   "outputs": [
    {
     "data": {
      "text/markdown": [
       "# 天空的藍色\n",
       "\n",
       "### Why is the Sky Blue?\n",
       "\n",
       "天空的藍色是一個古老的問題，許多人都 ingin了解這個 secret。下面我們將會一步步揭露答案。\n",
       "\n",
       "## 基礎知識\n",
       "\n",
       "天空的顏色主要是由於大氣中存在的光波的長度和強度決定。\n",
       "\n",
       "### 光波的頻率與顏色之間的關係\n",
       "\n",
       "*   視覺系統對不同的光波進行分離，形成了不同顏色的效果。\n",
       "*   蓝色是因為大氣中小波的組成，從而產生出不同長度的光波。\n",
       "\n",
       "## 天空的藍色原因\n",
       "\n",
       "### 小波和大氣中的影響\n",
       "\n",
       "*   空氣中的粒子會導致小波的反射作用，這種效應使天空呈現出蓝色的色彩。\n",
       "*   大氣中存在的大量二氧化碳也與這個情況有關，二氧化碳對光線的吸收和散射也會影響到天空的顏色。\n",
       "\n",
       "### 光線和空氣中的反射作用\n",
       "\n",
       "*   雖然空氣可以導致小波的反射，但大氣中最主要的原因是來自於微細粒子的反射。\n",
       "*   這些微粒子使小波出現分散，從而影響到天空的顏色。\n",
       "\n",
       "### 結論\n",
       "\n",
       "天空的藍色是由於大氣中的光波和微小粒子的影響。\n",
       "\n",
       "### 最终答案\n",
       "\n",
       "最終答案：天空的藍色是由於大氣中存在的小波和微小粒子導致的反射作用。"
      ],
      "text/plain": [
       "<IPython.core.display.Markdown object>"
      ]
     },
     "metadata": {},
     "output_type": "display_data"
    }
   ],
   "source": [
    "# 使用 langchain api 呼叫 ollama，並直接輸出 markdown 格式的答案\n",
    "\n",
    "from langchain_ollama import OllamaLLM\n",
    "from langchain_core.prompts import ChatPromptTemplate\n",
    "from IPython.display import display, Markdown\n",
    "\n",
    "# 定義提示模板\n",
    "template = \"\"\"問題:{question}\n",
    "輸出格式:請使用markdown語法回答\n",
    "輸出語言:繁體中文(正體中文)\n",
    "\"\"\"\n",
    "\n",
    "# 建立 langchain chain\n",
    "prompt = ChatPromptTemplate.from_template(template)\n",
    "llm = OllamaLLM(model=\"llama3.2:latest\")\n",
    "\n",
    "#在 Python 中，| 原本是位元運算的 OR，但在這裡是 LangChain 特別實作的「管道運算子」，用來串接多個物件（如 prompt 和 llm），讓資料流程自動傳遞。\n",
    "chain = prompt | llm \n",
    "\n",
    "\n",
    "\n",
    "# 直接輸入問題並顯示 markdown 格式答案\n",
    "question = \"天空為什麼是藍色的？\"  # 你可以修改這裡的問題\n",
    "\n",
    "result = chain.invoke({\"question\": question})\n",
    "\n",
    "# 若回傳為字典，取 'content' 欄位\n",
    "if isinstance(result, dict) and 'content' in result:\n",
    "    display(Markdown(result['content']))\n",
    "else:\n",
    "    display(Markdown(str(result)))\n"
   ]
  }
 ],
 "metadata": {
  "kernelspec": {
   "display_name": "langchain",
   "language": "python",
   "name": "python3"
  },
  "language_info": {
   "codemirror_mode": {
    "name": "ipython",
    "version": 3
   },
   "file_extension": ".py",
   "mimetype": "text/x-python",
   "name": "python",
   "nbconvert_exporter": "python",
   "pygments_lexer": "ipython3",
   "version": "3.11.13"
  }
 },
 "nbformat": 4,
 "nbformat_minor": 5
}
