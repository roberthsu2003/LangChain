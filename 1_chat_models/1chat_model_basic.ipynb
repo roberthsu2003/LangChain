{
 "cells": [
  {
   "cell_type": "markdown",
   "id": "9303ab89",
   "metadata": {},
   "source": [
    "用途：示範如何使用多家提供者的 chat model（OpenAI / Anthropic / Google）來呼叫並取得回應。\n",
    "\n",
    "重點：\n",
    "- 以 `langchain_openai.ChatOpenAI`、`ChatAnthropic`、`ChatGoogleGenerativeAI` 等建立模型。\n",
    "- 範例使用 `SystemMessage` 與 `HumanMessage` 的 messages 列表作為輸入。\n",
    "- 示範單次呼叫與在 messages 中包含先前 AI 回應再續問的情境。\n",
    "\n",
    "依賴：`python-dotenv`、`langchain_openai`、`langchain_anthropic`、`langchain_google_genai`、`langchain_core`。\n",
    "\n",
    "執行要點：載入 `.env` 後，用適當的環境變數（API key / project config）呼叫 `model.invoke(messages)`。\n",
    "\n"
   ]
  },
  {
   "cell_type": "code",
   "execution_count": null,
   "id": "ef9d795e",
   "metadata": {},
   "outputs": [],
   "source": [
    "!pip install python-dotenv\n",
    "!pip install langchain-google-genai"
   ]
  },
  {
   "cell_type": "code",
   "execution_count": 9,
   "id": "91434f88",
   "metadata": {},
   "outputs": [
    {
     "name": "stdout",
     "output_type": "stream",
     "text": [
      "<class 'langchain_core.messages.ai.AIMessage'>\n",
      "所有答案\n",
      "content='81除以9的答案是 **9**。' additional_kwargs={} response_metadata={'prompt_feedback': {'block_reason': 0, 'safety_ratings': []}, 'finish_reason': 'STOP', 'model_name': 'gemini-2.5-flash', 'safety_ratings': []} id='run--fe5417bc-bb26-489b-9968-635982986a60-0' usage_metadata={'input_tokens': 10, 'output_tokens': 48, 'total_tokens': 58, 'input_token_details': {'cache_read': 0}, 'output_token_details': {'reasoning': 36}}\n",
      "回答內容是\n",
      "81除以9的答案是 **9**。\n"
     ]
    }
   ],
   "source": [
    "#google\n",
    "# Chat Model Documents:https://python.langchain.com/docs/integrations/chat/\n",
    "# Google Chat Model Documents: https://python.langchain.com/docs/integrations/chat/google_generative_ai/\n",
    "\n",
    "from dotenv import load_dotenv\n",
    "from langchain_google_genai import ChatGoogleGenerativeAI\n",
    "\n",
    "# Load environment variables from .env\n",
    "load_dotenv()\n",
    "\n",
    "# Create a ChatGoogleGenerativeAI model\n",
    "model = ChatGoogleGenerativeAI(model=\"gemini-2.5-flash\")\n",
    "\n",
    "#Invoke the model with a message\n",
    "result = model.invoke(\"81除以9的答案是?\")\n",
    "print(type(result))\n",
    "print(\"所有答案\")\n",
    "print(result)\n",
    "print(\"回答內容是\")\n",
    "print(result.content)\n"
   ]
  },
  {
   "cell_type": "code",
   "execution_count": 8,
   "id": "e3f070f6",
   "metadata": {},
   "outputs": [
    {
     "name": "stdout",
     "output_type": "stream",
     "text": [
      "<class 'langchain_core.messages.ai.AIMessage'>\n",
      "所有答案\n",
      "content='81 ÷ 9 = 9。因为 9 × 9 = 81。' additional_kwargs={'refusal': None} response_metadata={'token_usage': {'completion_tokens': 92, 'prompt_tokens': 14, 'total_tokens': 106, 'completion_tokens_details': {'accepted_prediction_tokens': 0, 'audio_tokens': 0, 'reasoning_tokens': 64, 'rejected_prediction_tokens': 0}, 'prompt_tokens_details': {'audio_tokens': 0, 'cached_tokens': 0}}, 'model_name': 'gpt-5-mini-2025-08-07', 'system_fingerprint': None, 'id': 'chatcmpl-CHJVJGyIlqfqABVjoSb2Knjnb2t4s', 'service_tier': 'default', 'finish_reason': 'stop', 'logprobs': None} id='run--841a3976-ccf0-4c44-8f58-73d6416aae5a-0' usage_metadata={'input_tokens': 14, 'output_tokens': 92, 'total_tokens': 106, 'input_token_details': {'audio': 0, 'cache_read': 0}, 'output_token_details': {'audio': 0, 'reasoning': 64}}\n",
      "回答內容是\n",
      "81 ÷ 9 = 9。因为 9 × 9 = 81。\n"
     ]
    }
   ],
   "source": [
    "#openapi\n",
    "# Chat Model Documents:https://python.langchain.com/docs/integrations/chat/\n",
    "# Google Chat Model Documents:https://python.langchain.com/docs/integrations/chat/openai/ \n",
    "\n",
    "from dotenv import load_dotenv\n",
    "from langchain_openai import ChatOpenAI\n",
    "\n",
    "# Load environment variables from .env\n",
    "load_dotenv()\n",
    "\n",
    "# Create a ChatOpenAI model\n",
    "model = ChatOpenAI(model=\"gpt-5-mini\")\n",
    "\n",
    "# Invoke the model with a message\n",
    "result = model.invoke(\"81除以9的答案是?\")\n",
    "print(type(result))\n",
    "print(\"所有答案\")\n",
    "print(result)\n",
    "print(\"回答內容是\")\n",
    "print(result.content)"
   ]
  },
  {
   "cell_type": "code",
   "execution_count": 7,
   "id": "d0d39f46",
   "metadata": {},
   "outputs": [
    {
     "name": "stdout",
     "output_type": "stream",
     "text": [
      "<class 'langchain_core.messages.ai.AIMessage'>\n",
      "所有答案\n",
      "content='81 ÷ 9 = 9' additional_kwargs={} response_metadata={'id': 'msg_01DgB3pthzK2MCa3raf9c2LT', 'model': 'claude-3-5-sonnet-20241022', 'stop_reason': 'end_turn', 'stop_sequence': None, 'usage': {'cache_creation': {'ephemeral_1h_input_tokens': 0, 'ephemeral_5m_input_tokens': 0}, 'cache_creation_input_tokens': 0, 'cache_read_input_tokens': 0, 'input_tokens': 17, 'output_tokens': 16, 'server_tool_use': None, 'service_tier': 'standard'}, 'model_name': 'claude-3-5-sonnet-20241022'} id='run--191d23a9-3e50-4e0f-83c5-8c286622c9e1-0' usage_metadata={'input_tokens': 17, 'output_tokens': 16, 'total_tokens': 33, 'input_token_details': {'cache_read': 0, 'cache_creation': 0, 'ephemeral_5m_input_tokens': 0, 'ephemeral_1h_input_tokens': 0}}\n",
      "回答內容是\n",
      "81 ÷ 9 = 9\n"
     ]
    }
   ],
   "source": [
    "#anthropic api\n",
    "# Chat Model Documents:https://python.langchain.com/docs/integrations/chat/\n",
    "# Google Chat Model Documents:https://python.langchain.com/docs/integrations/chat/anthropic/ \n",
    "\n",
    "from dotenv import load_dotenv\n",
    "from langchain_anthropic import ChatAnthropic\n",
    "\n",
    "# Load environment variables from .env\n",
    "load_dotenv()\n",
    "\n",
    "# Create a ChatAnthropic model\n",
    "model = ChatAnthropic(model=\"claude-3-5-sonnet-latest\")\n",
    "\n",
    "\n",
    "# Invoke the model with a message\n",
    "result = model.invoke(\"81除以9的答案是?\")\n",
    "print(type(result))\n",
    "print(\"所有答案\")\n",
    "print(result)\n",
    "print(\"回答內容是\")\n",
    "print(result.content)"
   ]
  },
  {
   "cell_type": "code",
   "execution_count": 6,
   "id": "e739e686",
   "metadata": {},
   "outputs": [
    {
     "name": "stdout",
     "output_type": "stream",
     "text": [
      "<class 'langchain_core.messages.ai.AIMessage'>\n",
      "所有答案\n",
      "content='81除以9的结果为：9' additional_kwargs={} response_metadata={'model': 'llama3.2:latest', 'created_at': '2025-09-19T00:42:19.021731Z', 'done': True, 'done_reason': 'stop', 'total_duration': 174770125, 'load_duration': 56836042, 'prompt_eval_count': 33, 'prompt_eval_duration': 49284125, 'eval_count': 10, 'eval_duration': 68289333, 'model_name': 'llama3.2:latest'} id='run--58dee89a-576e-440d-aca2-9c1eb71d4e8e-0' usage_metadata={'input_tokens': 33, 'output_tokens': 10, 'total_tokens': 43}\n",
      "回答內容是\n",
      "81除以9的结果为：9\n"
     ]
    }
   ],
   "source": [
    "#ollama api\n",
    "# Chat Model Documents:https://python.langchain.com/docs/integrations/chat/\n",
    "# Google Chat Model Documents:https://python.langchain.com/docs/integrations/chat/ollama/\n",
    "\n",
    "\n",
    "from langchain_ollama import ChatOllama\n",
    "\n",
    "\n",
    "# Create a ChatOllama model\n",
    "# 透過網址的方式連結ollama (指定 base_url 指向 Ollama server)\n",
    "# 預設 Ollama server 在本機的 11434 埠，若在其他主機或埠請改成相對應的網址\n",
    "\n",
    "#model = ChatOllama(model=\"llama3.2:latest\", base_url=\"http://host.docker.internal:11434\")\n",
    "model = ChatOllama(model=\"llama3.2:latest\",base_url=\"http://localhost:11434\")\n",
    "\n",
    "\n",
    "# Invoke the model with a message\n",
    "result = model.invoke(\"81除以9的答案是?\")\n",
    "print(type(result))\n",
    "print(\"所有答案\")\n",
    "print(result)\n",
    "print(\"回答內容是\")\n",
    "print(result.content)"
   ]
  }
 ],
 "metadata": {
  "kernelspec": {
   "display_name": "langchain",
   "language": "python",
   "name": "python3"
  },
  "language_info": {
   "codemirror_mode": {
    "name": "ipython",
    "version": 3
   },
   "file_extension": ".py",
   "mimetype": "text/x-python",
   "name": "python",
   "nbconvert_exporter": "python",
   "pygments_lexer": "ipython3",
   "version": "3.11.13"
  }
 },
 "nbformat": 4,
 "nbformat_minor": 5
}
