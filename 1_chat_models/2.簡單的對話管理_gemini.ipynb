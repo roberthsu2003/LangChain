{
 "cells": [
  {
   "cell_type": "code",
   "execution_count": 1,
   "id": "19deece5",
   "metadata": {},
   "outputs": [
    {
     "name": "stdout",
     "output_type": "stream",
     "text": [
      "google Ai的回答:81除以9等於 **9**。\n",
      "google Ai的回答:10 乘以 5 等於 **50**。\n"
     ]
    }
   ],
   "source": [
    "from dotenv import load_dotenv\n",
    "from langchain_google_genai import ChatGoogleGenerativeAI\n",
    "from langchain_core.messages import AIMessage, HumanMessage, SystemMessage\n",
    "\n",
    "load_dotenv()\n",
    "model = ChatGoogleGenerativeAI(model=\"gemini-2.5-flash\")\n",
    "\n",
    "message = [\n",
    "    SystemMessage(content=\"解決下面的數學問題\"),\n",
    "    HumanMessage(content=\"81除以9?\")    \n",
    "]\n",
    "\n",
    "result = model.invoke(message)\n",
    "print(f\"google Ai的回答:{result.content}\")\n",
    "\n",
    "message = [\n",
    "    SystemMessage(content=\"解決下面的數學問題\"),\n",
    "    HumanMessage(content=\"81除以9?\"),\n",
    "    AIMessage(content = result.content),\n",
    "    HumanMessage(content=\"10乘以5?\")   \n",
    "]\n",
    "\n",
    "result = model.invoke(message)\n",
    "print(f\"google Ai的回答:{result.content}\")"
   ]
  }
 ],
 "metadata": {
  "kernelspec": {
   "display_name": "langchain",
   "language": "python",
   "name": "python3"
  },
  "language_info": {
   "codemirror_mode": {
    "name": "ipython",
    "version": 3
   },
   "file_extension": ".py",
   "mimetype": "text/x-python",
   "name": "python",
   "nbconvert_exporter": "python",
   "pygments_lexer": "ipython3",
   "version": "3.11.13"
  }
 },
 "nbformat": 4,
 "nbformat_minor": 5
}
