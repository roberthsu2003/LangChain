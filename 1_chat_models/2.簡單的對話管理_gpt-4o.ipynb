{
 "cells": [
  {
   "cell_type": "code",
   "execution_count": 1,
   "id": "25f4b087",
   "metadata": {},
   "outputs": [
    {
     "name": "stdout",
     "output_type": "stream",
     "text": [
      "Answer from AI: 81 divided by 9 is 9.\n",
      "Answer from AI: 10 times 5 is 50.\n"
     ]
    }
   ],
   "source": [
    "from dotenv import load_dotenv\n",
    "from langchain_core.messages import AIMessage, HumanMessage, SystemMessage\n",
    "from langchain_openai import ChatOpenAI\n",
    "\n",
    "# 從 .env 檔案載入環境變數\n",
    "load_dotenv()\n",
    "\n",
    "# 建立一個 ChatOpenAI 模型\n",
    "model = ChatOpenAI(model=\"gpt-4o\")\n",
    "\n",
    "# SystemMessage（系統訊息）:\n",
    "#   用於設定 AI 行為的訊息，通常作為輸入訊息序列中的第一個訊息傳入\n",
    "# HumanMessage（人類訊息）:\n",
    "#   從人類傳送給 AI 模型的訊息\n",
    "messages = [\n",
    "    SystemMessage(content=\"Solve the following math problems\"),\n",
    "    HumanMessage(content=\"What is 81 divided by 9?\"),\n",
    "]\n",
    "\n",
    "# 使用訊息調用模型\n",
    "result = model.invoke(messages)\n",
    "print(f\"Answer from AI: {result.content}\")\n",
    "\n",
    "\n",
    "# AIMessage（AI 訊息）:\n",
    "#   來自 AI 的訊息\n",
    "messages = [\n",
    "    SystemMessage(content=\"Solve the following math problems\"),\n",
    "    HumanMessage(content=\"What is 81 divided by 9?\"),\n",
    "    AIMessage(content=result.content),\n",
    "    HumanMessage(content=\"What is 10 times 5?\"),\n",
    "]\n",
    "\n",
    "# 使用訊息調用模型\n",
    "result = model.invoke(messages)\n",
    "print(f\"Answer from AI: {result.content}\")\n"
   ]
  }
 ],
 "metadata": {
  "kernelspec": {
   "display_name": "langchain",
   "language": "python",
   "name": "python3"
  },
  "language_info": {
   "codemirror_mode": {
    "name": "ipython",
    "version": 3
   },
   "file_extension": ".py",
   "mimetype": "text/x-python",
   "name": "python",
   "nbconvert_exporter": "python",
   "pygments_lexer": "ipython3",
   "version": "3.11.13"
  }
 },
 "nbformat": 4,
 "nbformat_minor": 5
}
