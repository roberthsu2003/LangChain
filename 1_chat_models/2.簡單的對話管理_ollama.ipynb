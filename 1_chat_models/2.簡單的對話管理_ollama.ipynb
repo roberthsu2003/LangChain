{
 "cells": [
  {
   "cell_type": "code",
   "execution_count": 8,
   "id": "19deece5",
   "metadata": {},
   "outputs": [
    {
     "name": "stdout",
     "output_type": "stream",
     "text": [
      "ollama ai的回答:答案：9\n",
      "ollama ai的回答:答案：50\n"
     ]
    }
   ],
   "source": [
    "from langchain_ollama.llms import OllamaLLM\n",
    "from langchain_core.messages import AIMessage, HumanMessage, SystemMessage\n",
    "\n",
    "model = OllamaLLM(model=\"llama3.2:latest\")\n",
    "message = [\n",
    "    SystemMessage(content=\"解決下面的數學問題,請以繁體中文回答\"),\n",
    "    HumanMessage(content=\"81除以9?\")    \n",
    "]\n",
    "\n",
    "result = model.invoke(message)\n",
    "print(f\"ollama ai的回答:{result}\")\n",
    "\n",
    "message = [\n",
    "    SystemMessage(content=\"解決下面的數學問題\"),\n",
    "    HumanMessage(content=\"81除以9?\"),\n",
    "    AIMessage(content = result),\n",
    "    HumanMessage(content=\"10乘以5?\")   \n",
    "]\n",
    "\n",
    "result = model.invoke(message)\n",
    "print(f\"ollama ai的回答:{result}\")"
   ]
  }
 ],
 "metadata": {
  "kernelspec": {
   "display_name": "langchain",
   "language": "python",
   "name": "python3"
  },
  "language_info": {
   "codemirror_mode": {
    "name": "ipython",
    "version": 3
   },
   "file_extension": ".py",
   "mimetype": "text/x-python",
   "name": "python",
   "nbconvert_exporter": "python",
   "pygments_lexer": "ipython3",
   "version": "3.11.13"
  }
 },
 "nbformat": 4,
 "nbformat_minor": 5
}
