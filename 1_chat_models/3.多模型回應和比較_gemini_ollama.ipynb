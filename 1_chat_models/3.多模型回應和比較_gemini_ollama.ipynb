{
 "cells": [
  {
   "cell_type": "code",
   "execution_count": 2,
   "id": "8bc01efd",
   "metadata": {},
   "outputs": [
    {
     "name": "stdout",
     "output_type": "stream",
     "text": [
      "Google 回答：81 除以 9 等於 **9**。\n",
      "Ollama 回答：問題是：81 除以 9 等於多少？\n",
      "\n",
      "答案是：9。\n"
     ]
    }
   ],
   "source": [
    "from langchain_google_genai import ChatGoogleGenerativeAI\n",
    "from langchain_ollama.llms import OllamaLLM\n",
    "from langchain_core.messages import HumanMessage, SystemMessage\n",
    "from dotenv import load_dotenv\n",
    "\n",
    "# 載入 .env 檔案中的環境變數\n",
    "load_dotenv()\n",
    "\n",
    "messages = [\n",
    "    SystemMessage(content=\"請解決以下數學問題\"),\n",
    "    HumanMessage(content=\"81 除以 9 等於多少？\"),\n",
    "]\n",
    "\n",
    "# 使用 Google Gemini 模型\n",
    "model = ChatGoogleGenerativeAI(model=\"gemini-2.5-flash\")\n",
    "result = model.invoke(messages)\n",
    "print(f\"Google 回答：{result.content}\")\n",
    "\n",
    "# 使用 Ollama Llama3 模型\n",
    "model = OllamaLLM(model=\"llama3.2:latest\")\n",
    "result = model.invoke(messages)\n",
    "print(f\"Ollama 回答：{result}\")\n"
   ]
  }
 ],
 "metadata": {
  "kernelspec": {
   "display_name": "langchain",
   "language": "python",
   "name": "python3"
  },
  "language_info": {
   "codemirror_mode": {
    "name": "ipython",
    "version": 3
   },
   "file_extension": ".py",
   "mimetype": "text/x-python",
   "name": "python",
   "nbconvert_exporter": "python",
   "pygments_lexer": "ipython3",
   "version": "3.11.13"
  }
 },
 "nbformat": 4,
 "nbformat_minor": 5
}
