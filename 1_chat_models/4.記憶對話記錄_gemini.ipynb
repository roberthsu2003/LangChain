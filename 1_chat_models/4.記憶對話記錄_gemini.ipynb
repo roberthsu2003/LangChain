{
 "cells": [
  {
   "cell_type": "code",
   "execution_count": null,
   "id": "b75fc90f",
   "metadata": {},
   "outputs": [],
   "source": [
    "from dotenv import load_dotenv\n",
    "from langchain_google_genai import ChatGoogleGenerativeAI\n",
    "from langchain.schema import AIMessage, HumanMessage, SystemMessage\n",
    "\n",
    "# 從 .env 檔案載入環境變數\n",
    "load_dotenv()\n",
    "\n",
    "# 建立一個 ChatOpenAI 模型\n",
    "model = ChatGoogleGenerativeAI(model=\"gemini-2.5-flash\")\n",
    "\n",
    "chat_history = []  # 使用串列來儲存訊息\n",
    "\n",
    "# 設定初始的系統訊息（可選）\n",
    "system_message = SystemMessage(content=\"你是一個樂於助人的 AI 助理。\")\n",
    "chat_history.append(system_message)  # 將系統訊息加入對話歷史\n",
    "\n",
    "# 聊天迴圈\n",
    "while True:\n",
    "    query = input(\"你：\")\n",
    "    if query.lower() == \"exit\":\n",
    "        break\n",
    "    chat_history.append(HumanMessage(content=query))  # 加入使用者訊息\n",
    "\n",
    "    # 使用對話歷史獲取 AI 回應\n",
    "    result = model.invoke(chat_history)  # 注意這裡，result 是 AIMessage\n",
    "    response = result.content\n",
    "    chat_history.append(AIMessage(content=response))  # 加入 AI 訊息\n",
    "\n",
    "    print(f\"AI：{response}\")\n",
    "\n",
    "print(\"---- 對話歷史 ----\")\n",
    "print(chat_history)\n"
   ]
  }
 ],
 "metadata": {
  "kernelspec": {
   "display_name": "langchain",
   "language": "python",
   "name": "python3"
  },
  "language_info": {
   "name": "python",
   "version": "3.11.13"
  }
 },
 "nbformat": 4,
 "nbformat_minor": 5
}
