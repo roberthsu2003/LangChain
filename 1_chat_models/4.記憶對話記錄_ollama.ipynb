{
 "cells": [
  {
   "cell_type": "code",
   "execution_count": null,
   "id": "b30a378b",
   "metadata": {},
   "outputs": [],
   "source": [
    "from dotenv import load_dotenv\n",
    "from langchain.schema import AIMessage, HumanMessage, SystemMessage\n",
    "from langchain_ollama.llms import OllamaLLM\n",
    "\n",
    "# 從 .env 檔案載入環境變數\n",
    "load_dotenv()\n",
    "\n",
    "# 建立 Ollama 模型\n",
    "model = OllamaLLM(model=\"llama3.2:latest\")\n",
    "\n",
    "chat_history = []  # 用來儲存訊息的列表\n",
    "\n",
    "# 設定初始的系統訊息（可選）\n",
    "system_message = SystemMessage(content=\"你是一個樂於助人的 AI 助手。\")\n",
    "chat_history.append(system_message)  # 將系統訊息加入對話歷史\n",
    "\n",
    "# 對話迴圈\n",
    "while True:\n",
    "    query = input(\"你：\")\n",
    "    if query.lower() == \"exit\":\n",
    "        break\n",
    "    chat_history.append(HumanMessage(content=query))  # 加入使用者訊息\n",
    "\n",
    "    # 使用對話歷史獲取 AI 回應\n",
    "    result = model.invoke(chat_history)\n",
    "    response = result\n",
    "    chat_history.append(AIMessage(content=response))  # 加入 AI 訊息\n",
    "\n",
    "    print(f\"AI：{response}\")\n",
    "\n",
    "print(\"---- 對話歷史 ----\")\n",
    "print(chat_history)\n"
   ]
  }
 ],
 "metadata": {
  "kernelspec": {
   "display_name": "langchain",
   "language": "python",
   "name": "python3"
  },
  "language_info": {
   "codemirror_mode": {
    "name": "ipython",
    "version": 3
   },
   "file_extension": ".py",
   "mimetype": "text/x-python",
   "name": "python",
   "nbconvert_exporter": "python",
   "pygments_lexer": "ipython3",
   "version": "3.11.13"
  }
 },
 "nbformat": 4,
 "nbformat_minor": 5
}
