{
 "cells": [
  {
   "cell_type": "markdown",
   "metadata": {},
   "source": [
    "# 1. 基本鏈 (Chains Basics) - Gemini 版本\n",
    "\n",
    "本範例展示 LangChain 的基本鏈概念，建立一個簡單的郵件回覆系統。\n",
    "\n",
    "## 學習重點\n",
    "- 理解 LangChain 鏈的基本概念\n",
    "- 學習如何使用 LCEL (LangChain Expression Language)\n",
    "- 掌握 Prompt Template、LLM 和 Output Parser 的組合\n",
    "- 建立第一個完整的 AI 應用鏈\n"
   ]
  },
  {
   "cell_type": "code",
   "execution_count": null,
   "metadata": {},
   "outputs": [],
   "source": [
    "# 導入必要的套件\n",
    "from dotenv import load_dotenv\n",
    "from langchain.prompts import ChatPromptTemplate\n",
    "from langchain.schema.output_parser import StrOutputParser\n",
    "from langchain_google_genai import ChatGoogleGenerativeAI\n",
    "\n",
    "# 載入環境變數\n",
    "load_dotenv()\n",
    "\n",
    "# 建立 Gemini 模型\n",
    "model = ChatGoogleGenerativeAI(model=\"gemini-flash-2.5\")\n"
   ]
  },
  {
   "cell_type": "code",
   "execution_count": null,
   "metadata": {},
   "outputs": [],
   "source": [
    "# 定義提示模板 - 建立郵件回覆系統\n",
    "prompt_template = ChatPromptTemplate.from_messages(\n",
    "    [\n",
    "        (\"system\", \"你是一個專業的客服代表，負責回覆客戶郵件。請用友善、專業的語調回覆。\"),\n",
    "        (\"human\", \"請回覆這封客戶郵件：\\n\\n{email_content}\"),\n",
    "    ]\n",
    ")\n"
   ]
  },
  {
   "cell_type": "code",
   "execution_count": null,
   "metadata": {},
   "outputs": [],
   "source": [
    "# 建立基本的鏈\n",
    "# 使用 LCEL (LangChain Expression Language) 語法\n",
    "# 鏈的流程：Prompt Template → LLM → Output Parser\n",
    "chain = prompt_template | model | StrOutputParser()\n",
    "\n",
    "print(\"基本鏈已建立完成！\")\n",
    "print(\"鏈的結構：Prompt Template → LLM → Output Parser\")\n"
   ]
  },
  {
   "cell_type": "code",
   "execution_count": null,
   "metadata": {},
   "outputs": [],
   "source": [
    "# 執行基本鏈 - 測試郵件回覆系統\n",
    "customer_email = \"\"\"\n",
    "您好，\n",
    "\n",
    "我最近購買了貴公司的產品，但是發現包裝有損壞。\n",
    "請問可以退貨或換貨嗎？\n",
    "\n",
    "王小明\n",
    "\"\"\"\n",
    "\n",
    "result = chain.invoke({\"email_content\": customer_email})\n",
    "\n",
    "# 輸出結果\n",
    "print(\"=\" * 60)\n",
    "print(\"智能郵件回覆系統處理結果：\")\n",
    "print(\"=\" * 60)\n",
    "print(result)\n"
   ]
  },
  {
   "cell_type": "markdown",
   "metadata": {},
   "source": [
    "## 💡 重點說明\n",
    "\n",
    "### 基本鏈的組成\n",
    "\n",
    "1. **Prompt Template**: 定義輸入格式和系統提示\n",
    "2. **LLM**: 大語言模型，負責生成回應\n",
    "3. **Output Parser**: 解析模型輸出為所需格式\n",
    "\n",
    "### LCEL 語法\n",
    "\n",
    "```python\n",
    "# 使用管道符號 | 連接各個組件\n",
    "chain = prompt_template | model | StrOutputParser()\n",
    "```\n",
    "\n",
    "### 鏈的執行流程\n",
    "\n",
    "1. **輸入**: 客戶郵件內容\n",
    "2. **格式化**: Prompt Template 將輸入格式化為完整的提示\n",
    "3. **生成**: LLM 根據提示生成回覆\n",
    "4. **解析**: Output Parser 將模型輸出解析為字串\n",
    "5. **輸出**: 最終的郵件回覆\n",
    "\n",
    "## 🔧 實際應用場景\n",
    "\n",
    "- **客服系統**: 自動回覆客戶郵件\n",
    "- **內容生成**: 根據模板生成各種內容\n",
    "- **問答系統**: 回答用戶問題\n",
    "- **翻譯服務**: 語言翻譯應用\n"
   ]
  },
  {
   "cell_type": "markdown",
   "metadata": {},
   "source": []
  },
  {
   "cell_type": "markdown",
   "metadata": {},
   "source": [
    "# 1. 基礎鏈 (Chains Basics) - Ollama 版本\n",
    "\n",
    "本範例展示最基本的 LangChain Expression Language (LCEL) 鏈組合，建立一個簡單的問答系統。\n",
    "\n",
    "## 學習重點\n",
    "- 理解 LCEL 的管道符號 `|` 用法\n",
    "- 學習基本的鏈組合方式\n",
    "- 了解如何將多個元件串聯起來\n",
    "- 建立實用的問答系統\n"
   ]
  },
  {
   "cell_type": "code",
   "execution_count": null,
   "metadata": {},
   "outputs": [],
   "source": [
    "# 導入必要的套件\n",
    "from dotenv import load_dotenv\n",
    "from langchain.prompts import ChatPromptTemplate\n",
    "from langchain.schema.output_parser import StrOutputParser\n",
    "from langchain_google_genai import ChatGoogleGenerativeAI\n",
    "\n",
    "# 載入環境變數\n",
    "load_dotenv()\n",
    "\n",
    "# 建立 Ollama 模型\n",
    "model = ChatGoogleGenerativeAI(model=\"gemini-flash-2.5\")\n"
   ]
  },
  {
   "cell_type": "code",
   "execution_count": null,
   "metadata": {},
   "outputs": [],
   "source": [
    "# 定義提示模板 - 建立一個友善的問答助手\n",
    "prompt_template = ChatPromptTemplate.from_messages(\n",
    "    [\n",
    "        (\"system\", \"你是一個友善且專業的助手，專門回答關於 {topic} 的問題。請用簡單易懂的方式解釋。\"),\n",
    "        (\"human\", \"請回答這個問題：{question}\"),\n",
    "    ]\n",
    ")\n"
   ]
  },
  {
   "cell_type": "code",
   "execution_count": null,
   "metadata": {},
   "outputs": [],
   "source": [
    "# 使用 LangChain Expression Language (LCEL) 建立組合鏈\n",
    "# 管道符號 | 表示：將左邊元件的輸出傳遞給右邊的元件\n",
    "chain = prompt_template | model | StrOutputParser()\n",
    "\n",
    "print(\"鏈已建立完成！\")\n",
    "print(\"鏈的結構：Prompt Template → LLM → Output Parser\")\n"
   ]
  },
  {
   "cell_type": "code",
   "execution_count": null,
   "metadata": {},
   "outputs": [],
   "source": [
    "# 執行鏈 - 測試問答系統\n",
    "result = chain.invoke({\n",
    "    \"topic\": \"人工智慧\", \n",
    "    \"question\": \"什麼是機器學習？\"\n",
    "})\n",
    "\n",
    "# 輸出結果\n",
    "print(\"=\" * 50)\n",
    "print(\"問答系統回應：\")\n",
    "print(\"=\" * 50)\n",
    "print(result)\n"
   ]
  },
  {
   "cell_type": "markdown",
   "metadata": {},
   "source": [
    "## 💡 重點說明\n",
    "\n",
    "1. **LCEL 語法**: `prompt_template | model | StrOutputParser()` 使用管道符號 `|` 來串聯元件\n",
    "2. **資料流向**: 輸入 → Prompt Template → LLM → Output Parser → 輸出\n",
    "3. **自動化**: 一旦建立鏈，整個流程就可以自動執行\n",
    "4. **模組化**: 每個元件都可以獨立替換或修改\n",
    "\n",
    "## 🔧 實際應用場景\n",
    "\n",
    "- **客服系統**: 回答常見問題\n",
    "- **學習助手**: 解釋學科概念\n",
    "- **技術支援**: 提供解決方案\n",
    "- **內容生成**: 根據主題回答問題\n"
   ]
  }
 ],
 "metadata": {
  "language_info": {
   "name": "python"
  }
 },
 "nbformat": 4,
 "nbformat_minor": 2
}
