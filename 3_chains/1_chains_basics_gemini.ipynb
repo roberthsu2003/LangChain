{
  "cells": [
    {
      "cell_type": "markdown",
      "metadata": {},
      "source": [
        "# 1. 基礎鏈 (Chains Basics) - Gemini 版本\n",
        "\n",
        "本範例展示最基本的 LangChain Expression Language (LCEL) 鏈組合，建立一個簡單的問答系統。\n",
        "\n",
        "## 學習重點\n",
        "- 理解 LCEL 的管道符號 `|` 用法\n",
        "- 學習基本的鏈組合方式\n",
        "- 了解如何將多個元件串聯起來\n",
        "- 建立實用的問答系統\n"
      ]
    },
    {
      "cell_type": "code",
      "execution_count": null,
      "metadata": {},
      "outputs": [],
      "source": [
        "# 導入必要的套件\n",
        "from dotenv import load_dotenv\n",
        "from langchain.prompts import ChatPromptTemplate\n",
        "from langchain.schema.output_parser import StrOutputParser\n",
        "from langchain_google_genai import ChatGoogleGenerativeAI\n",
        "\n",
        "# 載入環境變數\n",
        "load_dotenv()\n",
        "\n",
        "# 建立 Gemini 模型\n",
        "model = ChatGoogleGenerativeAI(model=\"gemini-1.5-flash-latest\")\n"
      ]
    },
    {
      "cell_type": "code",
      "execution_count": null,
      "metadata": {},
      "outputs": [],
      "source": [
        "# 定義提示模板 - 建立一個友善的問答助手\n",
        "prompt_template = ChatPromptTemplate.from_messages(\n",
        "    [ \n",
        "        (\"system\", \"你是一個友善且專業的助手，專門回答關於 {topic} 的問題。請用簡單易懂的方式解釋。\"),\n",
        "        (\"human\", \"請回答這個問題：{question}\"),\n",
        "    ]\n",
        ")\n"
      ]
    },
    {
      "cell_type": "code",
      "execution_count": null,
      "metadata": {},
      "outputs": [],
      "source": [
        "# 使用 LangChain Expression Language (LCEL) 建立組合鏈\n",
        "# 管道符號 | 表示：將左邊元件的輸出傳遞給右邊的元件\n",
        "chain = prompt_template | model | StrOutputParser()\n",
        "\n",
        "print(\"鏈已建立完成！\")\n",
        "print(\"鏈的結構：Prompt Template → LLM → Output Parser\")\n"
      ]
    },
    {
      "cell_type": "code",
      "execution_count": null,
      "metadata": {},
      "outputs": [],
      "source": [
        "# 執行鏈 - 測試問答系統\n",
        "result = chain.invoke({\n",
        "    \"topic\": \"人工智慧\", \n",
        "    \"question\": \"什麼是機器學習？\"\n",
        "})\n",
        "\n",
        "# 輸出結果\n",
        "print(\"=" * 50)\n",
        "print(\"問答系統回應：\")\n",
        "print(\"=" * 50)\n",
        "print(result)\n"
      ]
    },
    {
      "cell_type": "markdown",
      "metadata": {},
      "source": [
        "## 💡 重點說明\n",
        "\n",
        "1. **LCEL 語法**: `prompt_template | model | StrOutputParser()` 使用管道符號 `|` 來串聯元件\n",
        "2. **資料流向**: 輸入 → Prompt Template → LLM → Output Parser → 輸出\n",
        "3. **自動化**: 一旦建立鏈，整個流程就可以自動執行\n",
        "4. **模組化**: 每個元件都可以獨立替換或修改\n",
        "\n",
        "## 🔧 實際應用場景\n",
        "\n",
        "- **客服系統**: 回答常見問題\n",
        "- **學習助手**: 解釋學科概念\n",
        "- **技術支援**: 提供解決方案\n",
        "- **內容生成**: 根據主題回答問題\n"
      ]
    }
  ],
  "metadata": {
    "kernelspec": {
      "display_name": ".venv",
      "language": "python",
      "name": "python3"
    },
    "language_info": {
      "name": "python",
      "version": "3.11.13"
    }
  },
  "nbformat": 4,
  "nbformat_minor": 2
}