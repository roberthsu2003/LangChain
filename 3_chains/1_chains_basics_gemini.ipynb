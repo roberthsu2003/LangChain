{
  "cells": [
    {
      "cell_type": "markdown",
      "metadata": {},
      "source": [
        "# 1. 基礎鏈 (Chains Basics) - Gemini 版本\n",
        "\n",
        "本範例展示最基本的 LangChain Expression Language (LCEL) 鏈組合，包含：\n",
        "- Prompt Template → LLM → Output Parser\n",
        "\n",
        "## 學習重點\n",
        "- 理解 LCEL 的管道符號 `|` 用法\n",
        "- 學習基本的鏈組合方式\n",
        "- 了解如何將多個元件串聯起來\n"
      ]
    },
    {
      "cell_type": "code",
      "execution_count": null,
      "metadata": {},
      "outputs": [],
      "source": [
        "# 導入必要的套件\n",
        "from dotenv import load_dotenv\n",
        "from langchain.prompts import ChatPromptTemplate\n",
        "from langchain.schema.output_parser import StrOutputParser\n",
        "from langchain_google_genai import ChatGoogleGenerativeAI\n",
        "\n",
        "# 載入環境變數\n",
        "load_dotenv()\n",
        "\n",
        "# 建立 Gemini 模型\n",
        "model = ChatGoogleGenerativeAI(model=\"gemini-2.5-flash\")\n"
      ]
    },
    {
      "cell_type": "code",
      "execution_count": null,
      "metadata": {},
      "outputs": [],
      "source": [
        "# 定義提示模板\n",
        "prompt_template = ChatPromptTemplate.from_messages(\n",
        "    [\n",
        "        (\"system\", \"你是一個喜劇演員，專門講關於 {topic} 的笑話。\"),\n",
        "        (\"human\", \"請告訴我 {joke_count} 個笑話。\"),\n",
        "    ]\n",
        ")\n"
      ]
    },
    {
      "cell_type": "code",
      "execution_count": null,
      "metadata": {},
      "outputs": [],
      "source": [
        "# 使用 LangChain Expression Language (LCEL) 建立組合鏈\n",
        "# 管道符號 | 表示：將左邊元件的輸出傳遞給右邊的元件\n",
        "chain = prompt_template | model | StrOutputParser()\n",
        "\n",
        "print(\"鏈已建立完成！\")\n",
        "print(\"鏈的結構：Prompt Template → LLM → Output Parser\")\n"
      ]
    },
    {
      "cell_type": "code",
      "execution_count": null,
      "metadata": {},
      "outputs": [],
      "source": [
        "# 執行鏈\n",
        "result = chain.invoke({\"topic\": \"律師\", \"joke_count\": 3})\n",
        "\n",
        "# 輸出結果\n",
        "print(\"=\" * 50)\n",
        "print(\"笑話結果：\")\n",
        "print(\"=\" * 50)\n",
        "print(result)\n"
      ]
    },
    {
      "cell_type": "markdown",
      "metadata": {},
      "source": [
        "## 💡 重點說明\n",
        "\n",
        "1. **LCEL 語法**: `prompt_template | model | StrOutputParser()` 使用管道符號 `|` 來串聯元件\n",
        "2. **資料流向**: 輸入 → Prompt Template → LLM → Output Parser → 輸出\n",
        "3. **自動化**: 一旦建立鏈，整個流程就可以自動執行\n",
        "4. **模組化**: 每個元件都可以獨立替換或修改\n"
      ]
    }
  ],
  "metadata": {
    "language_info": {
      "name": "python"
    }
  },
  "nbformat": 4,
  "nbformat_minor": 2
}
