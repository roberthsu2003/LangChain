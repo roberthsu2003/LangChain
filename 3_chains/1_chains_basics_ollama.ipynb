{
 "cells": [
  {
   "cell_type": "markdown",
   "id": "46d383c6",
   "metadata": {},
   "source": [
    "# 1️⃣ 基礎鏈 (Basic Chains) - Ollama 版本\n",
    "\n",
    "> 📖 **學習目標**：掌握 LangChain 基礎鏈的核心概念與 LCEL 語法\n",
    "> \n",
    "> 🎯 **適合對象**：LangChain 初學者\n",
    "> \n",
    "> ⏱️ **預估時間**：15-20 分鐘\n",
    "\n",
    "## 📚 什麼是基礎鏈？\n",
    "\n",
    "**基礎鏈**是 LangChain 中最簡單也最重要的概念，它使用 **LCEL (LangChain Expression Language)** 語法將多個元件串聯起來。\n",
    "\n",
    "### 🔗 基礎鏈的組成\n",
    "```\n",
    "使用者輸入 → Prompt Template → LLM → Output Parser → 最終結果\n",
    "```\n",
    "\n",
    "### ✨ LCEL 語法的核心\n",
    "- 使用管道符號 `|` 連接元件\n",
    "- 自動處理資料流轉換\n",
    "- 支援串流、批次處理等進階功能\n",
    "\n",
    "---\n",
    "\n",
    "## 🚀 讓我們開始實作！\n"
   ]
  },
  {
   "cell_type": "markdown",
   "id": "e9e4ff1b",
   "metadata": {},
   "source": [
    "## 📦 步驟 1：安裝與導入必要的套件\n"
   ]
  },
  {
   "cell_type": "code",
   "execution_count": null,
   "id": "7a9952f4",
   "metadata": {},
   "outputs": [],
   "source": [
    "# 導入必要的套件\n",
    "from langchain.prompts import ChatPromptTemplate\n",
    "from langchain.schema.output_parser import StrOutputParser\n",
    "from langchain_ollama.llms import OllamaLLM\n",
    "import warnings\n",
    "\n",
    "# 忽略警告訊息\n",
    "warnings.filterwarnings(\"ignore\")\n",
    "\n",
    "print(\"✅ 套件導入成功！\")\n"
   ]
  },
  {
   "cell_type": "markdown",
   "id": "0b0b0711",
   "metadata": {},
   "source": [
    "## 🤖 步驟 2：建立 Ollama 模型\n",
    "\n",
    "> **注意**：請確保您的系統已安裝並運行 Ollama，且已下載 llama3.2 模型\n",
    "> \n",
    "> 如果尚未安裝，請執行：\n",
    "> ```bash\n",
    "> # 安裝 Ollama\n",
    "> curl -fsSL https://ollama.ai/install.sh | sh\n",
    "> \n",
    "> # 下載模型\n",
    "> ollama pull llama3.2:latest\n",
    "> ```\n"
   ]
  },
  {
   "cell_type": "code",
   "execution_count": null,
   "id": "0d769240",
   "metadata": {},
   "outputs": [],
   "source": [
    "# 建立 Ollama 模型\n",
    "model = OllamaLLM(\n",
    "    model=\"llama3.2:latest\",\n",
    "    temperature=0.7,  # 控制回應的創造性 (0-1)\n",
    "    top_p=0.9,       # 控制回應的多樣性\n",
    ")\n",
    "\n",
    "print(\"✅ Ollama 模型建立成功！\")\n",
    "print(f\"📋 使用模型：llama3.2:latest\")\n",
    "print(f\"🌡️ 溫度設定：{model.temperature}\")\n",
    "print(f\"🎯 Top-p 設定：{model.top_p}\")\n"
   ]
  },
  {
   "cell_type": "markdown",
   "id": "a983fd96",
   "metadata": {},
   "source": [
    "## 📝 步驟 3：建立提示模板 (Prompt Template)\n",
    "\n",
    "提示模板是 LangChain 中非常重要的元件，它讓我們可以：\n",
    "- 動態插入變數\n",
    "- 保持提示的一致性\n",
    "- 重複使用相同的提示格式\n"
   ]
  },
  {
   "cell_type": "code",
   "execution_count": null,
   "id": "161db7a6",
   "metadata": {},
   "outputs": [],
   "source": [
    "# 建立提示模板\n",
    "prompt = ChatPromptTemplate.from_template(\n",
    "    \"\"\"你是一位專業的{role}，請用{style}的風格來介紹{topic}。\n",
    "\n",
    "要求：\n",
    "1. 內容要準確且易懂\n",
    "2. 長度控制在200字以內\n",
    "3. 使用繁體中文回答\n",
    "\n",
    "請開始介紹：\"\"\"\n",
    ")\n",
    "\n",
    "print(\"✅ 提示模板建立成功！\")\n",
    "print(\"📋 模板內容：\")\n",
    "print(prompt.template)\n"
   ]
  },
  {
   "cell_type": "markdown",
   "id": "b7e399f3",
   "metadata": {},
   "source": [
    "## 🔧 步驟 4：建立輸出解析器 (Output Parser)\n",
    "\n",
    "輸出解析器用於將 LLM 的回應轉換成我們需要的格式。這裡我們使用 `StrOutputParser` 來取得純文字回應。\n"
   ]
  },
  {
   "cell_type": "code",
   "execution_count": null,
   "id": "eac5e3d6",
   "metadata": {},
   "outputs": [],
   "source": [
    "# 建立輸出解析器\n",
    "output_parser = StrOutputParser()\n",
    "\n",
    "print(\"✅ 輸出解析器建立成功！\")\n",
    "print(\"📋 解析器類型：StrOutputParser\")\n",
    "print(\"🎯 功能：將 LLM 回應轉換為純文字字串\")\n"
   ]
  },
  {
   "cell_type": "markdown",
   "id": "271bb295",
   "metadata": {},
   "source": [
    "## 🔗 步驟 5：使用 LCEL 語法建立基礎鏈\n",
    "\n",
    "這是整個教學的核心！我們使用管道符號 `|` 將所有元件串聯起來。\n",
    "\n",
    "### 💡 LCEL 語法說明\n",
    "```python\n",
    "chain = prompt | model | output_parser\n",
    "```\n",
    "\n",
    "**資料流向**：\n",
    "1. `prompt` 接收輸入並格式化\n",
    "2. `model` 處理格式化後的提示\n",
    "3. `output_parser` 解析模型回應\n"
   ]
  },
  {
   "cell_type": "code",
   "execution_count": null,
   "id": "cc6fd208",
   "metadata": {},
   "outputs": [],
   "source": [
    "# 使用 LCEL 語法建立基礎鏈\n",
    "chain = prompt | model | output_parser\n",
    "\n",
    "print(\"✅ 基礎鏈建立成功！\")\n",
    "print(\"🔗 鏈的結構：\")\n",
    "print(\"   prompt → model → output_parser\")\n",
    "print(\"\\n📋 鏈的類型：\", type(chain))\n",
    "print(\"🎯 準備好執行第一個基礎鏈！\")\n"
   ]
  },
  {
   "cell_type": "markdown",
   "id": "df064d27",
   "metadata": {},
   "source": [
    "## 🚀 步驟 6：執行基礎鏈\n",
    "\n",
    "現在讓我們來測試我們建立的基礎鏈！我們會使用 `invoke()` 方法來執行鏈。\n"
   ]
  },
  {
   "cell_type": "code",
   "execution_count": null,
   "id": "e790a1a3",
   "metadata": {},
   "outputs": [],
   "source": [
    "# 準備輸入資料\n",
    "input_data = {\n",
    "    \"role\": \"AI 專家\",\n",
    "    \"style\": \"簡潔明瞭\",\n",
    "    \"topic\": \"人工智慧\"\n",
    "}\n",
    "\n",
    "print(\"📝 輸入資料：\")\n",
    "for key, value in input_data.items():\n",
    "    print(f\"   {key}: {value}\")\n",
    "\n",
    "print(\"\\n🔄 正在執行基礎鏈...\")\n",
    "print(\"=\" * 50)\n",
    "\n",
    "# 執行基礎鏈\n",
    "result = chain.invoke(input_data)\n",
    "\n",
    "print(\"=\" * 50)\n",
    "print(\"✅ 基礎鏈執行完成！\")\n",
    "print(\"\\n📋 回應結果：\")\n",
    "print(result)\n"
   ]
  },
  {
   "cell_type": "markdown",
   "id": "4b2848dd",
   "metadata": {},
   "source": [
    "## 🎯 步驟 7：嘗試不同的輸入\n",
    "\n",
    "讓我們嘗試不同的主題，看看基礎鏈如何處理不同的輸入！\n"
   ]
  },
  {
   "cell_type": "code",
   "execution_count": null,
   "id": "7b3e391b",
   "metadata": {},
   "outputs": [],
   "source": [
    "# 嘗試不同的主題\n",
    "topics_to_try = [\n",
    "    {\n",
    "        \"role\": \"科技記者\",\n",
    "        \"style\": \"生動有趣\",\n",
    "        \"topic\": \"區塊鏈技術\"\n",
    "    },\n",
    "    {\n",
    "        \"role\": \"教育專家\",\n",
    "        \"style\": \"專業詳細\",\n",
    "        \"topic\": \"機器學習\"\n",
    "    }\n",
    "]\n",
    "\n",
    "for i, input_data in enumerate(topics_to_try, 1):\n",
    "    print(f\"\\n🎯 測試 {i}: {input_data['topic']}\")\n",
    "    print(f\"👤 角色: {input_data['role']}\")\n",
    "    print(f\"🎨 風格: {input_data['style']}\")\n",
    "    print(\"=\" * 50)\n",
    "    \n",
    "    # 執行基礎鏈\n",
    "    result = chain.invoke(input_data)\n",
    "    print(result)\n",
    "    print(\"=\" * 50)\n"
   ]
  },
  {
   "cell_type": "markdown",
   "id": "f9bbf6aa",
   "metadata": {},
   "source": [
    "## 🔄 步驟 8：探索進階功能\n",
    "\n",
    "基礎鏈不僅支援 `invoke()`，還支援其他強大的功能：\n",
    "\n",
    "### 📊 批次處理 (Batch Processing)\n",
    "同時處理多個輸入，提高效率\n",
    "\n",
    "### 🌊 串流輸出 (Streaming)\n",
    "即時顯示回應，提升使用者體驗\n",
    "\n",
    "### ⚡ 非同步處理 (Async)\n",
    "支援非同步調用，適合高併發場景\n"
   ]
  },
  {
   "cell_type": "code",
   "execution_count": null,
   "id": "565a4658",
   "metadata": {},
   "outputs": [],
   "source": [
    "# 批次處理範例\n",
    "print(\"📊 批次處理範例\")\n",
    "print(\"=\" * 50)\n",
    "\n",
    "batch_inputs = [\n",
    "    {\"role\": \"歷史學家\", \"style\": \"學術嚴謹\", \"topic\": \"古埃及文明\"},\n",
    "    {\"role\": \"旅遊達人\", \"style\": \"輕鬆愉快\", \"topic\": \"日本文化\"},\n",
    "    {\"role\": \"科學家\", \"style\": \"邏輯清晰\", \"topic\": \"量子物理\"}\n",
    "]\n",
    "\n",
    "print(\"🔄 正在批次處理...\")\n",
    "batch_results = chain.batch(batch_inputs)\n",
    "\n",
    "for i, (input_data, result) in enumerate(zip(batch_inputs, batch_results), 1):\n",
    "    print(f\"\\n📝 批次 {i}: {input_data['topic']}\")\n",
    "    print(f\"👤 角色: {input_data['role']}\")\n",
    "    print(f\"🎨 風格: {input_data['style']}\")\n",
    "    print(\"📋 回應:\")\n",
    "    print(result[:100] + \"...\" if len(result) > 100 else result)\n",
    "    print(\"-\" * 30)\n"
   ]
  },
  {
   "cell_type": "code",
   "execution_count": null,
   "id": "0dd2fa60",
   "metadata": {},
   "outputs": [],
   "source": [
    "# 串流輸出範例\n",
    "print(\"\\n🌊 串流輸出範例\")\n",
    "print(\"=\" * 50)\n",
    "\n",
    "stream_input = {\n",
    "    \"role\": \"詩人\",\n",
    "    \"style\": \"優美詩意\",\n",
    "    \"topic\": \"春天的花朵\"\n",
    "}\n",
    "\n",
    "print(\"🔄 正在串流輸出...\")\n",
    "print(\"📋 即時回應:\")\n",
    "print(\"-\" * 30)\n",
    "\n",
    "# 串流輸出\n",
    "for chunk in chain.stream(stream_input):\n",
    "    print(chunk, end=\"\", flush=True)\n",
    "\n",
    "print(\"\\n\" + \"-\" * 30)\n",
    "print(\"✅ 串流輸出完成！\")\n"
   ]
  },
  {
   "cell_type": "markdown",
   "id": "b07f537c",
   "metadata": {},
   "source": [
    "## 🎓 學習總結\n",
    "\n",
    "恭喜！您已經成功學會了 LangChain 基礎鏈的核心概念：\n",
    "\n",
    "### ✅ 您學會了什麼？\n",
    "1. **LCEL 語法**：使用 `|` 管道符號串聯元件\n",
    "2. **基礎鏈結構**：Prompt → Model → Parser\n",
    "3. **三種執行方式**：\n",
    "   - `invoke()` - 單次執行\n",
    "   - `batch()` - 批次處理\n",
    "   - `stream()` - 串流輸出\n",
    "\n",
    "### 🔑 關鍵概念\n",
    "- **模組化設計**：每個元件都有特定功能\n",
    "- **資料流轉換**：自動處理不同格式間的轉換\n",
    "- **靈活性**：輕鬆替換或組合不同元件\n",
    "\n",
    "### 🚀 下一步建議\n",
    "1. 學習 **擴展鏈** - 加入自定義處理邏輯\n",
    "2. 探索 **並行鏈** - 同時執行多個任務\n",
    "3. 嘗試 **分支鏈** - 根據條件選擇不同路徑\n",
    "\n",
    "---\n",
    "\n",
    "## 💡 實用技巧\n",
    "\n",
    "### 🔧 除錯技巧\n",
    "```python\n",
    "# 檢查鏈的結構\n",
    "print(chain.get_graph().draw_mermaid())\n",
    "\n",
    "# 查看中間步驟\n",
    "for step in chain.stream(input_data, config={\"debug\": True}):\n",
    "    print(step)\n",
    "```\n",
    "\n",
    "### ⚡ 效能優化\n",
    "```python\n",
    "# 調整模型參數\n",
    "model = OllamaLLM(\n",
    "    model=\"llama3.2:latest\",\n",
    "    temperature=0.3,  # 降低創造性，提高一致性\n",
    "    num_predict=100   # 限制回應長度\n",
    ")\n",
    "```\n",
    "\n",
    "---\n",
    "\n",
    "**🎉 您已經掌握了 LangChain 基礎鏈！準備好進入下一個學習階段了嗎？**\n"
   ]
  }
 ],
 "metadata": {
  "kernelspec": {
   "display_name": ".venv",
   "language": "python",
   "name": "python3"
  },
  "language_info": {
   "name": "python",
   "version": "3.11.13"
  }
 },
 "nbformat": 4,
 "nbformat_minor": 5
}
