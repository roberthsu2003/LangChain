{
  "cells": [
    {
      "cell_type": "markdown",
      "metadata": {},
      "source": [
        "# 2. 擴展鏈 (Chains Extended) - Gemini 版本\n",
        "\n",
        "本範例展示如何在鏈中加入自定義處理步驟，建立一個智能郵件回覆系統，包含格式化和品質檢查。\n",
        "\n",
        "## 學習重點\n",
        "- 使用 RunnableLambda 添加自定義邏輯\n",
        "- 學習如何擴展基本的鏈功能\n",
        "- 理解鏈的模組化特性\n",
        "- 掌握多步驟處理的技巧\n"
      ]
    },
    {
      "cell_type": "code",
      "execution_count": 1,
      "metadata": {},
      "outputs": [
        {
          "name": "stderr",
          "output_type": "stream",
          "text": [
            "WARNING: All log messages before absl::InitializeLog() is called are written to STDERR\n",
            "E0000 00:00:1759302825.518008   98830 alts_credentials.cc:93] ALTS creds ignored. Not running on GCP and untrusted ALTS is not enabled.\n"
          ]
        }
      ],
      "source": [
        "# 導入必要的套件\n",
        "from dotenv import load_dotenv\n",
        "from langchain.prompts import ChatPromptTemplate\n",
        "from langchain.schema.output_parser import StrOutputParser\n",
        "from langchain.schema.runnable import RunnableLambda\n",
        "from langchain_google_genai import ChatGoogleGenerativeAI\n",
        "\n",
        "# 載入環境變數\n",
        "load_dotenv()\n",
        "\n",
        "# 建立 Gemini 模型\n",
        "model = ChatGoogleGenerativeAI(model=\"gemini-1.5-flash-latest\")\n"
      ]
    },
    {
      "cell_type": "code",
      "execution_count": 2,
      "metadata": {},
      "outputs": [],
      "source": [
        "# 定義提示模板 - 建立郵件回覆系統\n",