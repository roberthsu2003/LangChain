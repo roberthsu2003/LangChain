{
 "cells": [
  {
   "cell_type": "markdown",
   "metadata": {},
   "source": [
    "# 2. 擴展鏈 (Chains Extended) - Ollama 版本\n",
    "\n",
    "本範例展示如何在鏈中加入自定義處理步驟，建立一個智能郵件回覆系統，包含格式化和品質檢查。\n",
    "\n",
    "## 學習重點\n",
    "- 使用 RunnableLambda 添加自定義邏輯\n",
    "- 學習如何擴展基本的鏈功能\n",
    "- 理解鏈的模組化特性\n",
    "- 掌握多步驟處理的技巧\n"
   ]
  },
  {
   "cell_type": "code",
   "execution_count": null,
   "metadata": {},
   "outputs": [],
   "source": "# 導入必要的套件\nfrom dotenv import load_dotenv\nfrom langchain.prompts import ChatPromptTemplate\nfrom langchain.schema.output_parser import StrOutputParser\nfrom langchain.schema.runnable import RunnableLambda\nfrom langchain_ollama.llms import OllamaLLM\n\n# 載入環境變數\nload_dotenv()\n\n# 建立 Ollama 模型（統一使用 llama3.2:latest）\nmodel = OllamaLLM(model=\"llama3.2:latest\")"
  },
  {
   "cell_type": "code",
   "execution_count": 7,
   "metadata": {},
   "outputs": [],
   "source": [
    "# 定義提示模板 - 建立郵件回覆系統\n",
    "prompt_template = ChatPromptTemplate.from_messages(\n",
    "    [\n",
    "        (\"system\", \"你是一個專業的客服代表，負責回覆客戶郵件。請用友善、專業的語調回覆。\"),\n",
    "        (\"human\", \"請回覆這封客戶郵件：\\n\\n{email_content}\"),\n",
    "    ]\n",
    ")\n"
   ]
  },
  {
   "cell_type": "code",
   "execution_count": 8,
   "metadata": {},
   "outputs": [
    {
     "name": "stdout",
     "output_type": "stream",
     "text": [
      "自定義處理步驟已定義：\n",
      "1. format_email: 格式化郵件回覆\n",
      "2. quality_check: 添加品質檢查和統計資訊\n"
     ]
    }
   ],
   "source": [
    "# 定義自定義處理步驟\n",
    "# 使用 RunnableLambda 來添加自定義邏輯\n",
    "\n",
    "# 步驟 1: 格式化郵件回覆（添加標題和簽名）\n",
    "def format_email_reply(reply):\n",
    "    \"\"\"格式化郵件回覆，添加專業的郵件格式\"\"\"\n",
    "    formatted_reply = f\"\"\"\n",
    "親愛的客戶，\n",
    "\n",
    "{reply}\n",
    "\n",
    "感謝您的來信，如有其他問題請隨時聯繫我們。\n",
    "\n",
    "此致\n",
    "客服團隊\n",
    "---\n",
    "回覆時間：{__import__('datetime').datetime.now().strftime('%Y-%m-%d %H:%M')}\n",
    "\"\"\"\n",
    "    return formatted_reply.strip()\n",
    "\n",
    "format_email = RunnableLambda(format_email_reply)\n",
    "\n",
    "# 步驟 2: 添加品質檢查和統計資訊\n",
    "def add_quality_check(formatted_reply):\n",
    "    \"\"\"添加品質檢查和統計資訊\"\"\"\n",
    "    word_count = len(formatted_reply.split())\n",
    "    char_count = len(formatted_reply)\n",
    "    \n",
    "    quality_info = f\"\"\"\n",
    "📊 回覆統計：\n",
    "- 字數：{word_count} 字\n",
    "- 字元數：{char_count} 字元\n",
    "- 回覆品質：{'✅ 良好' if word_count >= 50 else '⚠️ 建議增加內容'}\n",
    "\n",
    "{formatted_reply}\n",
    "\"\"\"\n",
    "    return quality_info\n",
    "\n",
    "quality_check = RunnableLambda(add_quality_check)\n",
    "\n",
    "print(\"自定義處理步驟已定義：\")\n",
    "print(\"1. format_email: 格式化郵件回覆\")\n",
    "print(\"2. quality_check: 添加品質檢查和統計資訊\")\n"
   ]
  },
  {
   "cell_type": "code",
   "execution_count": 9,
   "metadata": {},
   "outputs": [
    {
     "name": "stdout",
     "output_type": "stream",
     "text": [
      "擴展鏈已建立完成！\n",
      "鏈的結構：Prompt Template → LLM → Output Parser → 郵件格式化 → 品質檢查\n"
     ]
    }
   ],
   "source": [
    "# 建立擴展的鏈\n",
    "# 鏈的流程：Prompt Template → LLM → Output Parser → 郵件格式化 → 品質檢查\n",
    "chain = prompt_template | model | StrOutputParser() | format_email | quality_check\n",
    "\n",
    "print(\"擴展鏈已建立完成！\")\n",
    "print(\"鏈的結構：Prompt Template → LLM → Output Parser → 郵件格式化 → 品質檢查\")\n"
   ]
  },
  {
   "cell_type": "code",
   "execution_count": 10,
   "metadata": {},
   "outputs": [
    {
     "name": "stdout",
     "output_type": "stream",
     "text": [
      "============================================================\n",
      "智能郵件回覆系統處理結果：\n",
      "============================================================\n",
      "\n",
      "📊 回覆統計：\n",
      "- 字數：69 字\n",
      "- 字元數：878 字元\n",
      "- 回覆品質：✅ 良好\n",
      "\n",
      "親愛的客戶，\n",
      "\n",
      "尊敬的王先生／女士：\n",
      "\n",
      "您好！  \n",
      "感謝您選擇並信任我們的產品，並抽空與我們聯繫。  \n",
      "首先，對於您收到的包裝損壞以及產品功能與說明書不符的情況，我們深表歉意，並非常重視您的使用體驗。\n",
      "\n",
      "為協助您盡快解決此問題，以下提供兩種處理方式，您可依照方便與需求自行選擇：\n",
      "\n",
      "| 方案 | 具體步驟 | 需要準備的材料 |\n",
      "|------|----------|---------------|\n",
      "| **退貨** | 1. 於本郵件回覆中告知「退貨」並附上訂單號。<br>2. 我們將在 2 個工作日內寄出退貨標籤與說明。<br>3. 將產品、附件及原包裝完整包裝，並貼上退貨標籤寄回。<br>4. 收到商品後，我們將於 3 個工作日內完成退款（或退回已付費款項）。 | 商品原包裝、產品、說明書、購買收據或訂單號 |\n",
      "| **換貨** | 1. 於本郵件回覆中告知「換貨」並附上訂單號。<br>2. 我們將協助您寄回有瑕疵的商品，並於確認無誤後寄送全新同型號產品。<br>3. 如需加急配送，我們亦可提供相應方案。 | 同上（退貨） |\n",
      "\n",
      "**備註：**  \n",
      "- 為確保處理速度，我們建議您先拍攝包裝損壞部位及產品功能不符的截圖，並一併發送至此郵件。  \n",
      "- 若您更願意直接致電客服，我們的專線為 **(02) 1234‑5678**，週一至週五 9:00–17:00（含午休）皆可。  \n",
      "\n",
      "再次為此次不愉快經歷向您致歉，我們將以最快速度為您處理。若您有任何進一步的疑問或需求，隨時歡迎回覆此郵件或撥打客服專線。\n",
      "\n",
      "期待能為您盡快解決問題，謝謝您對我們的支持與理解！\n",
      "\n",
      "祝 您安好、生活愉快！\n",
      "\n",
      "此致  \n",
      "敬禮\n",
      "\n",
      "**客戶服務團隊**  \n",
      "ABC 企業有限公司  \n",
      "客服專線： (02) 1234‑5678  \n",
      "客服信箱： support@abc.com  \n",
      "\n",
      "---  \n",
      "\n",
      "*本郵件由自動系統轉發，若您已處理完畢，請忽略此訊息。*\n",
      "\n",
      "感謝您的來信，如有其他問題請隨時聯繫我們。\n",
      "\n",
      "此致\n",
      "客服團隊\n",
      "---\n",
      "回覆時間：2025-10-01 15:11\n",
      "\n"
     ]
    }
   ],
   "source": [
    "# 執行擴展鏈 - 測試郵件回覆系統\n",
    "customer_email = \"\"\"\n",
    "您好，\n",
    "\n",
    "我最近購買了貴公司的產品，但是發現包裝有損壞，而且產品功能與說明書不符。\n",
    "請問可以退貨或換貨嗎？我已經購買一週了。\n",
    "\n",
    "期待您的回覆。\n",
    "\n",
    "王小明\n",
    "\"\"\"\n",
    "\n",
    "result = chain.invoke({\"email_content\": customer_email})\n",
    "\n",
    "# 輸出結果\n",
    "print(\"=\" * 60)\n",
    "print(\"智能郵件回覆系統處理結果：\")\n",
    "print(\"=\" * 60)\n",
    "print(result)\n"
   ]
  },
  {
   "cell_type": "markdown",
   "metadata": {},
   "source": [
    "## 💡 重點說明\n",
    "\n",
    "### 擴展鏈的優勢\n",
    "\n",
    "1. **模組化設計**: 每個處理步驟都是獨立的，可以輕鬆添加、移除或修改\n",
    "2. **可重用性**: 自定義的處理步驟可以在不同的鏈中重複使用\n",
    "3. **靈活性**: 可以根據需求組合不同的處理步驟\n",
    "\n",
    "### RunnableLambda 的使用\n",
    "\n",
    "```python\n",
    "# 基本語法\n",
    "custom_step = RunnableLambda(lambda x: 自定義處理函數(x))\n",
    "\n",
    "# 實際範例\n",
    "format_email = RunnableLambda(format_email_reply)\n",
    "quality_check = RunnableLambda(add_quality_check)\n",
    "```\n",
    "\n",
    "### 鏈的組合方式\n",
    "\n",
    "```python\n",
    "# 使用管道符號串聯多個步驟\n",
    "chain = (\n",
    "    prompt_template \n",
    "    | model \n",
    "    | StrOutputParser() \n",
    "    | format_email \n",
    "    | quality_check\n",
    ")\n",
    "```\n",
    "\n",
    "## 🔧 實際應用場景\n",
    "\n",
    "- **客服系統**: 自動回覆客戶郵件\n",
    "- **內容管理**: 格式化生成內容\n",
    "- **品質控制**: 自動檢查內容品質\n",
    "- **報告生成**: 添加統計資訊和格式\n"
   ]
  }
 ],
 "metadata": {
  "kernelspec": {
   "display_name": ".venv",
   "language": "python",
   "name": "python3"
  },
  "language_info": {
   "codemirror_mode": {
    "name": "ipython",
    "version": 3
   },
   "file_extension": ".py",
   "mimetype": "text/x-python",
   "name": "python",
   "nbconvert_exporter": "python",
   "pygments_lexer": "ipython3",
   "version": "3.11.13"
  }
 },
 "nbformat": 4,
 "nbformat_minor": 2
}