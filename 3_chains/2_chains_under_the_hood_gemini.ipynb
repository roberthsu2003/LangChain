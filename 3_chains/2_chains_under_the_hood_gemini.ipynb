{
  "cells": [
    {
      "cell_type": "markdown",
      "metadata": {},
      "source": [
        "# 2. 鏈的內部運作 (Chains Under the Hood) - Gemini 版本\n",
        "\n",
        "本範例深入理解 LCEL 鏈的內部實作，展示如何使用 RunnableSequence 手動組合鏈的各個步驟，建立一個文字摘要系統。\n",
        "\n",
        "## 學習重點\n",
        "- 了解鏈的底層運作機制\n",
        "- 學習 RunnableSequence 的使用方法\n",
        "- 理解 RunnableLambda 的作用\n",
        "- 對比手動組合與 LCEL 語法的差異\n"
      ]
    },
    {
      "cell_type": "code",
      "execution_count": null,
      "metadata": {},
      "outputs": [],
      "source": [
        "# 導入必要的套件\n",
        "from dotenv import load_dotenv\n",
        "from langchain.prompts import ChatPromptTemplate\n",
        "from langchain.schema.runnable import RunnableLambda, RunnableSequence\n",
        "from langchain_google_genai import ChatGoogleGenerativeAI\n",
        "\n",
        "# 載入環境變數\n",
        "load_dotenv()\n",
        "\n",
        "# 建立 Gemini 模型\n",
        "model = ChatGoogleGenerativeAI(model=\"gemini-2.5-flash\")\n"
      ]
    },
    {
      "cell_type": "code",
      "execution_count": null,
      "metadata": {},
      "outputs": [],
      "source": [
        "# 定義提示模板 - 建立文字摘要系統\n",
        "prompt_template = ChatPromptTemplate.from_messages(\n",
        "    [\n",
        "        (\"system\", \"你是一個專業的文字摘要助手，擅長將長篇文章濃縮成簡潔的重點摘要。\"),\n",
        "        (\"human\", \"請將以下文章摘要成 {max_length} 字以內的重點：\\n\\n{article}\"),\n",
        "    ]\n",
        ")\n"
      ]
    },
    {
      "cell_type": "code",
      "execution_count": null,
      "metadata": {},
      "outputs": [],
      "source": [
        "# 手動建立各個可執行步驟 (Runnable)\n",
        "# 這些步驟對應 LCEL 鏈中的各個元件\n",
        "\n",
        "# 步驟 1: 格式化提示\n",
        "format_prompt = RunnableLambda(lambda x: prompt_template.format_prompt(**x))\n",
        "\n",
        "# 步驟 2: 呼叫模型\n",
        "invoke_model = RunnableLambda(lambda x: model.invoke(x.to_messages()))\n",
        "\n",
        "# 步驟 3: 解析輸出\n",
        "parse_output = RunnableLambda(lambda x: x.content)\n",
        "\n",
        "print(\"各個步驟已定義完成：\")\n",
        "print(\"1. format_prompt: 格式化提示模板\")\n",
        "print(\"2. invoke_model: 呼叫 LLM 模型\")\n",
        "print(\"3. parse_output: 解析模型輸出\")\n"
      ]
    },
    {
      "cell_type": "code",
      "execution_count": null,
      "metadata": {},
      "outputs": [],
      "source": [
        "# 使用 RunnableSequence 手動組合鏈\n",
        "# 這相當於 LCEL 的 prompt_template | model | StrOutputParser()\n",
        "chain = RunnableSequence(\n",
        "    first=format_prompt, \n",
        "    middle=[invoke_model], \n",
        "    last=parse_output\n",
        ")\n",
        "\n",
        "print(\"手動組合的鏈已建立完成！\")\n",
        "print(\"鏈的結構：format_prompt → invoke_model → parse_output\")\n"
      ]
    },
    {
      "cell_type": "code",
      "execution_count": null,
      "metadata": {},
      "outputs": [],
      "source": [
        "# 執行手動組合的鏈 - 測試文字摘要系統\n",
        "sample_article = \"\"\"\n",
        "人工智慧（AI）是電腦科學的一個分支，旨在創建能夠執行通常需要人類智能的任務的系統。\n",
        "這些任務包括學習、推理、問題解決、感知和語言理解。AI 技術已經在許多領域產生重大影響，\n",
        "包括醫療保健、金融、交通運輸和娛樂。機器學習是 AI 的一個子領域，它使計算機能夠從數據中學習\n",
        "而無需明確編程。深度學習是機器學習的一個分支，使用人工神經網絡來模擬人腦的工作方式。\n",
        "隨著技術的進步，AI 有望在未來幾年繼續改變我們的生活和工作方式。\n",
        "\"\"\"\n",
        "\n",
        "response = chain.invoke({\n",
        "    \"article\": sample_article,\n",
        "    \"max_length\": 100\n",
        "})\n",
        "\n",
        "# 輸出結果\n",
        "print(\"=\" * 50)\n",
        "print(\"文章摘要結果：\")\n",
        "print(\"=\" * 50)\n",
        "print(response)\n"
      ]
    },
    {
      "cell_type": "markdown",
      "metadata": {},
      "source": [
        "## 💡 重點說明\n",
        "\n",
        "### 手動組合 vs LCEL 語法\n",
        "\n",
        "**手動組合 (RunnableSequence)**:\n",
        "```python\n",
        "chain = RunnableSequence(\n",
        "    first=format_prompt, \n",
        "    middle=[invoke_model], \n",
        "    last=parse_output\n",
        ")\n",
        "```\n",
        "\n",
        "**LCEL 語法**:\n",
        "```python\n",
        "chain = prompt_template | model | StrOutputParser()\n",
        "```\n",
        "\n",
        "### 優缺點比較\n",
        "\n",
        "**手動組合的優點**:\n",
        "- 更清楚地看到每個步驟的實作細節\n",
        "- 可以對每個步驟進行更精細的控制\n",
        "- 適合學習和理解鏈的內部運作\n",
        "\n",
        "**LCEL 語法的優點**:\n",
        "- 程式碼更簡潔易讀\n",
        "- 自動具備串流、批次處理等功能\n",
        "- 是 LangChain 推薦的現代化做法\n",
        "\n",
        "## 🔧 實際應用場景\n",
        "\n",
        "- **新聞摘要**: 自動生成新聞重點\n",
        "- **學術論文**: 提取研究重點\n",
        "- **會議記錄**: 整理會議要點\n",
        "- **長文閱讀**: 快速了解文章內容\n"
      ]
    }
  ],
  "metadata": {
    "language_info": {
      "name": "python"
    }
  },
  "nbformat": 4,
  "nbformat_minor": 2
}
