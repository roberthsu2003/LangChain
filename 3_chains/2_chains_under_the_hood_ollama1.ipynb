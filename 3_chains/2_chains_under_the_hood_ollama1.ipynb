{
 "cells": [
  {
   "cell_type": "markdown",
   "metadata": {},
   "source": [
    "# Chain 拆解實作範例 - 簡化版\n",
    "\n",
    "本範例展示如何將 LCEL Chain 拆解成 RunnableLambda，幫助理解 Chain 的內部運作機制。\n",
    "\n",
    "## 學習目標\n",
    "- 理解 Chain 的組成元件\n",
    "- 學會將處理步驟拆解成獨立函數\n",
    "- 掌握 RunnableLambda 的使用方法\n",
    "- 比較 LCEL 語法與手動組合的差異"
   ]
  },
  {
   "cell_type": "markdown",
   "metadata": {},
   "source": [
    "## 步驟 1: 導入套件並設定模型"
   ]
  },
  {
   "cell_type": "code",
   "execution_count": 4,
   "metadata": {},
   "outputs": [],
   "source": [
    "from dotenv import load_dotenv\n",
    "from langchain.prompts import ChatPromptTemplate\n",
    "from langchain.schema.runnable import RunnableLambda, RunnableSequence\n",
    "from langchain_ollama.llms import OllamaLLM\n",
    "\n",
    "# 載入環境變數\n",
    "load_dotenv()\n",
    "\n",
    "# 建立模型\n",
    "model = OllamaLLM(model=\"llama3.2:latest\")"
   ]
  },
  {
   "cell_type": "markdown",
   "metadata": {},
   "source": [
    "## 步驟 2: 建立提示模板"
   ]
  },
  {
   "cell_type": "code",
   "execution_count": 5,
   "metadata": {},
   "outputs": [
    {
     "name": "stdout",
     "output_type": "stream",
     "text": [
      "提示模板建立完成！\n"
     ]
    }
   ],
   "source": [
    "# 建立一個簡單的問答系統\n",
    "prompt_template = ChatPromptTemplate.from_messages([\n",
    "    (\"system\", \"你是一個友善的助手，請用繁體中文回答問題。\"),\n",
    "    (\"human\", \"{question}\")\n",
    "])\n",
    "\n",
    "print(\"提示模板建立完成！\")"
   ]
  },
  {
   "cell_type": "markdown",
   "metadata": {},
   "source": [
    "## 步驟 3: 使用 LCEL 語法（傳統方式）\n",
    "\n",
    "先看看我們習慣的寫法："
   ]
  },
  {
   "cell_type": "code",
   "execution_count": 6,
   "metadata": {},
   "outputs": [
    {
     "name": "stdout",
     "output_type": "stream",
     "text": [
      "LCEL 回答：\n",
      "Python 是一個強大的、易學的Programming語言，常被用於開發不同領域的應用程式。它是一種高級語言，主要用於創建大型計算機程式、網路應用程式和Scientific Computing等方面。 Python 的優點包括： \n",
      "\n",
      "*   超快的程序執行速度\n",
      "*   簡單易學的程序風格\n",
      "*   允許多第三方庫和框架的使用\n",
      "*   跨platform compatibility（可在不同operating system上運行）\n"
     ]
    }
   ],
   "source": [
    "# 使用 LCEL 語法建立 Chain\n",
    "simple_chain = prompt_template | model\n",
    "\n",
    "# 測試執行\n",
    "result = simple_chain.invoke({\"question\": \"什麼是 Python?\"})\n",
    "print(\"LCEL 回答：\")\n",
    "print(result)"
   ]
  },
  {
   "cell_type": "markdown",
   "metadata": {},
   "source": [
    "## 步驟 4: 拆解成獨立函數\n",
    "\n",
    "現在我們來理解 Chain 內部做了什麼事："
   ]
  },
  {
   "cell_type": "code",
   "execution_count": 7,
   "metadata": {},
   "outputs": [
    {
     "name": "stdout",
     "output_type": "stream",
     "text": [
      "拆解函數定義完成！\n"
     ]
    }
   ],
   "source": [
    "# 拆解步驟 1: 格式化提示\n",
    "def step1_format_prompt(input_dict):\n",
    "    \"\"\"將輸入字典轉換成格式化的提示\"\"\"\n",
    "    print(f\"\\n[步驟1] 輸入: {input_dict}\")\n",
    "    formatted = prompt_template.format_prompt(**input_dict)\n",
    "    print(f\"[步驟1] 輸出類型: {type(formatted).__name__}\")\n",
    "    return formatted\n",
    "\n",
    "# 拆解步驟 2: 呼叫模型\n",
    "def step2_call_model(formatted_prompt):\n",
    "    \"\"\"將格式化的提示傳給模型\"\"\"\n",
    "    print(f\"\\n[步驟2] 輸入類型: {type(formatted_prompt).__name__}\")\n",
    "    messages = formatted_prompt.to_messages()\n",
    "    response = model.invoke(messages)\n",
    "    print(f\"[步驟2] 輸出類型: {type(response).__name__}\")\n",
    "    return response\n",
    "\n",
    "# 拆解步驟 3: 回傳結果\n",
    "def step3_return_result(response):\n",
    "    \"\"\"回傳最終結果\"\"\"\n",
    "    print(f\"\\n[步驟3] 輸入類型: {type(response).__name__}\")\n",
    "    print(f\"[步驟3] 最終輸出: {response[:50]}...\" if len(response) > 50 else f\"[步驟3] 最終輸出: {response}\")\n",
    "    return response\n",
    "\n",
    "print(\"拆解函數定義完成！\")"
   ]
  },
  {
   "cell_type": "markdown",
   "metadata": {},
   "source": [
    "## 步驟 5: 用 RunnableLambda 包裝函數"
   ]
  },
  {
   "cell_type": "code",
   "execution_count": 8,
   "metadata": {},
   "outputs": [
    {
     "name": "stdout",
     "output_type": "stream",
     "text": [
      "RunnableLambda 包裝完成！\n",
      "步驟1: RunnableLambda(step1_format_prompt)\n",
      "步驟2: RunnableLambda(step2_call_model)\n",
      "步驟3: RunnableLambda(step3_return_result)\n"
     ]
    }
   ],
   "source": [
    "# 將每個函數包裝成 RunnableLambda\n",
    "runnable_step1 = RunnableLambda(step1_format_prompt)\n",
    "runnable_step2 = RunnableLambda(step2_call_model)\n",
    "runnable_step3 = RunnableLambda(step3_return_result)\n",
    "\n",
    "print(\"RunnableLambda 包裝完成！\")\n",
    "print(f\"步驟1: {runnable_step1}\")\n",
    "print(f\"步驟2: {runnable_step2}\")\n",
    "print(f\"步驟3: {runnable_step3}\")"
   ]
  },
  {
   "cell_type": "markdown",
   "metadata": {},
   "source": [
    "## 步驟 6: 用 RunnableSequence 組合"
   ]
  },
  {
   "cell_type": "code",
   "execution_count": 9,
   "metadata": {},
   "outputs": [
    {
     "name": "stdout",
     "output_type": "stream",
     "text": [
      "手動組合的 Chain 建立完成！\n"
     ]
    }
   ],
   "source": [
    "# 手動組合 Chain\n",
    "manual_chain = RunnableSequence(\n",
    "    first=runnable_step1,\n",
    "    middle=[runnable_step2],\n",
    "    last=runnable_step3\n",
    ")\n",
    "\n",
    "print(\"手動組合的 Chain 建立完成！\")"
   ]
  },
  {
   "cell_type": "markdown",
   "metadata": {},
   "source": [
    "## 步驟 7: 執行並觀察資料流動"
   ]
  },
  {
   "cell_type": "code",
   "execution_count": 10,
   "metadata": {},
   "outputs": [
    {
     "name": "stdout",
     "output_type": "stream",
     "text": [
      "============================================================\n",
      "開始執行手動組合的 Chain\n",
      "============================================================\n",
      "\n",
      "[步驟1] 輸入: {'question': '什麼是 LangChain?'}\n",
      "[步驟1] 輸出類型: ChatPromptValue\n",
      "\n",
      "[步驟2] 輸入類型: ChatPromptValue\n",
      "[步驟2] 輸出類型: str\n",
      "\n",
      "[步驟3] 輸入類型: str\n",
      "[步驟3] 最終輸出: LangChain 是一個開源的 Python 库，旨在簡化自然語言處理的作業。它提供了一種方便和有...\n",
      "\n",
      "============================================================\n",
      "最終結果：\n",
      "============================================================\n",
      "LangChain 是一個開源的 Python 库，旨在簡化自然語言處理的作業。它提供了一種方便和有效的方式，用於建立、管理和調整不同型別的 language model 和其相關元資料。\n",
      "\n",
      "LangChain 會用來實現多種用途，例如：\n",
      "\n",
      "*   認識與生成文本\n",
      "*   文本類別化\n",
      "*   自動對語言數據進行分析和整理\n",
      "*   等等\n",
      "\n",
      " LangChain 是一種開源的 Python 库，所以使用它的人可以透過 open source 的方式來獲得更多的功能和 customization 的選項。\n"
     ]
    }
   ],
   "source": [
    "# 執行手動組合的 Chain\n",
    "print(\"=\"*60)\n",
    "print(\"開始執行手動組合的 Chain\")\n",
    "print(\"=\"*60)\n",
    "\n",
    "result = manual_chain.invoke({\"question\": \"什麼是 LangChain?\"})\n",
    "\n",
    "print(\"\\n\" + \"=\"*60)\n",
    "print(\"最終結果：\")\n",
    "print(\"=\"*60)\n",
    "print(result)"
   ]
  },
  {
   "cell_type": "markdown",
   "metadata": {},
   "source": [
    "## 步驟 8: 更簡潔的寫法（使用 Lambda 表達式）"
   ]
  },
  {
   "cell_type": "code",
   "execution_count": 11,
   "metadata": {},
   "outputs": [
    {
     "name": "stdout",
     "output_type": "stream",
     "text": [
      "簡潔版回答：\n",
      "LangChain 是一個開源的程式框架，可以幫助創建和使用人工智慧（AI）模型。以下是它的一些優點：\n",
      "\n",
      "1. **易於使用**：LangChain 提供了簡單且清晰的 API，讓使用者可以輕鬆地整合 AI 模型到自己的程式中。\n",
      "2. **多樣性**：LangChain 支持多種 AI_frameworks，如 Hugging Face、PyTorch 等，可以與不同的模型一起使用。\n",
      "3. **可擴展性**：LangChain 的 API 可以被 custom化和擴展，讓使用者可以添加新的功能或增強現有的功能。\n",
      "4. **安全性**： LangChain 適合使用 HTTPS 協議傳遞數據，以確保資料的安全性和隱私權。\n",
      "5. **開源**： LangChain 是一個免費的開源程式框架，讓所有人都可以使用和贈與。\n",
      "6. **快速開發**： LangChain 可以幫助減少 AI 相關開發的時間，由於它提供了一個簡單和有效的 API。\n",
      "\n",
      "總之，LangChain 是一個優雅、易用的程式框架，可以幫助創建和使用人工智慧模型。\n"
     ]
    }
   ],
   "source": [
    "# 不需要先定義函數，直接用 lambda 表達式\n",
    "compact_chain = RunnableSequence(\n",
    "    first=RunnableLambda(lambda x: prompt_template.format_prompt(**x)),\n",
    "    middle=[RunnableLambda(lambda x: model.invoke(x.to_messages()))],\n",
    "    last=RunnableLambda(lambda x: x)\n",
    ")\n",
    "\n",
    "# 測試執行\n",
    "result = compact_chain.invoke({\"question\": \"LangChain 有什麼優點?\"})\n",
    "print(\"簡潔版回答：\")\n",
    "print(result)"
   ]
  },
  {
   "cell_type": "markdown",
   "metadata": {},
   "source": [
    "## 總結：三種寫法比較\n",
    "\n",
    "### 1️⃣ LCEL 語法（最簡潔）\n",
    "```python\n",
    "chain = prompt_template | model\n",
    "```\n",
    "- ✅ 程式碼最短\n",
    "- ✅ 適合生產環境\n",
    "- ❌ 無法看到內部運作\n",
    "\n",
    "### 2️⃣ 手動拆解（最清楚）\n",
    "```python\n",
    "def step1_format_prompt(x): ...\n",
    "def step2_call_model(x): ...\n",
    "chain = RunnableSequence(\n",
    "    first=RunnableLambda(step1_format_prompt),\n",
    "    middle=[RunnableLambda(step2_call_model)],\n",
    "    last=...\n",
    ")\n",
    "```\n",
    "- ✅ 完全掌控每個步驟\n",
    "- ✅ 適合除錯和學習\n",
    "- ✅ 可以加入自訂邏輯\n",
    "- ❌ 程式碼較長\n",
    "\n",
    "### 3️⃣ Lambda 表達式（折衷）\n",
    "```python\n",
    "chain = RunnableSequence(\n",
    "    first=RunnableLambda(lambda x: ...),\n",
    "    middle=[RunnableLambda(lambda x: ...)],\n",
    "    last=...\n",
    ")\n",
    "```\n",
    "- ✅ 比手動拆解簡潔\n",
    "- ✅ 仍有彈性可調整\n",
    "- ❌ 複雜邏輯不易閱讀\n",
    "\n",
    "## 🎯 教學建議\n",
    "1. **初學者**：從手動拆解開始，理解每個步驟\n",
    "2. **進階者**：使用 Lambda 表達式，快速調整\n",
    "3. **專案開發**：使用 LCEL 語法，保持程式碼簡潔\n",
    "\n",
    "## 💡 何時需要 RunnableLambda？\n",
    "- 需要**加入日誌記錄**\n",
    "- 需要**資料預處理**（如格式轉換、驗證）\n",
    "- 需要**條件判斷**（根據結果決定下一步）\n",
    "- 需要**呼叫外部 API** 或資料庫\n",
    "- 需要**錯誤處理**和例外捕捉"
   ]
  }
 ],
 "metadata": {
  "kernelspec": {
   "display_name": ".venv",
   "language": "python",
   "name": "python3"
  },
  "language_info": {
   "codemirror_mode": {
    "name": "ipython",
    "version": 3
   },
   "file_extension": ".py",
   "mimetype": "text/x-python",
   "name": "python",
   "nbconvert_exporter": "python",
   "pygments_lexer": "ipython3",
   "version": "3.11.13"
  }
 },
 "nbformat": 4,
 "nbformat_minor": 4
}
