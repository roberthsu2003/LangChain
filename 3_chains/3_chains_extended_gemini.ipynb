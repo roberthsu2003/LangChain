{
  "cells": [
    {
      "cell_type": "markdown",
      "metadata": {},
      "source": [
        "# 3. 擴展鏈 (Chains Extended) - Gemini 版本\n",
        "\n",
        "本範例展示如何在鏈中加入自定義處理步驟，建立一個智能郵件回覆系統，包含格式化和品質檢查。\n",
        "\n",
        "## 學習重點\n",
        "- 使用 RunnableLambda 添加自定義邏輯\n",
        "- 學習如何擴展基本的鏈功能\n",
        "- 理解鏈的模組化特性\n",
        "- 掌握多步驟處理的技巧\n"
      ]
    },
    {
      "cell_type": "code",
      "execution_count": 1,
      "metadata": {},
      "outputs": [
        {
          "name": "stderr",
          "output_type": "stream",
          "text": [
            "WARNING: All log messages before absl::InitializeLog() is called are written to STDERR\n",
            "E0000 00:00:1759302825.518008   98830 alts_credentials.cc:93] ALTS creds ignored. Not running on GCP and untrusted ALTS is not enabled.\n"
          ]
        }
      ],
      "source": [
        "# 導入必要的套件\n",
        "from dotenv import load_dotenv\n",
        "from langchain.prompts import ChatPromptTemplate\n",
        "from langchain.schema.output_parser import StrOutputParser\n",
        "from langchain.schema.runnable import RunnableLambda\n",
        "from langchain_google_genai import ChatGoogleGenerativeAI\n",
        "\n",
        "# 載入環境變數\n",
        "load_dotenv()\n",
        "\n",
        "# 建立 Gemini 模型\n",
        "model = ChatGoogleGenerativeAI(model=\"gemini-2.5-flash\")\n"
      ]
    },
    {
      "cell_type": "code",
      "execution_count": 2,
      "metadata": {},
      "outputs": [],
      "source": [
        "# 定義提示模板 - 建立郵件回覆系統\n",
        "prompt_template = ChatPromptTemplate.from_messages(\n",
        "    [\n",
        "        (\"system\", \"你是一個專業的客服代表，負責回覆客戶郵件。請用友善、專業的語調回覆。\"),\n",
        "        (\"human\", \"請回覆這封客戶郵件：\\n\\n{email_content}\"),\n",
        "    ]\n",
        ")\n"
      ]
    },
    {
      "cell_type": "code",
      "execution_count": 3,
      "metadata": {},
      "outputs": [
        {
          "name": "stdout",
          "output_type": "stream",
          "text": [
            "自定義處理步驟已定義：\n",
            "1. format_email: 格式化郵件回覆\n",
            "2. quality_check: 添加品質檢查和統計資訊\n"
          ]
        }
      ],
      "source": [
        "# 定義自定義處理步驟\n",
        "# 使用 RunnableLambda 來添加自定義邏輯\n",
        "\n",
        "# 步驟 1: 格式化郵件回覆（添加標題和簽名）\n",
        "def format_email_reply(reply):\n",
        "    \"\"\"格式化郵件回覆，添加專業的郵件格式\"\"\"\n",
        "    formatted_reply = f\"\"\"\n",
        "親愛的客戶，\n",
        "\n",
        "{reply}\n",
        "\n",
        "感謝您的來信，如有其他問題請隨時聯繫我們。\n",
        "\n",
        "此致\n",
        "客服團隊\n",
        "---\n",
        "回覆時間：{__import__('datetime').datetime.now().strftime('%Y-%m-%d %H:%M')}\n",
        "\"\"\"\n",
        "    return formatted_reply.strip()\n",
        "\n",
        "format_email = RunnableLambda(format_email_reply)\n",
        "\n",
        "# 步驟 2: 添加品質檢查和統計資訊\n",
        "def add_quality_check(formatted_reply):\n",
        "    \"\"\"添加品質檢查和統計資訊\"\"\"\n",
        "    word_count = len(formatted_reply.split())\n",
        "    char_count = len(formatted_reply)\n",
        "    \n",
        "    quality_info = f\"\"\"\n",
        "📊 回覆統計：\n",
        "- 字數：{word_count} 字\n",
        "- 字元數：{char_count} 字元\n",
        "- 回覆品質：{'✅ 良好' if word_count >= 50 else '⚠️ 建議增加內容'}\n",
        "\n",
        "{formatted_reply}\n",
        "\"\"\"\n",
        "    return quality_info\n",
        "\n",
        "quality_check = RunnableLambda(add_quality_check)\n",
        "\n",
        "print(\"自定義處理步驟已定義：\")\n",
        "print(\"1. format_email: 格式化郵件回覆\")\n",
        "print(\"2. quality_check: 添加品質檢查和統計資訊\")\n"
      ]
    },
    {
      "cell_type": "code",
      "execution_count": 4,
      "metadata": {},
      "outputs": [
        {
          "name": "stdout",
          "output_type": "stream",
          "text": [
            "擴展鏈已建立完成！\n",
            "鏈的結構：Prompt Template → LLM → Output Parser → 郵件格式化 → 品質檢查\n"
          ]
        }
      ],
      "source": [
        "# 建立擴展的鏈\n",
        "# 鏈的流程：Prompt Template → LLM → Output Parser → 郵件格式化 → 品質檢查\n",
        "chain = prompt_template | model | StrOutputParser() | format_email | quality_check\n",
        "\n",
        "print(\"擴展鏈已建立完成！\")\n",
        "print(\"鏈的結構：Prompt Template → LLM → Output Parser → 郵件格式化 → 品質檢查\")\n"
      ]
    },
    {
      "cell_type": "code",
      "execution_count": 5,
      "metadata": {},
      "outputs": [
        {
          "name": "stdout",
          "output_type": "stream",
          "text": [
            "============================================================\n",
            "智能郵件回覆系統處理結果：\n",
            "============================================================\n",
            "\n",
            "📊 回覆統計：\n",
            "- 字數：27 字\n",
            "- 字元數：527 字元\n",
            "- 回覆品質：⚠️ 建議增加內容\n",
            "\n",
            "親愛的客戶，\n",
            "\n",
            "親愛的王小明先生您好，\n",
            "\n",
            "感謝您來信告知產品狀況。\n",
            "\n",
            "對於您收到的產品包裝有損壞，以及產品功能與說明書不符的情形，我們深感抱歉，這絕非我們希望提供給客戶的體驗。\n",
            "\n",
            "關於您提出的退貨或換貨需求，我們當然樂意為您處理。請您放心，由於產品本身有瑕疵及不符的情形，即使已購買一週，我們也會依照公司的退換貨政策為您妥善處理。\n",
            "\n",
            "為了能更快速地協助您辦理退換貨手續，懇請您提供以下資訊：\n",
            "\n",
            "1.  您的訂單編號或購買證明（例如：發票號碼、網路訂單截圖等）。\n",
            "2.  產品的名稱及型號。\n",
            "3.  您希望選擇退貨（全額退款）或是換貨（更換一個全新的同款產品）。\n",
            "4.  您方便的聯絡電話，以便我們進一步與您確認細節。\n",
            "\n",
            "收到您的資訊後，我們會立即為您安排後續的處理方式，例如：派員到府取件、提供寄送方式等。\n",
            "\n",
            "再次為這次不愉快的購物經驗向您致歉，我們非常重視每一位客戶的意見，並會將此情況反映給相關部門，以避免類似問題再次發生。\n",
            "\n",
            "期待您的回覆，並期盼能有機會為您提供更好的服務。\n",
            "\n",
            "祝您有美好的一天！\n",
            "\n",
            "[您的公司名稱] 客服團隊 敬上\n",
            "\n",
            "感謝您的來信，如有其他問題請隨時聯繫我們。\n",
            "\n",
            "此致\n",
            "客服團隊\n",
            "---\n",
            "回覆時間：2025-10-01 15:14\n",
            "\n"
          ]
        }
      ],
      "source": [
        "# 執行擴展鏈 - 測試郵件回覆系統\n",
        "customer_email = \"\"\"\n",
        "您好，\n",
        "\n",
        "我最近購買了貴公司的產品，但是發現包裝有損壞，而且產品功能與說明書不符。\n",
        "請問可以退貨或換貨嗎？我已經購買一週了。\n",
        "\n",
        "期待您的回覆。\n",
        "\n",
        "王小明\n",
        "\"\"\"\n",
        "\n",
        "result = chain.invoke({\"email_content\": customer_email})\n",
        "\n",
        "# 輸出結果\n",
        "print(\"=\" * 60)\n",
        "print(\"智能郵件回覆系統處理結果：\")\n",
        "print(\"=\" * 60)\n",
        "print(result)\n"
      ]
    },
    {
      "cell_type": "markdown",
      "metadata": {},
      "source": [
        "## 💡 重點說明\n",
        "\n",
        "### 擴展鏈的優勢\n",
        "\n",
        "1. **模組化設計**: 每個處理步驟都是獨立的，可以輕鬆添加、移除或修改\n",
        "2. **可重用性**: 自定義的處理步驟可以在不同的鏈中重複使用\n",
        "3. **靈活性**: 可以根據需求組合不同的處理步驟\n",
        "\n",
        "### RunnableLambda 的使用\n",
        "\n",
        "```python\n",
        "# 基本語法\n",
        "custom_step = RunnableLambda(lambda x: 自定義處理函數(x))\n",
        "\n",
        "# 實際範例\n",
        "format_email = RunnableLambda(format_email_reply)\n",
        "quality_check = RunnableLambda(add_quality_check)\n",
        "```\n",
        "\n",
        "### 鏈的組合方式\n",
        "\n",
        "```python\n",
        "# 使用管道符號串聯多個步驟\n",
        "chain = (\n",
        "    prompt_template \n",
        "    | model \n",
        "    | StrOutputParser() \n",
        "    | format_email \n",
        "    | quality_check\n",
        ")\n",
        "```\n",
        "\n",
        "## 🔧 實際應用場景\n",
        "\n",
        "- **客服系統**: 自動回覆客戶郵件\n",
        "- **內容管理**: 格式化生成內容\n",
        "- **品質控制**: 自動檢查內容品質\n",
        "- **報告生成**: 添加統計資訊和格式\n"
      ]
    }
  ],
  "metadata": {
    "kernelspec": {
      "display_name": ".venv",
      "language": "python",
      "name": "python3"
    },
    "language_info": {
      "codemirror_mode": {
        "name": "ipython",
        "version": 3
      },
      "file_extension": ".py",
      "mimetype": "text/x-python",
      "name": "python",
      "nbconvert_exporter": "python",
      "pygments_lexer": "ipython3",
      "version": "3.11.13"
    }
  },
  "nbformat": 4,
  "nbformat_minor": 2
}
