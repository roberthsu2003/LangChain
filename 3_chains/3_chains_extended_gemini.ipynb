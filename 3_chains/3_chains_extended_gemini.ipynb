{
  "cells": [
    {
      "cell_type": "markdown",
      "metadata": {},
      "source": [
        "# 3. 擴展鏈 (Chains Extended) - Gemini 版本\n",
        "\n",
        "本範例展示如何在鏈中加入自定義處理步驟，如大小寫轉換、字數統計等。\n",
        "\n",
        "## 學習重點\n",
        "- 使用 RunnableLambda 添加自定義邏輯\n",
        "- 學習如何擴展基本的鏈功能\n",
        "- 理解鏈的模組化特性\n",
        "- 掌握多步驟處理的技巧\n"
      ]
    },
    {
      "cell_type": "code",
      "execution_count": null,
      "metadata": {},
      "outputs": [],
      "source": [
        "# 導入必要的套件\n",
        "from dotenv import load_dotenv\n",
        "from langchain.prompts import ChatPromptTemplate\n",
        "from langchain.schema.output_parser import StrOutputParser\n",
        "from langchain.schema.runnable import RunnableLambda\n",
        "from langchain_google_genai import ChatGoogleGenerativeAI\n",
        "\n",
        "# 載入環境變數\n",
        "load_dotenv()\n",
        "\n",
        "# 建立 Gemini 模型\n",
        "model = ChatGoogleGenerativeAI(model=\"gemini-2.5-flash\")\n"
      ]
    },
    {
      "cell_type": "code",
      "execution_count": null,
      "metadata": {},
      "outputs": [],
      "source": [
        "# 定義提示模板\n",
        "prompt_template = ChatPromptTemplate.from_messages(\n",
        "    [\n",
        "        (\"system\", \"你是一個喜劇演員，專門講關於 {topic} 的笑話。\"),\n",
        "        (\"human\", \"請告訴我 {joke_count} 個笑話。\"),\n",
        "    ]\n",
        ")\n"
      ]
    },
    {
      "cell_type": "code",
      "execution_count": null,
      "metadata": {},
      "outputs": [],
      "source": [
        "# 定義自定義處理步驟\n",
        "# 使用 RunnableLambda 來添加自定義邏輯\n",
        "\n",
        "# 步驟 1: 將輸出轉換為大寫\n",
        "uppercase_output = RunnableLambda(lambda x: x.upper())\n",
        "\n",
        "# 步驟 2: 計算字數並添加字數統計\n",
        "count_words = RunnableLambda(lambda x: f\"字數統計: {len(x.split())} 個字\\n\\n{x}\")\n",
        "\n",
        "print(\"自定義處理步驟已定義：\")\n",
        "print(\"1. uppercase_output: 將文字轉換為大寫\")\n",
        "print(\"2. count_words: 計算字數並添加統計資訊\")\n"
      ]
    },
    {
      "cell_type": "code",
      "execution_count": null,
      "metadata": {},
      "outputs": [],
      "source": [
        "# 建立擴展的鏈\n",
        "# 鏈的流程：Prompt Template → LLM → Output Parser → 大寫轉換 → 字數統計\n",
        "chain = prompt_template | model | StrOutputParser() | uppercase_output | count_words\n",
        "\n",
        "print(\"擴展鏈已建立完成！\")\n",
        "print(\"鏈的結構：Prompt Template → LLM → Output Parser → 大寫轉換 → 字數統計\")\n"
      ]
    },
    {
      "cell_type": "code",
      "execution_count": null,
      "metadata": {},
      "outputs": [],
      "source": [
        "# 執行擴展鏈\n",
        "result = chain.invoke({\"topic\": \"律師\", \"joke_count\": 3})\n",
        "\n",
        "# 輸出結果\n",
        "print(\"=\" * 60)\n",
        "print(\"擴展鏈處理結果：\")\n",
        "print(\"=\" * 60)\n",
        "print(result)\n"
      ]
    },
    {
      "cell_type": "markdown",
      "metadata": {},
      "source": [
        "## 💡 重點說明\n",
        "\n",
        "### 擴展鏈的優勢\n",
        "\n",
        "1. **模組化設計**: 每個處理步驟都是獨立的，可以輕鬆添加、移除或修改\n",
        "2. **可重用性**: 自定義的處理步驟可以在不同的鏈中重複使用\n",
        "3. **靈活性**: 可以根據需求組合不同的處理步驟\n",
        "\n",
        "### RunnableLambda 的使用\n",
        "\n",
        "```python\n",
        "# 基本語法\n",
        "custom_step = RunnableLambda(lambda x: 自定義處理函數(x))\n",
        "\n",
        "# 實際範例\n",
        "uppercase_output = RunnableLambda(lambda x: x.upper())\n",
        "count_words = RunnableLambda(lambda x: f\"字數: {len(x.split())}\\n{x}\")\n",
        "```\n",
        "\n",
        "### 鏈的組合方式\n",
        "\n",
        "```python\n",
        "# 使用管道符號串聯多個步驟\n",
        "chain = (\n",
        "    prompt_template \n",
        "    | model \n",
        "    | StrOutputParser() \n",
        "    | uppercase_output \n",
        "    | count_words\n",
        ")\n",
        "```\n"
      ]
    }
  ],
  "metadata": {
    "language_info": {
      "name": "python"
    }
  },
  "nbformat": 4,
  "nbformat_minor": 2
}
