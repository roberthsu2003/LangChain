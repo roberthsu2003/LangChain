{
 "cells": [
  {
   "cell_type": "markdown",
   "metadata": {},
   "source": [
    "# 3. 並行鏈 (Chains Parallel) - Gemini 版本\n",
    "\n",
    "本範例展示如何同時執行多個分支，建立一個簡單的餐廳評論分析系統，同時分析優點和缺點。\n",
    "\n",
    "## 學習重點\n",
    "- 使用 RunnableParallel 實現並行處理\n",
    "- 學習如何同時執行多個分析任務\n",
    "- 理解並行處理的優勢\n",
    "- 掌握複雜鏈的組合技巧\n"
   ]
  },
  {
   "cell_type": "code",
   "execution_count": null,
   "metadata": {},
   "outputs": [],
   "source": [
    "# 導入必要的套件\n",
    "from dotenv import load_dotenv\n",
    "from langchain.prompts import ChatPromptTemplate\n",
    "from langchain.schema.output_parser import StrOutputParser\n",
    "from langchain.schema.runnable import RunnableParallel, RunnableLambda\n",
    "from langchain_google_genai import ChatGoogleGenerativeAI\n",
    "\n",
    "# 載入環境變數\n",
    "load_dotenv()\n",
    "\n",
    "# 建立 Gemini 模型\n",
    "model = ChatGoogleGenerativeAI(model=\"gemini-1.5-flash-latest\")\n"
   ]
  },
  {
   "cell_type": "code",
   "execution_count": null,
   "metadata": {},
   "outputs": [],
   "source": [
    "# 定義主要的提示模板 - 餐廳評論分析\n",
    "prompt_template = ChatPromptTemplate.from_messages(\n",
    "    [\n",
    "        (\"system\", \"你是一個專業的餐廳評論家，擅長分析餐廳的優缺點。\"),\n",
    "        (\"human\", \"請分析這家餐廳：{restaurant_name}\"),\n",
    "    ]\n",
    ")\n"
   ]
  },
  {
   "cell_type": "code",
   "execution_count": null,
   "metadata": {},
   "outputs": [],
   "source": [
    "# 定義優點分析函數\n",
    "def analyze_pros(restaurant_info):\n",
    "    \"\"\"分析餐廳的優點\"\"\"\n",
    "    pros_template = ChatPromptTemplate.from_messages(\n",
    "        [\n",
    "            (\"system\", \"你是一個專業的餐廳評論家，專門分析餐廳的優點。\"),\n",
    "            (\"human\", \"根據餐廳資訊：{restaurant_info}，請列出這家餐廳的優點。\"),\n",
    "        ]\n",
    "    )\n",
    "    return pros_template.format_prompt(restaurant_info=restaurant_info)\n",
    "\n",
    "# 定義缺點分析函數\n",
    "def analyze_cons(restaurant_info):\n",
    "    \"\"\"分析餐廳的缺點\"\"\"\n",
    "    cons_template = ChatPromptTemplate.from_messages(\n",
    "        [\n",
    "            (\"system\", \"你是一個專業的餐廳評論家，專門分析餐廳的缺點。\"),\n",
    "            (\"human\", \"根據餐廳資訊：{restaurant_info}，請列出這家餐廳的缺點。\"),\n",
    "        ]\n",
    "    )\n",
    "    return cons_template.format_prompt(restaurant_info=restaurant_info)\n",
    "\n",
    "print(\"分析函數已定義：\")\n",
    "print(\"1. analyze_pros: 分析餐廳優點\")\n",
    "print(\"2. analyze_cons: 分析餐廳缺點\")\n"
   ]
  },
  {
   "cell_type": "code",
   "execution_count": null,
   "metadata": {},
   "outputs": [],
   "source": [
    "# 定義結果合併函數\n",
    "def combine_pros_cons(pros, cons):\n",
    "    \"\"\"將優點和缺點合併成最終評論\"\"\"\n",
    "    return f\"\"\"\n",
    "🍽️ 餐廳評論分析報告\n",
    "{'='*50}\n",
    "\n",
    "✅ 優點分析：\n",
    "{pros}\n",
    "\n",
    "❌ 缺點分析：\n",
    "{cons}\n",
    "\n",
    "📊 總結：這是一個平衡的餐廳評論分析\n",
    "\"\"\"\n",
    "\n",
    "print(\"結果合併函數已定義：combine_pros_cons\")\n"
   ]
  },
  {
   "cell_type": "code",
   "execution_count": null,
   "metadata": {},
   "outputs": [],
   "source": [
    "# 使用 LCEL 簡化分支鏈的建立\n",
    "# 優點分析分支\n",
    "pros_branch_chain = (\n",
    "    RunnableLambda(lambda x: analyze_pros(x)) | model | StrOutputParser()\n",
    ")\n",
    "\n",
    "# 缺點分析分支\n",
    "cons_branch_chain = (\n",
    "    RunnableLambda(lambda x: analyze_cons(x)) | model | StrOutputParser()\n",
    ")\n",
    "\n",
    "print(\"並行分支鏈已建立：\")\n",
    "print(\"1. pros_branch_chain: 餐廳優點分析分支\")\n",
    "print(\"2. cons_branch_chain: 餐廳缺點分析分支\")\n"
   ]
  },
  {
   "cell_type": "code",
   "execution_count": null,
   "metadata": {},
   "outputs": [],
   "source": "# 建立完整的並行處理鏈\n# 修正：RunnableParallel 直接使用鍵值對，不需要 branches 包裝\nchain = (\n    prompt_template\n    | model\n    | StrOutputParser()\n    | RunnableParallel(\n        pros=pros_branch_chain,\n        cons=cons_branch_chain\n    )\n    | RunnableLambda(lambda x: combine_pros_cons(x[\"pros\"], x[\"cons\"]))\n)

print(\"並行處理鏈已建立完成！\")\nprint(\"鏈的流程：餐廳資訊 → 並行分析(優點+缺點) → 合併結果\")"
  },
  {
   "cell_type": "code",
   "execution_count": null,
   "metadata": {},
   "outputs": [],
   "source": [
    "# 執行並行處理鏈 - 測試餐廳評論分析系統\n",
    