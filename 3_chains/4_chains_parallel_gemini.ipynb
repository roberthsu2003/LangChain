{
  "cells": [
    {
      "cell_type": "markdown",
      "metadata": {},
      "source": [
        "# 4. 並行鏈 (Chains Parallel) - Gemini 版本\n",
        "\n",
        "本範例展示如何同時執行多個分支，如產品優缺點分析，使用 RunnableParallel 實現並行處理。\n",
        "\n",
        "## 學習重點\n",
        "- 使用 RunnableParallel 實現並行處理\n",
        "- 學習如何同時執行多個分析任務\n",
        "- 理解並行處理的優勢\n",
        "- 掌握複雜鏈的組合技巧\n"
      ]
    },
    {
      "cell_type": "code",
      "execution_count": null,
      "metadata": {},
      "outputs": [],
      "source": [
        "# 導入必要的套件\n",
        "from dotenv import load_dotenv\n",
        "from langchain.prompts import ChatPromptTemplate\n",
        "from langchain.schema.output_parser import StrOutputParser\n",
        "from langchain.schema.runnable import RunnableParallel, RunnableLambda\n",
        "from langchain_google_genai import ChatGoogleGenerativeAI\n",
        "\n",
        "# 載入環境變數\n",
        "load_dotenv()\n",
        "\n",
        "# 建立 Gemini 模型\n",
        "model = ChatGoogleGenerativeAI(model=\"gemini-2.5-flash\")\n"
      ]
    },
    {
      "cell_type": "code",
      "execution_count": null,
      "metadata": {},
      "outputs": [],
      "source": [
        "# 定義主要的提示模板 - 產品特徵分析\n",
        "prompt_template = ChatPromptTemplate.from_messages(\n",
        "    [\n",
        "        (\"system\", \"你是一個專業的產品評論家。\"),\n",
        "        (\"human\", \"請列出產品 {product_name} 的主要特徵。\"),\n",
        "    ]\n",
        ")\n"
      ]
    },
    {
      "cell_type": "code",
      "execution_count": null,
      "metadata": {},
      "outputs": [],
      "source": [
        "# 定義優點分析函數\n",
        "def analyze_pros(features):\n",
        "    \"\"\"分析產品特徵的優點\"\"\"\n",
        "    pros_template = ChatPromptTemplate.from_messages(\n",
        "        [\n",
        "            (\"system\", \"你是一個專業的產品評論家。\"),\n",
        "            (\"human\", \"根據這些特徵：{features}，請列出這些特徵的優點。\"),\n",
        "        ]\n",
        "    )\n",
        "    return pros_template.format_prompt(features=features)\n",
        "\n",
        "# 定義缺點分析函數\n",
        "def analyze_cons(features):\n",
        "    \"\"\"分析產品特徵的缺點\"\"\"\n",
        "    cons_template = ChatPromptTemplate.from_messages(\n",
        "        [\n",
        "            (\"system\", \"你是一個專業的產品評論家。\"),\n",
        "            (\"human\", \"根據這些特徵：{features}，請列出這些特徵的缺點。\"),\n",
        "        ]\n",
        "    )\n",
        "    return cons_template.format_prompt(features=features)\n",
        "\n",
        "print(\"分析函數已定義：\")\n",
        "print(\"1. analyze_pros: 分析產品優點\")\n",
        "print(\"2. analyze_cons: 分析產品缺點\")\n"
      ]
    },
    {
      "cell_type": "code",
      "execution_count": null,
      "metadata": {},
      "outputs": [],
      "source": [
        "# 定義結果合併函數\n",
        "def combine_pros_cons(pros, cons):\n",
        "    \"\"\"將優點和缺點合併成最終評論\"\"\"\n",
        "    return f\"優點分析：\\n{pros}\\n\\n缺點分析：\\n{cons}\"\n",
        "\n",
        "print(\"結果合併函數已定義：combine_pros_cons\")\n"
      ]
    },
    {
      "cell_type": "code",
      "execution_count": null,
      "metadata": {},
      "outputs": [],
      "source": [
        "# 使用 LCEL 簡化分支鏈的建立\n",
        "# 優點分析分支\n",
        "pros_branch_chain = (\n",
        "    RunnableLambda(lambda x: analyze_pros(x)) | model | StrOutputParser()\n",
        ")\n",
        "\n",
        "# 缺點分析分支\n",
        "cons_branch_chain = (\n",
        "    RunnableLambda(lambda x: analyze_cons(x)) | model | StrOutputParser()\n",
        ")\n",
        "\n",
        "print(\"並行分支鏈已建立：\")\n",
        "print(\"1. pros_branch_chain: 優點分析分支\")\n",
        "print(\"2. cons_branch_chain: 缺點分析分支\")\n"
      ]
    },
    {
      "cell_type": "code",
      "execution_count": null,
      "metadata": {},
      "outputs": [],
      "source": [
        "# 建立完整的並行處理鏈\n",
        "chain = (\n",
        "    prompt_template\n",
        "    | model\n",
        "    | StrOutputParser()\n",
        "    | RunnableParallel(\n",
        "        branches={\n",
        "            \"pros\": pros_branch_chain, \n",
        "            \"cons\": cons_branch_chain\n",
        "        }\n",
        "    )\n",
        "    | RunnableLambda(lambda x: combine_pros_cons(x[\"branches\"][\"pros\"], x[\"branches\"][\"cons\"]))\n",
        ")\n",
        "\n",
        "print(\"並行處理鏈已建立完成！\")\n",
        "print(\"鏈的流程：產品特徵 → 並行分析(優點+缺點) → 合併結果\")\n"
      ]
    },
    {
      "cell_type": "code",
      "execution_count": null,
      "metadata": {},
      "outputs": [],
      "source": [
        "# 執行並行處理鏈\n",
        "result = chain.invoke({\"product_name\": \"MacBook Pro\"})\n",
        "\n",
        "# 輸出結果\n",
        "print(\"=\" * 60)\n",
        "print(\"產品分析結果：\")\n",
        "print(\"=\" * 60)\n",
        "print(result)\n"
      ]
    },
    {
      "cell_type": "markdown",
      "metadata": {},
      "source": [
        "## 💡 重點說明\n",
        "\n",
        "### 並行處理的優勢\n",
        "\n",
        "1. **效率提升**: 同時執行多個分析任務，節省時間\n",
        "2. **資源利用**: 充分利用系統資源，提高處理速度\n",
        "3. **模組化**: 每個分支都是獨立的，易於維護和修改\n",
        "\n",
        "### RunnableParallel 的使用\n",
        "\n",
        "```python\n",
        "# 基本語法\n",
        "RunnableParallel(\n",
        "    branches={\n",
        "        \"分支名稱1\": 分支鏈1,\n",
        "        \"分支名稱2\": 分支鏈2,\n",
        "        # ... 更多分支\n",
        "    }\n",
        ")\n",
        "```\n",
        "\n",
        "### 並行鏈的資料流\n",
        "\n",
        "1. **輸入**: 產品名稱\n",
        "2. **特徵分析**: 生成產品特徵列表\n",
        "3. **並行處理**: 同時分析優點和缺點\n",
        "4. **結果合併**: 將並行結果整合成最終報告\n",
        "\n",
        "### 實際應用場景\n",
        "\n",
        "- 產品評論分析\n",
        "- 多角度文本分析\n",
        "- 並行數據處理\n",
        "- 多任務同時執行\n"
      ]
    }
  ],
  "metadata": {
    "language_info": {
      "name": "python"
    }
  },
  "nbformat": 4,
  "nbformat_minor": 2
}
