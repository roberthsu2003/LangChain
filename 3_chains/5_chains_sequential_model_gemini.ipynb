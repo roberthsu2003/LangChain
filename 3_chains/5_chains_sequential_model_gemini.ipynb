{
 "cells": [
  {
   "cell_type": "markdown",
   "metadata": {},
   "source": [
    "# 串聯模型鏈 (Sequential Model Chains) - Gemini 版本\n",
    "\n",
    "本範例展示如何使用 Google Gemini 順序調用多個模型來實現多步驟處理流程。\n",
    "\n",
    "## 🎯 學習目標\n",
    "- 理解串聯模型的概念\n",
    "- 掌握多步驟模型調用的實現\n",
    "- 學習逐步改進內容的技巧\n",
    "\n",