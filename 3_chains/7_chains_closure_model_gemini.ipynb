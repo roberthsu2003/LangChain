{
 "cells": [
  {
   "cell_type": "markdown",
   "metadata": {},
   "source": [
    "# 閉包模型鏈 (Closure Model Chains) - Gemini 版本\n",
    "\n",
    "本範例展示如何使用 Google Gemini 在 RunnableLambda 中通過閉包方式直接調用模型。\n",
    "\n",
    "## 🎯 學習目標\n",
    "- 理解閉包在 LangChain 中的應用\n",
    "- 掌握在自定義函數中調用模型的技巧\n",
    "- 學習完全控制處理流程的方法\n",
    "\n",
    "## 📝 核心概念\n",
    "閉包模型鏈通過在 RunnableLambda 函數內部捕獲外部的模型實例，實現靈活的自定義處理邏輯。"
   ]
  },
  {
   "cell_type": "code",
   "execution_count": null,
   "metadata": {},
   "outputs": [],
   "source": [
    "from dotenv import load_dotenv\n",
    "from langchain.prompts import ChatPromptTemplate\n",
    "from langchain.schema.output_parser import StrOutputParser\n",
    "from langchain.schema.runnable import RunnableLambda\n",
    "from langchain_google_genai import ChatGoogleGenerativeAI\n",
    "\n",
    "load_dotenv()\n",
    "model = ChatGoogleGenerativeAI(model=\"gemini-2.0-flash-exp\")\n",
    "print(\"✅ Gemini 模型已建立\")"
   ]
  },
  {
   "cell_type": "code",
   "execution_count": null,
   "metadata": {},
   "outputs": [],
   "source": [
    "prompt_template = ChatPromptTemplate.from_messages([\n",
    "    (\"system\", \"你是一個專業的客服代表。\"),\n",
    "    (\"human\", \"請回覆這封客戶郵件：\\n\\n{email_content}\")\n",
    "])\n",
    "\n",
    "def format_with_quality_check(reply):\n",
    "    formatted_reply = f\"\"\"\n",
    "親愛的客戶，\n",
    "\n",
    "{reply}\n",
    "\n",
    "感謝您的來信，如有其他問題請隨時聯繫我們。\n",
    "\n",
    "此致\n",
    "客服團隊\n",
    "\"\"\"\n",
    "    \n",
    "    quality_check_prompt = ChatPromptTemplate.from_messages([\n",
    "        (\"system\", \"你是郵件品質審查專家。請評估這封郵件並給出1-10分評分和簡短評語。\"),\n",
    "        (\"human\", \"評估這封郵件：\\n\\n{email}\")\n",
    "    ])\n",
    "    \n",
    "    quality_result = quality_check_prompt.format_prompt(email=formatted_reply)\n",
    "    quality_score = model.invoke(quality_result.to_messages())\n",
    "    \n",
    "    return f\"\"\"\n",
    "{'='*60}\n",
    "📧 格式化的郵件回覆：\n",
    "{'='*60}\n",
    "{formatted_reply}\n",
    "\n",
    "{'='*60}\n",
    "📊 AI 品質檢查結果：\n",
    "{'='*60}\n",
    "{quality_score.content}\n",
    "\"\"\"\n",
    "\n",
    "closure_chain = prompt_template | model | StrOutputParser() | RunnableLambda(format_with_quality_check)\n",
    "print(\"✅ 閉包模型鏈已建立\")"
   ]
  },
  {
   "cell_type": "code",
   "execution_count": null,
   "metadata": {},
   "outputs": [],
   "source": [
    "customer_email = \"\"\"\n",
    "您好，\n",
    "\n",
    "我最近購買了貴公司的產品，但是發現包裝有損壞。\n",
    "請問可以退貨或換貨嗎？\n",
    "\n",
    "王小明\n",
    "\"\"\"\n",
    "\n",
    "result = closure_chain.invoke({\"email_content\": customer_email})\n",
    "print(result)"
   ]
  },
  {
   "cell_type": "markdown",
   "metadata": {},
   "source": [
    "## 📊 總結\n",
    "\n",
    "閉包模型鏈提供了極高的靈活度，適合需要複雜自定義邏輯的場景。\n",
    "\n",
    "### 🔗 相關技術\n",
    "- [串聯模型鏈](5_chains_sequential_model_gemini.ipynb)\n",
    "- [並行模型鏈](8_chains_parallel_model_gemini.ipynb)\n",
    "- [動態提示鏈](9_chains_dynamic_prompt_gemini.ipynb)"
   ]
  }
 ],
 "metadata": {
  "kernelspec": {
   "display_name": "Python 3",
   "language": "python",
   "name": "python3"
  },
  "language_info": {
   "name": "python",
   "version": "3.11.0"
  }
 },
 "nbformat": 4,
 "nbformat_minor": 4
}
