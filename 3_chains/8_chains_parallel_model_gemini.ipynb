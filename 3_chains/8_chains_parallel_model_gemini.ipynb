{
 "cells": [
  {
   "cell_type": "markdown",
   "metadata": {},
   "source": [
    "# 8. 並行模型鏈 (Parallel Model Chains) - Gemini 版本\n",
    "\n",
    "使用 Google Gemini 同時調用多個模型進行不同角度的分析。"
   ]
  },
  {
   "cell_type": "code",
   "execution_count": null,
   "metadata": {},
   "outputs": [],
   "source": [
    "from dotenv import load_dotenv\n",
    "from langchain.prompts import ChatPromptTemplate\n",
    "from langchain.schema.output_parser import StrOutputParser\n",
    "from langchain.schema.runnable import RunnableLambda, RunnableParallel\n",
    "from langchain_google_genai import ChatGoogleGenerativeAI\n",
    "\n",
    "load_dotenv()\n",
    "model = ChatGoogleGenerativeAI(model=\"gemini-1.5-flash-latest\")\n",
    "print(\"✅ Gemini 模型已建立\")"
   ]
  },
  {
   "cell_type": "code",
   "execution_count": null,
   "metadata": {},
   "outputs": [],
   "source": [
    "# 主提示模板\n",
    "prompt_template = ChatPromptTemplate.from_messages([\n",
    "    (\"system\", \"你是專業的客服代表。\"),\n",
    "    (\"human\", \"請回覆這封客戶郵件：\\n\\n{email_content}\")\n",
    "]),\n",
    "\n",
    "# 格式化函數\n",
    "def format_email(reply):\n",
    "    return f\"\"\"\n",
    "親愛的客戶，\n",
    "\n",
    "{reply}\n",
    "\n",
    "感謝您的來信。\n",
    "\n",
    "此致\n",
    "客服團隊\n",
    "\"\"\"\n",
    "\n",
    "# 品質檢查鏈\n",
    