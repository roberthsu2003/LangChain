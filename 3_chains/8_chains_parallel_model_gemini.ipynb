{
 "cells": [
  {
   "cell_type": "markdown",
   "metadata": {},
   "source": [
    "# 並行模型鏈 (Parallel Model Chains) - Gemini 版本\n",
    "\n",
    "使用 Google Gemini 同時調用多個模型進行不同角度的分析。"
   ]
  },
  {
   "cell_type": "code",
   "execution_count": null,
   "metadata": {},
   "outputs": [],
   "source": [
    "from dotenv import load_dotenv\n",
    "from langchain.prompts import ChatPromptTemplate\n",
    "from langchain.schema.output_parser import StrOutputParser\n",
    "from langchain.schema.runnable import RunnableLambda, RunnableParallel\n",
    "from langchain_google_genai import ChatGoogleGenerativeAI\n",
    "\n",
    "load_dotenv()\n",
    "model = ChatGoogleGenerativeAI(model=\"gemini-2.0-flash-exp\")\n",
    "print(\"✅ Gemini 模型已建立\")"
   ]
  },
  {
   "cell_type": "code",
   "execution_count": null,
   "metadata": {},
   "outputs": [],
   "source": [
    "prompt_template = ChatPromptTemplate.from_messages([\n",
    "    (\"system\", \"你是專業的客服代表。\"),\n",
    "    (\"human\", \"請回覆：\\n\\n{email_content}\")\n",
    "])\n",
    "\n",
    "def format_email(reply):\n",
    "    return f\"親愛的客戶，\\n\\n{reply}\\n\\n此致\\n客服團隊\"\n",
    "\n",
    "quality_check_chain = ChatPromptTemplate.from_messages([\n",
    "    (\"system\", \"評估郵件專業度（1-10分）。\"),\n",
    "    (\"human\", \"{email}\")\n",
    "]) | model | StrOutputParser()\n",
    "\n",
    "tone_analysis_chain = ChatPromptTemplate.from_messages([\n",
    "    (\"system\", \"分析郵件語氣。\"),\n",
    "    (\"human\", \"{email}\")\n",
    "]) | model | StrOutputParser()\n",
    "\n",
    "parallel_chain = RunnableParallel(\n",
    "    formatted=RunnableLambda(format_email),\n",
    "    quality=RunnableLambda(lambda x: {\"email\": format_email(x)}) | quality_check_chain,\n",
    "    tone=RunnableLambda(lambda x: {\"email\": format_email(x)}) | tone_analysis_chain\n",
    ")\n",
    "\n",
    "chain = prompt_template | model | StrOutputParser() | parallel_chain\n",
    "print(\"✅ 並行鏈已建立\")"
   ]
  },
  {
   "cell_type": "code",
   "execution_count": null,
   "metadata": {},
   "outputs": [],
   "source": [
    "result = chain.invoke({\"email_content\": \"產品包裝損壞，可以退換貨嗎？\"})\n",
    "print(f\"郵件：\\n{result['formatted']}\\n\\n品質：{result['quality']}\\n\\n語氣：{result['tone']}\")"
   ]
  }
 ],
 "metadata": {
  "kernelspec": {
   "display_name": "Python 3",
   "language": "python",
   "name": "python3"
  },
  "language_info": {
   "name": "python",
   "version": "3.11.0"
  }
 },
 "nbformat": 4,
 "nbformat_minor": 4
}
