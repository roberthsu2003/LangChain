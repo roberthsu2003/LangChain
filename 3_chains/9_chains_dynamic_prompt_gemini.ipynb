{
 "cells": [
  {
   "cell_type": "markdown",
   "metadata": {},
   "source": [
    "# 動態提示鏈 (Dynamic Prompt Chains) - Gemini 版本 ⭐\n",
    "\n",
    "使用 Google Gemini 實現動態 Prompt 準備，這是處理複雜邏輯的推薦最佳實踐。"
   ]
  },
  {
   "cell_type": "code",
   "execution_count": null,
   "metadata": {},
   "outputs": [],
   "source": [
    "from dotenv import load_dotenv\n",
    "from langchain.prompts import ChatPromptTemplate\n",
    "from langchain.schema.output_parser import StrOutputParser\n",
    "from langchain.schema.runnable import RunnableLambda\n",
    "from langchain_google_genai import ChatGoogleGenerativeAI\n",
    "\n",
    "load_dotenv()\n",
    "model = ChatGoogleGenerativeAI(model=\"gemini-2.0-flash-exp\")\n",
    "print(\"✅ Gemini 模型已建立\")"
   ]
  },
  {
   "cell_type": "code",
   "execution_count": null,
   "metadata": {},
   "outputs": [],
   "source": [
    "prompt_template = ChatPromptTemplate.from_messages([\n",
    "    (\"system\", \"你是專業的客服代表。\"),\n",
    "    (\"human\", \"請回覆：\\n\\n{email_content}\")\n",
    "])\n",
    "\n",
    "def prepare_quality_check_prompt(reply):\n",
    "    formatted = f\"親愛的客戶，\\n\\n{reply}\\n\\n此致\\n客服團隊\"\n",
    "    \n",
    "    if \"退貨\" in reply or \"換貨\" in reply:\n",
    "        focus = \"請特別注意退換貨政策說明是否清楚。\"\n",
    "    elif \"抱歉\" in reply:\n",
    "        focus = \"請特別注意道歉誠意和補償措施。\"\n",
    "    else:\n",
    "        focus = \"請評估整體專業度和友善度。\"\n",
    "    \n",
    "    return {\"email\": formatted, \"focus\": focus}\n",
    "\n",
    "dynamic_quality_prompt = ChatPromptTemplate.from_messages([\n",
    "    (\"system\", \"你是郵件品質專家。{focus}\"),\n",
    "    (\"human\", \"評估：\\n\\n{email}\")\n",
    "])\n",
    "\n",
    "dynamic_chain = (\n",
    "    prompt_template\n",
    "    | model\n",
    "    | StrOutputParser()\n",
    "    | RunnableLambda(prepare_quality_check_prompt)\n",
    "    | dynamic_quality_prompt\n",
    "    | model\n",
    "    | StrOutputParser()\n",
    ")\n",
    "\n",
    "print(\"✅ 動態提示鏈已建立（推薦最佳實踐）\")"
   ]
  },
  {
   "cell_type": "code",
   "execution_count": null,
   "metadata": {},
   "outputs": [],
   "source": [
    "result = dynamic_chain.invoke({\"email_content\": \"產品包裝損壞，可以退換貨嗎？\"})\n",
    "print(result)"
   ]
  },
  {
   "cell_type": "markdown",
   "metadata": {},
   "source": [
    "## 📊 總結\n",
    "\n",
    "動態提示鏈是最推薦的方法，結合了高靈活性和優秀的可維護性。\n",
    "\n",
    "### 🔗 相關技術\n",
    "- [串聯模型鏈](5_chains_sequential_model_gemini.ipynb)\n",
    "- [閉包模型鏈](7_chains_closure_model_gemini.ipynb)\n",
    "- [並行模型鏈](8_chains_parallel_model_gemini.ipynb)"
   ]
  }
 ],
 "metadata": {
  "kernelspec": {
   "display_name": "Python 3",
   "language": "python",
   "name": "python3"
  },
  "language_info": {
   "name": "python",
   "version": "3.11.0"
  }
 },
 "nbformat": 4,
 "nbformat_minor": 4
}
