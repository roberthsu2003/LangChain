{
 "cells": [
  {
   "cell_type": "code",
   "execution_count": 5,
   "id": "71a00f6d",
   "metadata": {},
   "outputs": [
    {
     "name": "stdout",
     "output_type": "stream",
     "text": [
      "模型已建立\n"
     ]
    }
   ],
   "source": [
    "from dotenv import load_dotenv\n",
    "from langchain.prompts import ChatPromptTemplate\n",
    "from langchain.schema.output_parser import StrOutputParser\n",
    "from langchain_ollama import OllamaLLM\n",
    "\n",
    "# 載入環境變數\n",
    "load_dotenv()\n",
    "\n",
    "# 建立Ollama模型\n",
    "model = OllamaLLM(model=\"llama3.2:latest\")\n",
    "print(\"模型已建立\")"
   ]
  },
  {
   "cell_type": "code",
   "execution_count": 10,
   "id": "b0cf2d59",
   "metadata": {},
   "outputs": [
    {
     "name": "stdout",
     "output_type": "stream",
     "text": [
      "三階段 prompt已定義完成\n"
     ]
    }
   ],
   "source": [
    "# 第一步:生成郵件回覆\n",
    "reply_prompt = ChatPromptTemplate.from_messages([\n",
    "    (\"system\",\"你是專業的客服代表。請針對客戶的問題提供簡潔、專業的回覆內容。\"),\n",
    "    (\"human\",\"客戶郵件：\\n\\n{email_content}\")\n",
    "])\n",
    "\n",
    "# 第二步:格式化郵件\n",
    "format_prompt = ChatPromptTemplate.from_messages(\n",
    "    [\n",
    "        (\"system\", \"請將以下郵件回覆格式化，加上適當的稱呼、問候語和專業的結尾。\"),\n",
    "        (\"human\", \"郵件內容：\\n\\n{reply}\")\n",
    "    ]\n",
    ")\n",
    "\n",
    "# 第三步: 品質檢查和改進建議\n",
    "improve_prompt = ChatPromptTemplate.from_messages([\n",
    "    (\"system\",\"是郵件品質專家。請評估這封郵件的專業度、友善度和完整度（1-10分），並提供具體的改進建議。\"),\n",
    "    (\"human\", \"評估並改進這封郵件：\\n\\n{formatted_reply}\")\n",
    "])\n",
    "\n",
    "print(\"三階段 prompt已定義完成\")"
   ]
  },
  {
   "cell_type": "code",
   "execution_count": 11,
   "id": "f97f39ef",
   "metadata": {},
   "outputs": [
    {
     "name": "stdout",
     "output_type": "stream",
     "text": [
      "✅ 串聯模型鏈已建立完成！\n",
      "\n",
      "流程：生成回覆 → 格式化郵件 → 品質評估與改進建議\n"
     ]
    }
   ],
   "source": [
    "sequential_chain = (\n",
    "    reply_prompt\n",
    "    | model\n",
    "    | StrOutputParser()\n",
    "    | (lambda x:{\"reply\":x})\n",
    "    | format_prompt\n",
    "    | model\n",
    "    | StrOutputParser()\n",
    "    | (lambda x: {\"formatted_reply\":x})\n",
    "    | improve_prompt\n",
    "    | model\n",
    "    | StrOutputParser()\n",
    ")\n",
    "print(\"✅ 串聯模型鏈已建立完成！\")\n",
    "print(\"\\n流程：生成回覆 → 格式化郵件 → 品質評估與改進建議\")"
   ]
  },
  {
   "cell_type": "code",
   "execution_count": 13,
   "id": "86ef5ef8",
   "metadata": {},
   "outputs": [
    {
     "name": "stdout",
     "output_type": "stream",
     "text": [
      "📨 專業度：8/10\n",
      "\n",
      "* 導入了適當的 Formality 和 Politeness Language（例如“尊敬的王先生”、“ cordially greetings”）\n",
      "* 提到了退款程序和換貨流程，但缺乏詳細信息\n",
      "* 使用簡潔的語句和步驟，易於閱讀\n",
      "\n",
      "友善度：9/10\n",
      "\n",
      "* 導入了-friendly Language（例如“祝福您一天！”）\n",
      "* 提到了幫助和聯繫方式，是友善的\n",
      "\n",
      "完整度：7/10\n",
      "\n",
      "* 缺乏明確的連結或資源，讓收件者需要進一步查找更多信息\n",
      "* some 步驟缺乏詳細描述，例如 Courier Courier 回送服務的費用和流程\n",
      "* 導入了多餘的字句（例如“請 cordially greetings”）\n",
      "\n",
      "改進建議：\n",
      "\n",
      "1. 增加清晰度：提供明確的連結或資源，以幫助收件者查找更多信息。\n",
      "2. 加強詳細性：在每個步驟中提供更多的描述，例如 Courier Courier 回送服務的費用和流程。\n",
      "3. 刪除多餘字句：減少使用複雜的語句或表達式。\n",
      "\n",
      "改過後的封信：\n",
      "\n",
      "尊敬的王先生，\n",
      "\n",
      "感謝您對我們公司的連絡。因為包裝損壞，您可以按照以下步驟進行：\n",
      "\n",
      "1. 請您在寄出包裹後3天內寄出原來包裹用的商品回送，請附上您購買項目的購物車號、收款信息及您當前的收件地址。\n",
      "2. 我們會根據原價支付退款。如果您的貨物已經配送過，那麼我們也會提供 Courier Courier 回送服務，費用由我們負責。詳情請參考以下連結：[連結]\n",
      "3. 如需要換貨，您也可以要求我們進行換貨。\n",
      "\n",
      "如果您有任何疑問或需要進一步幫助，请不誤與我們聯繪。\n",
      "\n",
      "祝福您一天！\n",
      "\n",
      "(Note：以下改變僅供示範，實際的封信應根據公司的 branding 和風格進行調整)\n"
     ]
    }
   ],
   "source": [
    "customer_email = \"\"\"\n",
    "您好，\n",
    "\n",
    "我最近購買了貴公司的產品，但是發現包裝有損壞。\n",
    "請問可以退貨或換貨嗎？\n",
    "\n",
    "王小明\n",
    "\"\"\"\n",
    "\n",
    "result = sequential_chain.invoke({\"email_content\":customer_email})\n",
    "print(result)"
   ]
  }
 ],
 "metadata": {
  "kernelspec": {
   "display_name": ".venv",
   "language": "python",
   "name": "python3"
  },
  "language_info": {
   "codemirror_mode": {
    "name": "ipython",
    "version": 3
   },
   "file_extension": ".py",
   "mimetype": "text/x-python",
   "name": "python",
   "nbconvert_exporter": "python",
   "pygments_lexer": "ipython3",
   "version": "3.11.13"
  }
 },
 "nbformat": 4,
 "nbformat_minor": 5
}
