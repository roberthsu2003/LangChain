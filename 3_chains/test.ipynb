{
 "cells": [
  {
   "cell_type": "code",
   "execution_count": 1,
   "id": "296e1017",
   "metadata": {},
   "outputs": [],
   "source": [
    "from dotenv import load_dotenv\n",
    "from langchain_ollama import OllamaLLM\n",
    "from langchain.prompts import ChatPromptTemplate\n",
    "from langchain.schema.runnable import RunnableSequence,RunnableLambda\n",
    "\n",
    "load_dotenv()\n",
    "model = OllamaLLM(model=\"gpt-oss:20b\")"
   ]
  },
  {
   "cell_type": "code",
   "execution_count": 4,
   "id": "e6ccd019",
   "metadata": {},
   "outputs": [],
   "source": [
    "prompt_template = ChatPromptTemplate.from_messages([\n",
    "    (\"system\",\"是一個專業的文字摘要助手，擅長將長篇文章濃縮成簡潔的重點摘要。\"),\n",
    "    (\"human\",\"請將以下文章摘要成 {max_length} 字以內的重點：\\n\\n{article}\")\n",
    "])"
   ]
  },
  {
   "cell_type": "code",
   "execution_count": null,
   "id": "5a6e875a",
   "metadata": {},
   "outputs": [],
   "source": [
    "# 手動建立可執行的步驟(runnable)\n",
    "# 這些步驟對應LCEL鍊中的各個元件\n",
    "\n",
    "# 步驟1. 格式化提示\n",
    "format_prompt = RunnableLambda(lambda x:prompt_template.from_messages(**x))\n",
    "\n",
    "# 步驟2. 呼叫模型\n",
    "\n",
    "RunnableLambda(lambda x:model.invoke(x))"
   ]
  }
 ],
 "metadata": {
  "kernelspec": {
   "display_name": ".venv",
   "language": "python",
   "name": "python3"
  },
  "language_info": {
   "codemirror_mode": {
    "name": "ipython",
    "version": 3
   },
   "file_extension": ".py",
   "mimetype": "text/x-python",
   "name": "python",
   "nbconvert_exporter": "python",
   "pygments_lexer": "ipython3",
   "version": "3.11.13"
  }
 },
 "nbformat": 4,
 "nbformat_minor": 5
}
