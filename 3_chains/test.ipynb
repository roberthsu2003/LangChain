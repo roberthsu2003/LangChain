{
 "cells": [
  {
   "cell_type": "code",
   "execution_count": 1,
   "id": "71a00f6d",
   "metadata": {},
   "outputs": [
    {
     "name": "stdout",
     "output_type": "stream",
     "text": [
      "模型已建立\n"
     ]
    }
   ],
   "source": [
    "from dotenv import load_dotenv\n",
    "from langchain.prompts import ChatPromptTemplate\n",
    "from langchain.schema.output_parser import StrOutputParser\n",
    "from langchain_ollama import OllamaLLM\n",
    "\n",
    "# 載入環境變數\n",
    "load_dotenv()\n",
    "\n",
    "# 建立Ollama模型\n",
    "model = OllamaLLM(model=\"llama3.2:latest\")\n",
    "print(\"模型已建立\")"
   ]
  },
  {
   "cell_type": "code",
   "execution_count": 2,
   "id": "b0cf2d59",
   "metadata": {},
   "outputs": [
    {
     "name": "stdout",
     "output_type": "stream",
     "text": [
      "三階段 prompt已定義完成\n"
     ]
    }
   ],
   "source": [
    "# 第一步:生成郵件回覆\n",
    "reply_prompt = ChatPromptTemplate.from_messages([\n",
    "    (\"system\",\"你是專業的客服代表。請針對客戶的問題提供簡潔、專業的回覆內容。\"),\n",
    "    (\"human\",\"客戶郵件：\\n\\n{email_content}\")\n",
    "])\n",
    "\n",
    "# 第二步:格式化郵件\n",
    "format_prompt = ChatPromptTemplate.from_messages(\n",
    "    [\n",
    "        (\"system\", \"請將以下郵件回覆格式化，加上適當的稱呼、問候語和專業的結尾。\"),\n",
    "        (\"human\", \"郵件內容：\\n\\n{reply}\")\n",
    "    ]\n",
    ")\n",
    "\n",
    "# 第三步: 品質檢查和改進建議\n",
    "improve_prompt = ChatPromptTemplate.from_messages([\n",
    "    (\"system\",\"是郵件品質專家。請評估這封郵件的專業度、友善度和完整度（1-10分），並提供具體的改進建議。\"),\n",
    "    (\"human\", \"評估並改進這封郵件：\\n\\n{formatted_reply}\")\n",
    "])\n",
    "\n",
    "print(\"三階段 prompt已定義完成\")"
   ]
  },
  {
   "cell_type": "code",
   "execution_count": 3,
   "id": "f97f39ef",
   "metadata": {},
   "outputs": [
    {
     "name": "stdout",
     "output_type": "stream",
     "text": [
      "✅ 串聯模型鏈已建立完成！\n",
      "\n",
      "流程：生成回覆 → 格式化郵件 → 品質評估與改進建議\n"
     ]
    }
   ],
   "source": [
    "sequential_chain = (\n",
    "    reply_prompt\n",
    "    | model\n",
    "    | StrOutputParser()\n",
    "    | (lambda x:{\"reply\":x})\n",
    "    | format_prompt\n",
    "    | model\n",
    "    | StrOutputParser()\n",
    "    | (lambda x: {\"formatted_reply\":x})\n",
    "    | improve_prompt\n",
    "    | model\n",
    "    | StrOutputParser()\n",
    ")\n",
    "print(\"✅ 串聯模型鏈已建立完成！\")\n",
    "print(\"\\n流程：生成回覆 → 格式化郵件 → 品質評估與改進建議\")"
   ]
  },
  {
   "cell_type": "code",
   "execution_count": 5,
   "id": "86ef5ef8",
   "metadata": {},
   "outputs": [
    {
     "name": "stdout",
     "output_type": "stream",
     "text": [
      "以下是評估和改進這封郵件的結果：\n",
      "\n",
      "**專業度：8/10**\n",
      "\n",
      "* 專業化的 formatization 和字體排版是優點，但缺少了一定的友善感和人性化的元素。\n",
      "* 回覆郵件的內容清晰易懂，但有一些術語可能需要更常見的人群了解（例如“商品卡”）。\n",
      "* 專業度可以更好地提高，考慮使用簡單且明確的語言。\n",
      "\n",
      "**友善度：7/10**\n",
      "\n",
      "* 回覆郵件的tone 主要是正確和有序，但缺少了一定的溫暖和人性化的元素。\n",
      "* 使用一些關鍵字，如“歉意”和“致歉”，可以增加友善感，但仍需要更多的體現人性的細節。\n",
      "* 對客服代表的 introduction 可能可以更加親切地開展。\n",
      "\n",
      "**完整度：9/10**\n",
      "\n",
      "* 回覆郵件的內容全方位 COVER了退貨政策、 Replacement produit 等相關資訊。\n",
      "* 有關任何疑問或需求的建議非常合理，對客服的幫助很有幫助。\n",
      "\n",
      "改進建議：\n",
      "\n",
      "1.  在 introduction 中加入一些簡單的自我介紹，並表達對王小明的尊重和好感度。例如：\"尊敬的王小明，請允许我們這次機會與您聯繫，希望能夠提供正確的幫助。”\n",
      "2.  將術語中可能不常見的詞彙（如“商品卡”) 進行簡單的解釋和具體範例的表述，讓王小明更容易理解。例如：\"如果您需要換貨，請提供新購買的收據，並我們會盡快將 replacement sản phẩm寄送至您.\"\n",
      "3.  在感謝部分，可以增加一些友善的元素，例如表達對王小明的理解和歉意的幫助。例如：\"再次深表歉意讓您遇到的任何不便，我们希望能夠提供更好的服務.\"\n"
     ]
    }
   ],
   "source": [
    "customer_email = \"\"\"\n",
    "您好，\n",
    "\n",
    "我最近購買了貴公司的產品，但是發現包裝有損壞。\n",
    "請問可以退貨或換貨嗎？\n",
    "\n",
    "王小明\n",
    "\"\"\"\n",
    "\n",
    "result = sequential_chain.invoke({\"email_content\":customer_email})\n",
    "print(result)"
   ]
  },
  {
   "cell_type": "code",
   "execution_count": 6,
   "id": "ce5e36c1",
   "metadata": {},
   "outputs": [
    {
     "name": "stdout",
     "output_type": "stream",
     "text": [
      "============================================================\n",
      "階段1️⃣:生成初步回覆\n",
      "============================================================\n",
      "尊敬的王小明,\n",
      "\n",
      "感謝您的寄 letter。很抱歉您收到的包裝有損壞，致使您的購買品質受到影響。\n",
      "\n",
      "根據我們的退貨政策，您可以將產品回送給我們，並享受退貨補償或換貨的選擇。具體流程如下：\n",
      "\n",
      "1. 請在信件中附上 product 的保留證明和 photograph 以及包裝有損壞的照片，讓我們確認您的購買信息。\n",
      "2.  您可以選擇退貨或換貨。\n",
      "3.  退貨後，您將得到原價金額的補償。\n",
      "4.  换貨，產品將在您提供的地址送到。\n",
      "\n",
      "如果您需要更詳細的信息或有任何問題，请請不 hesitate聯繫我們。 chúng tôi期待您的回覆。\n",
      "\n",
      "感謝您的信件，並感謝您的支持。\n",
      "\n",
      "best regards,\n",
      "[你的客服代表]\n",
      "============================================================\n",
      "階段2️⃣:格式化郵件\n",
      "============================================================\n",
      "尊敬的王小明：\n",
      "\n",
      "問候!\n",
      "\n",
      "感謝您寄來的信件，我们非常抱歉因為包裝有損壞，導致您的購買品質受到影響。我们希望能夠提供您一個好的購買體驗。\n",
      "\n",
      "根據我們的退貨政策，您可以選擇將產品回送給我們，並享受退貨補償或換貨的選擇。具體流程如下：\n",
      "\n",
      "1.  請在信件中附上 product 的保留證明和 photograph 以及包裝有損壞的照片，讓我們確認您的購買信息。\n",
      "2.  您可以選擇退貨或換貨。\n",
      "3.  退貨後，您將得到原價金額的補償。\n",
      "4.  换貨，產品將在您提供的地址送到。\n",
      "\n",
      "如果您需要更詳細的信息或有任何問題，请請不 hesitate聯繫我們。 chúng tôi期待您的回覆，並感謝您的支持。\n",
      "\n",
      "看法和合作，\n",
      "\n",
      "[你的客服代表]\n",
      "============================================================\n",
      "階段3️⃣:品質評估與改進建議\n",
      "============================================================\n",
      "根據評估結果，我給出了以下分數：\n",
      "\n",
      "專業度：8/10\n",
      "\n",
      "友善度：9/10\n",
      "\n",
      "完整度：9/10\n",
      "\n",
      "建議改進：\n",
      "\n",
      "1.  專業度：雖然信件內容有關注購買品質問題，但是可以更明確地針對特定問題表達，並提供具體的解決方案，例如：\"因為包裝有損壞，您可以選擇退貨或換貨。退貨後您將得到原價金額的補償.\" 的句子中，可以更明確地表達退貨和補償的細節。\n",
      "2. 友善度：信件開始有\"問候!\"，表達了客服對王小明的尊重，但是可以加上更多的情感性表達，例如\"我們非常抱歉因為包裝有損壞，導致您的購買品質受到影響。\" 的句子中，可以更明確地表達客服的道歉意願，並與王小明建立更好的關係。\n",
      "3. 完整度：信件內容全面，但是可以增加一些詳細信息，例如退貨流程中需要填寫什麼表格，以及包裹到哪個地址等。\n",
      "\n",
      "具體改善建議如下：\n",
      "\n",
      "尊敬的王小明，\n",
      "\n",
      "問候！\n",
      "\n",
      "感謝您寄來的信件，我们非常抱歉因為包裝有損壞，導致您的購買品質受到影響。我們希望能夠提供您一個好的購買體驗。\n",
      "\n",
      "根據我們的退貨政策，您可以選擇將產品回送給我們，並享受退貨補償或換貨的選擇。具體流程如下：\n",
      "\n",
      "1.  請在信件中附上 product 的保留證明和 photograph 以及包裝有損壞的照片，讓我們確認您的購買信息。\n",
      "2.  您可以選擇退货或換貨。\n",
      "3.  退貨後，您將得到原價金額的補償。 please填寫《退貨表單》（Attached），並寄送到我們的地址：\\[客服聯繫電話和郵政編號］。\n",
      "4.  换貨，產品將在您提供的地址送到。\n",
      "\n",
      "如果您需要更詳細的信息或有任何問題，请請不 hesitate聯繪我們。 chúng tôi期待您的回覆，並感謝您的支持。\n",
      "\n",
      "看法和合作，\n",
      "\n",
      "\\[客服代表的姓名\\]\n"
     ]
    }
   ],
   "source": [
    "#分步執行以展示每個階段的輸出\n",
    "print(\"=\"*60)\n",
    "print(\"階段1️⃣:生成初步回覆\")\n",
    "print(\"=\"*60)\n",
    "\n",
    "step1_chain = reply_prompt | model | StrOutputParser()\n",
    "step1_result = step1_chain.invoke({\"email_content\":customer_email})\n",
    "print(step1_result)\n",
    "\n",
    "print(\"=\"*60)\n",
    "print(\"階段2️⃣:格式化郵件\")\n",
    "print(\"=\"*60)\n",
    "step2_chain = format_prompt | model | StrOutputParser()\n",
    "step2_result = step2_chain.invoke({\"reply\":step1_result})\n",
    "print(step2_result)\n",
    "\n",
    "print(\"=\"*60)\n",
    "print(\"階段3️⃣:品質評估與改進建議\")\n",
    "print(\"=\"*60)\n",
    "step3_chain = improve_prompt | model | StrOutputParser()\n",
    "step3_result = step3_chain.invoke({\"formatted_reply\":step2_result})\n",
    "\n",
    "print(step3_result)"
   ]
  }
 ],
 "metadata": {
  "kernelspec": {
   "display_name": ".venv",
   "language": "python",
   "name": "python3"
  },
  "language_info": {
   "codemirror_mode": {
    "name": "ipython",
    "version": 3
   },
   "file_extension": ".py",
   "mimetype": "text/x-python",
   "name": "python",
   "nbconvert_exporter": "python",
   "pygments_lexer": "ipython3",
   "version": "3.11.13"
  }
 },
 "nbformat": 4,
 "nbformat_minor": 5
}
