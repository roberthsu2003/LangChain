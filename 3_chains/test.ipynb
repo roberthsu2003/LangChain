{
 "cells": [
  {
   "cell_type": "code",
   "execution_count": 2,
   "id": "cc385aca",
   "metadata": {},
   "outputs": [
    {
     "name": "stdout",
     "output_type": "stream",
     "text": [
      "好的，我來為您介紹人工智能 (AI)，這是一個非常廣泛且快速發展的領域。\n",
      "\n",
      "**什麼是人工智能？**\n",
      "\n",
      "簡單來說，人工智能是指**使機器能夠執行人類預設任務的能力**。 這些任務可以範圍很廣，從簡單的計算到複雜的推理和解決問題。 讓機器能夠像人類一樣思考、學習、理解和創造。\n",
      "\n",
      "**人工智能的幾個關鍵面向：**\n",
      "\n",
      "* **機器學習 (Machine Learning):**  這是人工智能的核心之一。 機器學習指的是讓機器學習能力，而不是直接編寫程序來完成任務。  機器學習讓機器能夠通過**數據**來學習，而不是依賴人工的程式設計。\n",
      "* **深度學習 (Deep Learning):** 深度學習是機器學習的一個分支，它使用人工神經網路，這些網路具有多層結構，讓它們能夠處理更複雜的數據。 \n",
      "* **自然語言處理 (Natural Language Processing):**  這項人工智能的應用領域，讓機器能夠理解和處理人類語言。 例如，機器翻譯、聊天機器人、文本摘要等。\n",
      "* **電腦視覺 (Computer Vision):**  這項人工智能的應用領域，讓機器能夠「看」和「理解」圖像和視頻。 例如，自動駕駛、人臉識別、圖像分類等。\n",
      "* **機器推理 (Reasoning):**  讓機器能夠根據已知信息進行邏輯推理，做出決策。\n",
      "\n",
      "**人工智能的種類:**\n",
      "\n",
      "* **狹域智能 (Narrow AI):** 專注於執行特定任務。目前我們使用的大部分AI，例如語音助理、推薦系統等，都是狹域智能。 例如，智能手機的語音助手。\n",
      "* **廣域智能 (General AI):** 具有像人類一樣的通用思考能力和學習能力。目前廣域智能還處於研究階段，未實現。\n",
      "* **超級人工智能 (Super AI):**  比人類更聰明，能夠處理更複雜的問題，甚至可能超越人類的智能。 仍然是一個理論上的概念。\n",
      "\n",
      "**人工智能的應用場景：**\n",
      "\n",
      "人工智能已經滲透到我們生活的方方面面，以下是一些例子：\n",
      "\n",
      "* **醫療保健:** 診斷疾病、個性化治療、藥物發現\n",
      "* **金融:** 風險評估、欺詐檢測、智能投資\n",
      "* **交通運輸:** 自動駕駛、交通流量管理\n",
      "* **零售:** 推薦商品、顧客服務\n",
      "* **娛樂:** 遊戲、音樂、電影\n",
      "* **教育:** 個性化學習、自動評分\n",
      "* **製造業:** 機器人組裝、質量檢測\n",
      "\n",
      "**人工智能的發展趨勢:**\n",
      "\n",
      "* **更強大的數據:** 數據是人工智能發展的基礎，更豐富、更準確的數據將能提升人工智能的性能。\n",
      "* **模型訓練更加高效:**  通過新的技術，例如區塊鏈和雲計算，加速模型的訓練和部署。\n",
      "* **更具泛化能力:** 讓機器能夠在新的環境和數據上更好地應用。\n",
      "* **更強的倫理和安全:**  解決人工智能的潛在風險，確保人工智能的安全和可控。\n",
      "\n",
      "**總結：**\n",
      "\n",
      "人工智能是一個快速發展的領域，它正在深刻地改變我們的世界。理解人工智能的基本概念和應用，有助於我們更好地應對未來發展。\n",
      "\n",
      "**您想了解關於人工智能的哪些方面呢？** 比如：\n",
      "\n",
      "*  你想了解機器學習的更多細節嗎？\n",
      "*  你想知道人工智能在某個特定領域的應用案例嗎？\n",
      "*  你想了解人工智能的倫理問題嗎？\n",
      "*  你想知道人工智能的未來發展趨勢嗎？\n",
      "\n",
      "請告訴我您的興趣，我可以盡力為您解答！\n",
      "\n"
     ]
    }
   ],
   "source": [
    "from langchain.prompts import ChatPromptTemplate\n",
    "from langchain.schema.output_parser import StrOutputParser\n",
    "from langchain_ollama.llms import OllamaLLM\n",
    "\n",
    "# 建立模型\n",
    "model = OllamaLLM(model=\"gemma3:1b\")\n",
    "\n",
    "# 建立提示模板\n",
    "prompt = ChatPromptTemplate.from_template(\"請介紹 {topic}\")\n",
    "\n",
    "# 建立鏈\n",
    "chain = prompt | model | StrOutputParser()\n",
    "\n",
    "result = chain.invoke({\"topic\": \"人工智慧\"})\n",
    "print(result)"
   ]
  },
  {
   "cell_type": "code",
   "execution_count": 5,
   "id": "b5fc0b8e",
   "metadata": {},
   "outputs": [
    {
     "name": "stdout",
     "output_type": "stream",
     "text": [
      "鏈已建立完成！\n",
      "鏈的結構：Prompt Template → LLM → Output Parser\n"
     ]
    }
   ],
   "source": [
    "# 導入必要的套件\n",
    "from dotenv import load_dotenv\n",
    "from langchain.prompts import ChatPromptTemplate\n",
    "from langchain.schema.output_parser import StrOutputParser\n",
    "from langchain_ollama.llms import OllamaLLM\n",
    "\n",
    "# 載入環境變數\n",
    "load_dotenv()\n",
    "\n",
    "# 建立 Ollama 模型\n",
    "model = OllamaLLM(model=\"gemma3:1b\")\n",
    "\n",
    "# 定義提示模板 - 建立一個友善的問答助手\n",
    "prompt_template = ChatPromptTemplate.from_messages(\n",
    "    [\n",
    "        (\"system\", \"你是一個友善且專業的助手，專門回答關於 {topic} 的問題。請用簡單易懂的方式解釋。\"),\n",
    "        (\"human\", \"請回答這個問題：{question}\"),\n",
    "    ]\n",
    ")\n",
    "\n",
    "chain = prompt_template | model | StrOutputParser()\n",
    "\n",
    "print(\"鏈已建立完成！\")\n",
    "print(\"鏈的結構：Prompt Template → LLM → Output Parser\")\n",
    "\n"
   ]
  },
  {
   "cell_type": "code",
   "execution_count": 6,
   "id": "3591793f",
   "metadata": {},
   "outputs": [
    {
     "name": "stdout",
     "output_type": "stream",
     "text": [
      "==================================================\n",
      "問答系統回應：\n",
      "==================================================\n",
      "好的，我來解釋一下什麼是機器學習：\n",
      "\n",
      "**想像一下，你教你的孩子一個新動作，但他們沒有經驗，你需要教他們。你會教他們什麼？**\n",
      "\n",
      "機器學習就像這樣！它教電腦從自己看過的資料中學習，而不是從你直接寫出每一個指令。\n",
      "\n",
      "**簡單來說，機器學習就是教電腦“學習”，讓電腦可以自己找到模式，然後用這些模式來做出新的決定或預測。**\n",
      "\n",
      "讓我們分解一下幾個關鍵點：\n",
      "\n",
      "1. **數據 (Data):** 機器學習需要大量資料。就像我們教孩子，我們需要很多例子才能讓他們學到規則。\n",
      "2. **模型 (Model):** 機器學習的“ cervello” (頭腦) 就像一個模型，它會根據數據來調整自己。\n",
      "3. **訓練 (Training):** 我們給機器學習系統大量的資料，讓它學習數據中的模式。\n",
      "4. **預測 (Prediction):**  當我們把新的資料給模型時，它會根據學到的模式，做出預測或結果。\n",
      "\n",
      "**以下是一些常見的例子：**\n",
      "\n",
      "* **推薦影片:** 根據你看過哪些影片，機器學習會推薦你可能喜歡的影片。\n",
      "* **語音助手:** 像 Siri 或 Alexa，學習你的語氣和語法，後續回答你的問題。\n",
      "* **垃圾邮件識別:** 機器學習可以學習到垃圾郵件的特徵，然後判斷哪些是垃圾郵件。\n",
      "* **自動駕駛:** 學習駕駛的習慣，讓自動駕駛汽車可以安全地駕駛。\n",
      "\n",
      "**總之，機器學習就是通過教電腦學習，讓它能更好地理解和處理數據。**\n",
      "\n",
      "**希望這個解釋對你有幫助！**\n",
      "\n",
      "如果你想了解更多關於機器學習的細節，例如不同的機器學習類型，或者更多例子，請隨時提出。\n",
      "\n"
     ]
    }
   ],
   "source": [
    "result = chain.invoke({\n",
    "    \"topic\": \"人工智慧\", \n",
    "    \"question\": \"什麼是機器學習？\"\n",
    "})\n",
    "\n",
    "# 輸出結果\n",
    "print(\"=\" * 50)\n",
    "print(\"問答系統回應：\")\n",
    "print(\"=\" * 50)\n",
    "print(result)"
   ]
  }
 ],
 "metadata": {
  "kernelspec": {
   "display_name": ".venv",
   "language": "python",
   "name": "python3"
  },
  "language_info": {
   "codemirror_mode": {
    "name": "ipython",
    "version": 3
   },
   "file_extension": ".py",
   "mimetype": "text/x-python",
   "name": "python",
   "nbconvert_exporter": "python",
   "pygments_lexer": "ipython3",
   "version": "3.11.13"
  }
 },
 "nbformat": 4,
 "nbformat_minor": 5
}
