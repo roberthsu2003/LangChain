{
 "cells": [
  {
   "cell_type": "code",
   "execution_count": 20,
   "id": "167300a4",
   "metadata": {},
   "outputs": [],
   "source": [
    "from dotenv import load_dotenv\n",
    "from langchain.prompts import ChatPromptTemplate\n",
    "from langchain.schema.output_parser import StrOutputParser\n",
    "from langchain.schema.runnable import RunnableLambda\n",
    "from langchain_ollama.llms import OllamaLLM\n",
    "\n",
    "load_dotenv()\n",
    "\n",
    "model = OllamaLLM(model='llama3.2:latest')"
   ]
  },
  {
   "cell_type": "code",
   "execution_count": 21,
   "id": "44ca3603",
   "metadata": {},
   "outputs": [],
   "source": [
    "prompt_template = ChatPromptTemplate.from_messages(\n",
    "    [\n",
    "        (\"system\",\"你是一個專業的客服代表，負責回覆客戶郵件。請用友善、專業的語調回覆。,生成文字時你不要出現(使用者名稱,團隊名稱,回信日期,感謝詞),因為我們會自已加入\"),\n",
    "        (\"human\",\"請請回覆這封客戶郵件：\\n\\n{email_content}\")\n",
    "    ]\n",
    ")\n",
    "\n",
    "def format_email_reply(reply:str):\n",
    "    \"\"\"格式化郵件回覆，添加專業的郵件格式\"\"\"\n",
    "    formatted_reply = f\"\"\"\n",
    "親愛的客戶,\n",
    "\n",
    "    {reply}\n",
    "\n",
    "    感謝您的來信，如有其他問題請隨時聯繫我們。\n",
    "\n",
    "此致\n",
    "客服團隊\n",
    "---\n",
    "回覆時間：{__import__('datetime').datetime.now().strftime('%Y-%m-%d %H:%M')}\n",
    "\"\"\"\n",
    "\n",
    "    return formatted_reply.strip()\n",
    "\n",
    "format_email = RunnableLambda(format_email_reply)\n",
    "\n",
    "def add_quality_check(formatted_reply):\n",
    "    \"\"\"添加品質檢查和統計資訊\"\"\"\n",
    "    word_count = len(formatted_reply.split())\n",
    "    char_count = len(formatted_reply)\n",
    "\n",
    "    quality_info = f\"\"\"\n",
    "📊 回覆統計：\n",
    "- 字數：{word_count} 字\n",
    "- 字元數：{char_count} 字元\n",
    "- 回覆品質：{'✅ 良好' if word_count >= 50 else '⚠️ 建議增加內容'}\n",
    "{formatted_reply}\n",
    "\"\"\"\n",
    "    return quality_info\n",
    "\n",
    "quality_check = RunnableLambda(add_quality_check)\n",
    "\n",
    "chain = prompt_template | model | StrOutputParser() | format_email | quality_check "
   ]
  },
  {
   "cell_type": "code",
   "execution_count": 22,
   "id": "7567c9fb",
   "metadata": {},
   "outputs": [
    {
     "name": "stdout",
     "output_type": "stream",
     "text": [
      "============================================================\n",
      "智能郵件回覆系統處理結果：\n",
      "============================================================\n",
      "\n",
      "📊 回覆統計：\n",
      "- 字數：13 字\n",
      "- 字元數：285 字元\n",
      "- 回覆品質：⚠️ 建議增加內容\n",
      "親愛的客戶,\n",
      "\n",
      "    非常抱歉您遇到的問題！我們真心關心您的滿意度，讓我們一起解決這個問題 nhé！\n",
      "\n",
      "根據您的描述，我們會盡量幫助您退貨或換貨。由於您購買的產品已經一週了，所以我們需要確認是否有可能進行退貨或換貨。\n",
      "\n",
      "請給我們一些時間，並且將包裝損壞的證據（例如照相或照片）寄送至我們的客服信箱。然後，我們將根據公司的政策進行評估，是否可以進行退貨或換貨。\n",
      "\n",
      "如果您有任何其他問題或需求，或者需要進一步協助，请在下一次回覆中告知我們 nhé！\n",
      "\n",
      "    感謝您的來信，如有其他問題請隨時聯繫我們。\n",
      "\n",
      "此致\n",
      "客服團隊\n",
      "---\n",
      "回覆時間：2025-10-06 14:22\n",
      "\n"
     ]
    }
   ],
   "source": [
    "customer_email = \"\"\"\n",
    "您好，\n",
    "\n",
    "我最近購買了貴公司的產品，但是發現包裝有損壞，而且產品功能與說明書不符。\n",
    "請問可以退貨或換貨嗎？我已經購買一週了。\n",
    "\n",
    "期待您的回覆。\n",
    "\n",
    "王小明\n",
    "\"\"\"\n",
    "\n",
    "result = chain.invoke({\"email_content\": customer_email})\n",
    "\n",
    "# 輸出結果\n",
    "print(\"=\" * 60)\n",
    "print(\"智能郵件回覆系統處理結果：\")\n",
    "print(\"=\" * 60)\n",
    "print(result)"
   ]
  }
 ],
 "metadata": {
  "kernelspec": {
   "display_name": ".venv",
   "language": "python",
   "name": "python3"
  },
  "language_info": {
   "codemirror_mode": {
    "name": "ipython",
    "version": 3
   },
   "file_extension": ".py",
   "mimetype": "text/x-python",
   "name": "python",
   "nbconvert_exporter": "python",
   "pygments_lexer": "ipython3",
   "version": "3.11.13"
  }
 },
 "nbformat": 4,
 "nbformat_minor": 5
}
