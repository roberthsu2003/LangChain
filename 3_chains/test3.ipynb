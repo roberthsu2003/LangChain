{
 "cells": [
  {
   "cell_type": "code",
   "execution_count": 6,
   "id": "5e3abe6f",
   "metadata": {},
   "outputs": [],
   "source": [
    "from langchain.prompts import ChatPromptTemplate\n",
    "from langchain.schema.output_parser import StrOutputParser\n",
    "from langchain.schema.runnable import RunnableParallel, RunnableLambda\n",
    "from langchain_ollama import ChatOllama\n",
    "\n",
    "model = ChatOllama(\n",
    "    model=\"llama3.2:latest\",\n",
    "    temperature=0.7\n",
    ")"
   ]
  },
  {
   "cell_type": "code",
   "execution_count": 8,
   "id": "f5fa3930",
   "metadata": {},
   "outputs": [],
   "source": [
    "prompt_template = ChatPromptTemplate.from_messages(\n",
    "    [\n",
    "        (\"system\",\"你是一個專業的餐廳評論家，擅長分析餐廳的優缺點。\"),\n",
    "        (\"human\",\"請分析這家餐廳:{restaurant_name}\")\n",
    "    ]\n",
    ")"
   ]
  },
  {
   "cell_type": "code",
   "execution_count": 11,
   "id": "021303ae",
   "metadata": {},
   "outputs": [
    {
     "name": "stdout",
     "output_type": "stream",
     "text": [
      "分析函數已定義：\n",
      "1. analyze_pros: 分析餐廳優點\n",
      "2. analyze_cons: 分析餐廳缺點\n"
     ]
    }
   ],
   "source": [
    "# 定義優點分析函數\n",
    "def analyze_pros(restaurant_info):\n",
    "    \"\"\"分析餐廳的優點\"\"\"\n",
    "    pros_template = ChatPromptTemplate.from_messages(\n",
    "        [\n",
    "            (\"system\", \"你是一個專業的餐廳評論家，專門分析餐廳的優點。\"),\n",
    "            (\"human\",\"根據餐廳資訊：{restaurant_info}，請列出這家餐廳的優點。\")\n",
    "        ]\n",
    "    )\n",
    "\n",
    "    return pros_template.format_prompt(restaurant_info=restaurant_info)\n",
    "\n",
    "def analyze_cons(restaurant_info):\n",
    "    \"\"\"分析餐廳的優點\"\"\"\n",
    "    cons_template = ChatPromptTemplate.from_messages(\n",
    "        [\n",
    "            (\"system\", \"你是一個專業的餐廳評論家，專門分析餐廳的缺點。\"),\n",
    "            (\"human\",\"根據餐廳資訊：{restaurant_info}，請列出這家餐廳的缺點。\")\n",
    "        ]\n",
    "    )\n",
    "\n",
    "    return cons_template.format_prompt(restaurant_info=restaurant_info)\n",
    "\n",
    "print(\"分析函數已定義：\")\n",
    "print(\"1. analyze_pros: 分析餐廳優點\")\n",
    "print(\"2. analyze_cons: 分析餐廳缺點\")"
   ]
  },
  {
   "cell_type": "code",
   "execution_count": 12,
   "id": "d07ca648",
   "metadata": {},
   "outputs": [
    {
     "name": "stdout",
     "output_type": "stream",
     "text": [
      "結果合併函數已定義：combine_pros_cons\n"
     ]
    }
   ],
   "source": [
    "# 定義結果合併函數\n",
    "def combine_pros_cons(pros, cons):\n",
    "    \"\"\"將優點和缺點合併成最終評論\"\"\"\n",
    "    return f\"\"\"\n",
    "🍽️ 餐廳評論分析報告\n",
    "{'='*50}\n",
    "\n",
    "✅ 優點分析：\n",
    "{pros}\n",
    "\n",
    "❌ 缺點分析：\n",
    "{cons}\n",
    "\n",
    "📊 總結：這是一個平衡的餐廳評論分析\n",
    "\"\"\"\n",
    "\n",
    "print(\"結果合併函數已定義：combine_pros_cons\")\n"
   ]
  },
  {
   "cell_type": "code",
   "execution_count": 13,
   "id": "6926315b",
   "metadata": {},
   "outputs": [],
   "source": [
    "pros_branch_chain = (\n",
    "    RunnableLambda(lambda x: analyze_pros(x)) | model | StrOutputParser()\n",
    ")\n",
    "\n",
    "cons_branch_chain = (\n",
    "    RunnableLambda(lambda x: analyze_cons(x)) | model | StrOutputParser()\n",
    ")"
   ]
  },
  {
   "cell_type": "code",
   "execution_count": 14,
   "id": "750cfd7c",
   "metadata": {},
   "outputs": [],
   "source": [
    "chain = (\n",
    "    prompt_template\n",
    "    | model\n",
    "    | StrOutputParser()\n",
    "    | RunnableParallel(\n",
    "        pros=pros_branch_chain,\n",
    "        cons=cons_branch_chain\n",
    "    )\n",
    "    | RunnableLambda(lambda x: combine_pros_cons(x[\"pros\"], x[\"cons\"]))\n",
    ")"
   ]
  },
  {
   "cell_type": "code",
   "execution_count": 15,
   "id": "e79a1e8d",
   "metadata": {},
   "outputs": [
    {
     "name": "stdout",
     "output_type": "stream",
     "text": [
      "============================================================\n",
      "餐廳評論分析結果：\n",
      "============================================================\n",
      "\n",
      "🍽️ 餐廳評論分析報告\n",
      "==================================================\n",
      "\n",
      "✅ 優點分析：\n",
      "這家義大利餐廳的優點包括：\n",
      "\n",
      "1. 環境優雅：餐廳內間設計得很精美，氛圍溫馨和舒適，是一個適合 romantic dinner 的選擇。\n",
      "2. 服務人員親切：伺服人員都是熱情和親切的，讓客人感到舒適和放鬆。\n",
      "3. 傳統義式料理：餐廳提供了正宗的義大利菜，對於愛好這類料理的食客來說是一個很好的選擇。\n",
      "\n",
      "❌ 缺點分析：\n",
      "這家義大利餐廳的缺點有：\n",
      "\n",
      "1.價格偏高\n",
      "2. 等待時間較長\n",
      "3. 份量偏少\n",
      "\n",
      "📊 總結：這是一個平衡的餐廳評論分析\n",
      "\n"
     ]
    }
   ],
   "source": [
    "# 執行並行處理鏈 - 測試餐廳評論分析系統\n",
    "restaurant_info = \"\"\"\n",
    "這是一家位於台北市中心的義大利餐廳，提供傳統義式料理。\n",
    "餐廳環境優雅，服務人員親切，但價格偏高，等待時間較長。\n",
    "食物品質不錯，但份量偏少。適合約會或特殊場合用餐。\n",
    "\"\"\"\n",
    "result = chain.invoke({\"restaurant_name\": restaurant_info})\n",
    "\n",
    "# 輸出結果\n",
    "print(\"=\" * 60)\n",
    "print(\"餐廳評論分析結果：\")\n",
    "print(\"=\" * 60)\n",
    "print(result)"
   ]
  }
 ],
 "metadata": {
  "kernelspec": {
   "display_name": ".venv",
   "language": "python",
   "name": "python3"
  },
  "language_info": {
   "codemirror_mode": {
    "name": "ipython",
    "version": 3
   },
   "file_extension": ".py",
   "mimetype": "text/x-python",
   "name": "python",
   "nbconvert_exporter": "python",
   "pygments_lexer": "ipython3",
   "version": "3.11.13"
  }
 },
 "nbformat": 4,
 "nbformat_minor": 5
}
