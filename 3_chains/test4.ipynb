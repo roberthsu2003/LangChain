{
 "cells": [
  {
   "cell_type": "code",
   "execution_count": 5,
   "id": "d348d51d",
   "metadata": {},
   "outputs": [
    {
     "name": "stdout",
     "output_type": "stream",
     "text": [
      "✅模型已建立\n"
     ]
    }
   ],
   "source": [
    "from dotenv import load_dotenv\n",
    "from langchain.prompts import ChatPromptTemplate\n",
    "from langchain.schema.output_parser import StrOutputParser\n",
    "from langchain.schema.runnable import RunnableLambda\n",
    "from langchain_ollama.llms import OllamaLLM\n",
    "\n",
    "load_dotenv()\n",
    "model = OllamaLLM(model=\"llama3.2:latest\")\n",
    "print(\"✅模型已建立\")"
   ]
  },
  {
   "cell_type": "code",
   "execution_count": 6,
   "id": "4b4d90a8",
   "metadata": {},
   "outputs": [
    {
     "name": "stdout",
     "output_type": "stream",
     "text": [
      "✅ 主提示模板已建立\n"
     ]
    }
   ],
   "source": [
    "# 主提示模板\n",
    "prompt_template = ChatPromptTemplate.from_messages(\n",
    "    [\n",
    "        (\"system\", \"您是專業的客服代表。\"),\n",
    "        (\"human\", \"請回覆這封客戶郵件:\\n\\n{email_content}\")\n",
    "    ]\n",
    ")\n",
    "\n",
    "print(\"✅ 主提示模板已建立\")\n",
    "\n"
   ]
  },
  {
   "cell_type": "code",
   "execution_count": 7,
   "id": "d64a2be4",
   "metadata": {},
   "outputs": [],
   "source": [
    "def prepare_quality_check_prompt(reply):\n",
    "    \"\"\"\n",
    "    根據回覆內容動態準備品質檢查 Prompt\n",
    "    \n",
    "    關鍵點：\n",
    "    - 只負責準備數據，不直接調用模型\n",
    "    - 返回 dict 格式，傳給下一個 Prompt Template\n",
    "    - 根據內容動態調整檢查重點\n",
    "    \"\"\"\n",
    "\n",
    "    #步驟1:格式化郵件\n",
    "    formatted = f\"\"\"\n",
    "親愛的客戶,\n",
    "{reply}\n",
    "\n",
    "此致\n",
    "客服團隊\n",
    "\"\"\"\n",
    "    # 步驟 2:智能分析內容,決定檢查重點\n",
    "    if \"退貨\" in reply or \"換貨\" in reply:\n",
    "        focus = \"請特別注意退換貨政策的說明是否清楚、完整。評估是否明確告知客戶處理流程。\"\n",
    "    elif \"抱歉\" in reply or \"歉意\" in reply:\n",
    "        focus = \"請特別注意道歉的誠意和補償措施。評估是否展現足夠的同理心和解決問題的決心。\"\n",
    "    elif \"感謝\" in reply:\n",
    "        focus = \"請評估回覆的友善度和專業度。確認是否適當表達了對客戶的重視。\"\n",
    "    else:\n",
    "        focus = \"請評估整體的專業度、友善度和完整度。\"\n",
    "\n",
    "    return {\n",
    "        \"email\":formatted,\n",
    "        \"focus\":focus\n",
    "    }"
   ]
  },
  {
   "cell_type": "code",
   "execution_count": 8,
   "id": "763bb3ac",
   "metadata": {},
   "outputs": [
    {
     "name": "stdout",
     "output_type": "stream",
     "text": [
      "✅ 動態提示鏈已建立完成！\n",
      "\n",
      "流程：主 Prompt → 主模型 → 動態準備檢查 Prompt → 品質檢查模型\n",
      "\n",
      "✨ 特點：Lambda 只負責準備數據，模型調用清晰可見\n"
     ]
    }
   ],
   "source": [
    "# 品質檢查Prompt(接收動態準備的數據)\n",
    "dynamic_quality_propmt = ChatPromptTemplate.from_messages(\n",
    "    [\n",
    "        (\"system\",\"你是郵件品質審查專家。{focus}\"),\n",
    "        (\"human\", \"評估這封郵件:\\n\\n{email}\")\n",
    "    ]\n",
    ")\n",
    "dynamic_chain = (\n",
    "    prompt_template\n",
    "    | model\n",
    "    | StrOutputParser()\n",
    "    | RunnableLambda(prepare_quality_check_prompt)\n",
    "    | dynamic_quality_propmt\n",
    "    | model\n",
    "    | StrOutputParser()\n",
    ")\n",
    "print(\"✅ 動態提示鏈已建立完成！\")\n",
    "print(\"\\n流程：主 Prompt → 主模型 → 動態準備檢查 Prompt → 品質檢查模型\")\n",
    "print(\"\\n✨ 特點：Lambda 只負責準備數據，模型調用清晰可見\")"
   ]
  },
  {
   "cell_type": "code",
   "execution_count": 9,
   "id": "c2fdfeff",
   "metadata": {},
   "outputs": [
    {
     "name": "stdout",
     "output_type": "stream",
     "text": [
      "============================================================\n",
      "測試案例 1：退換貨問題（應強調退換貨政策）\n",
      "============================================================\n",
      "評估結果：\n",
      "\n",
      "退換貨政策的說明:\n",
      "\n",
      "* 回應清晰且提到退換貨政策，告知客戶可以優先處理退貨或換貨要求。\n",
      "* 提供了包裝受損的情況下會提供全新的產品和退貨oucher的解釋。\n",
      "\n",
      "處理流程未被明確告知:\n",
      "\n",
      "* 未提到退貨或換貨的程序詳細，例如要填寫什麼單位、需要提供什麼證據等。\n",
      "* 未明確告知客戶該如何聯繫客服代表進行進一步協助。\n",
      "\n",
      "評分：6/10\n",
      "\n",
      "建議:\n",
      "\n",
      "* 將退換貨政策的說明作為一個獨立的部分，例如 \"退換貨政策\"。\n",
      "* 提供清晰且詳細的處理流程，包括填寫什麼單位、需要提供什麼證據等。\n",
      "* 加強了客戶與客服代表之間的溝通機會，例如提供聯繫方式和Contact 時間。\n"
     ]
    }
   ],
   "source": [
    "# 測試案例 1：退換貨問題\n",
    "customer_email_1 = \"\"\"\n",
    "您好，\n",
    "\n",
    "我最近購買了貴公司的產品，但是發現包裝有損壞。\n",
    "請問可以退貨或換貨嗎？\n",
    "\n",
    "王小明\n",
    "\"\"\"\n",
    "\n",
    "print(\"=\"*60)\n",
    "print(\"測試案例 1：退換貨問題（應強調退換貨政策）\")\n",
    "print(\"=\"*60)\n",
    "result1 = dynamic_chain.invoke({\"email_content\": customer_email_1})\n",
    "print(result1)"
   ]
  },
  {
   "cell_type": "code",
   "execution_count": 10,
   "id": "16b47c4f",
   "metadata": {},
   "outputs": [
    {
     "name": "stdout",
     "output_type": "stream",
     "text": [
      "\n",
      "============================================================\n",
      "測試案例 2：投訴問題（應強調道歉誠意）\n",
      "============================================================\n",
      "對於這封郵件，我給予友善度和專業度的評分如下：\n",
      "\n",
      "友善度：8/10\n",
      "\n",
      "* 這封郵件對客戶表達了 sincerelly 的歉意和關心，這是很好的開始。\n",
      "* 使用親愛的語氣和尊敬的語氣，表明對客戶的重視。\n",
      "* 提供電話/Email 狀況，並提供幫助資訊，有助於客戶快速找到解決方案。\n",
      "\n",
      "專業度：9/10\n",
      "\n",
      "* 回覆中使用了正確的語句和 格式，表明了熟練的寫作技能。\n",
      "* 應該將 \"尊敬的customer\" 和 \"親愛的客戶\" 的字樣用一致的語氣來表達，以避免混淆。\n",
      "* 回覆中缺少了一些詳細的資訊，例如問題描述或具體的解決方案，可能需要更多的信息以完成處理。\n",
      "\n",
      "適當表達對客戶的重視：9/10\n",
      "\n",
      "* 這封郵件表明了對客戶的關心和歉意，並提供幫助資訊，有助於客戶快速找到解決方案。\n",
      "* 使用了 \"我們值得您的信任和支持\" 的語句，強調了公司的重視對客戶。\n",
      "\n",
      "總體來說，這封郵件是很好的回覆，但還需要一些微調以提高其專業度和具體性。\n"
     ]
    }
   ],
   "source": [
    "# 測試案例 2：投訴問題\n",
    "customer_email_2 = \"\"\"\n",
    "你們的服務態度太差了！\n",
    "我要投訴！\n",
    "\"\"\"\n",
    "\n",
    "print(\"\\n\" + \"=\"*60)\n",
    "print(\"測試案例 2：投訴問題（應強調道歉誠意）\")\n",
    "print(\"=\"*60)\n",
    "result2 = dynamic_chain.invoke({\"email_content\": customer_email_2})\n",
    "print(result2)"
   ]
  },
  {
   "cell_type": "code",
   "execution_count": 11,
   "id": "1111c35d",
   "metadata": {},
   "outputs": [
    {
     "name": "stdout",
     "output_type": "stream",
     "text": [
      "\n",
      "============================================================\n",
      "測試案例 3：一般諮詢（評估整體專業度）\n",
      "============================================================\n",
      "根據我的評估，這封郵件的專業度為 8/10。原因如下：\n",
      "\n",
      "- 專業度：郵件中使用了簡潔且明確的語句，表達了營業時間、休息日等必要資訊。\n",
      "-友善度：雖然郵件是正式的，但 tone 感覺相當友善和幫助性，可以讓客戶了解公司的OPERATING 時間和查找服務資訊的途徑。\n",
      "\n",
      "然而，整體而言，這封郵件缺乏了一點完整度。例如，雖然提到了對客戶需要任何服務或問卷時應該如何尋找相關資訊，但没有提供明確的連結或接觸方式來進行查找，這使得這個部分的完整度感覺不夠完善。\n",
      "\n",
      "綜合評估後，我給這封郵件的整體評分為 7.5/10。\n"
     ]
    }
   ],
   "source": [
    "# 測試案例 3：一般諮詢\n",
    "customer_email_3 = \"\"\"\n",
    "請問你們的營業時間？\n",
    "\"\"\"\n",
    "\n",
    "print(\"\\n\" + \"=\"*60)\n",
    "print(\"測試案例 3：一般諮詢（評估整體專業度）\")\n",
    "print(\"=\"*60)\n",
    "result3 = dynamic_chain.invoke({\"email_content\": customer_email_3})\n",
    "print(result3)"
   ]
  }
 ],
 "metadata": {
  "kernelspec": {
   "display_name": ".venv",
   "language": "python",
   "name": "python3"
  },
  "language_info": {
   "codemirror_mode": {
    "name": "ipython",
    "version": 3
   },
   "file_extension": ".py",
   "mimetype": "text/x-python",
   "name": "python",
   "nbconvert_exporter": "python",
   "pygments_lexer": "ipython3",
   "version": "3.11.13"
  }
 },
 "nbformat": 4,
 "nbformat_minor": 5
}
