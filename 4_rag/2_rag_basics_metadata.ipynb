{
 "cells": [
  {
   "cell_type": "markdown",
   "metadata": {},
   "source": [
    "# RAG 多檔案與元數據\n",
    "\n",
    "本範例展示：\n",
    "1. **第1個儲存格**：建立多檔案向量資料庫（含元數據）\n",
    "2. **第2個儲存格**：使用元數據過濾查詢\n",
    "\n",
    "學習目標：理解如何處理多個來源的文件並使用元數據進行過濾檢索"
   ]
  },
  {
   "cell_type": "code",
   "execution_count": null,
   "metadata": {},
   "outputs": [],
   "source": "# 第1個儲存格：建立多檔案向量資料庫（含元數據）\n\nimport os\nfrom langchain.text_splitter import CharacterTextSplitter\nfrom langchain_community.document_loaders import TextLoader\nfrom langchain_community.vectorstores import Chroma\nfrom langchain_community.embeddings import HuggingFaceEmbeddings\n\n# 定義包含文字檔案的目錄和持久化目錄\ncurrent_dir = os.path.dirname(os.path.abspath(\"__file__\"))\nbooks_dir = os.path.join(current_dir, \"books\")\ndb_dir = os.path.join(current_dir, \"db\")\npersistent_directory = os.path.join(db_dir, \"chroma_db_with_metadata_chinese_nb\")\n\nprint(f\"書籍目錄: {books_dir}\")\nprint(f\"持久化目錄: {persistent_directory}\")\n\n# 檢查 Chroma 向量存儲是否已存在\nif not os.path.exists(persistent_directory):\n    print(\"持久化目錄不存在。正在初始化向量存儲...\")\n\n    # 確保書籍目錄存在\n    if not os.path.exists(books_dir):\n        raise FileNotFoundError(\n            f\"目錄 {books_dir} 不存在。請檢查路徑。\"\n        )\n\n    # 列出目錄中所有文字檔案\n    book_files = [f for f in os.listdir(books_dir) if f.endswith(\".txt\")]\n\n    # 從每個檔案讀取文字內容並儲存元數據\n    documents = []\n    for book_file in book_files:\n        file_path = os.path.join(books_dir, book_file)\n        loader = TextLoader(file_path)\n        book_docs = loader.load()\n        for doc in book_docs:\n            # 為每個文件添加元數據以指示其來源\n            doc.metadata = {\"source\": book_file}\n            documents.append(doc)\n\n    # 將文件分割成塊\n    text_splitter = CharacterTextSplitter(chunk_size=1000, chunk_overlap=0)\n    docs = text_splitter.split_documents(documents)\n\n    # 顯示分割文件的資訊\n    print(\"\\n--- 文件塊資訊 ---\")\n    print(f\"文件塊數量: {len(docs)}\")\n\n    # 建立嵌入模型\n    print(\"\\n--- 正在建立嵌入 ---\")\n    embeddings = HuggingFaceEmbeddings(\n        model_name=\"jinaai/jina-embeddings-v2-base-zh\"\n    )\n    print(\"\\n--- 完成建立嵌入 ---\")\n\n    # 建立並持久化向量存儲\n    print(\"\\n--- 正在建立並持久化向量存儲 ---\")\n    db = Chroma.from_documents(\n        docs, embeddings, persist_directory=persistent_directory)\n    print(\"\\n--- 完成建立並持久化向量存儲 ---\")\n\nelse:\n    print(\"向量存儲已存在。無需初始化。\")"
  },
  {
   "cell_type": "code",
   "execution_count": null,
   "metadata": {},
   "outputs": [],
   "source": "# 第2個儲存格：使用元數據過濾查詢\n\nimport os\nfrom langchain_community.vectorstores import Chroma\nfrom langchain_community.embeddings import HuggingFaceEmbeddings\n\n# 定義持久化目錄\ncurrent_dir = os.path.dirname(os.path.abspath(\"__file__\"))\ndb_dir = os.path.join(current_dir, \"db\")\npersistent_directory = os.path.join(db_dir, \"chroma_db_with_metadata_chinese_nb\")\n\n# 定義嵌入模型\nembeddings = HuggingFaceEmbeddings(model_name=\"jinaai/jina-embeddings-v2-base-zh\")\n\n# 使用嵌入函數載入現有的向量存儲\ndb = Chroma(persist_directory=persistent_directory,\n            embedding_function=embeddings)\n\n# 定義使用者的問題\nquery = \"路由器的WiFi密碼如何更改？\"\n\n# 根據查詢檢索相關文件\n# search_type=\"similarity_score_threshold\": 使用相似度分數閾值過濾\n# k=3: 返回最多 3 個相關文件\n# score_threshold=0.1: 較低的閾值，可以返回更多相關文件\nretriever = db.as_retriever(\n    search_type=\"similarity_score_threshold\",\n    search_kwargs={\"k\": 3, \"score_threshold\": 0.1},\n)\nrelevant_docs = retriever.invoke(query)\n\n# 顯示相關結果及元數據\nprint(\"\\n--- 相關文件 ---\")\nfor i, doc in enumerate(relevant_docs, 1):\n    print(f\"文件 {i}:\\n{doc.page_content}\\n\")\n    print(f\"來源: {doc.metadata['source']}\\n\")\n\n# 進階查詢：只從特定來源檢索\nprint(\"\\n--- 只從《路由器設定手冊》檢索 ---\")\n# 使用 filter 參數指定元數據條件\nspecific_docs = db.similarity_search(\n    query,\n    k=3,\n    filter={\"source\": \"路由器設定手冊.txt\"}\n)\n\nfor i, doc in enumerate(specific_docs, 1):\n    print(f\"文件 {i}:\\n{doc.page_content}\\n\")\n    print(f\"來源: {doc.metadata['source']}\\n\")"
  },
  {
   "cell_type": "code",
   "source": "# 第3個儲存格：整合 Chain - 多來源文件的智慧問答鏈\n\nfrom langchain_core.prompts import ChatPromptTemplate\nfrom langchain_core.output_parsers import StrOutputParser\nfrom langchain_core.runnables import RunnablePassthrough\nfrom langchain_ollama import ChatOllama\n\n# 定義使用者的問題\nquestion = \"如何保養洗衣機和路由器？\"\n\nprint(f\"❓ 使用者問題: {question}\\n\")\n\n# 步驟 1: 從多個來源檢索相關文件\nprint(\"=\" * 70)\nprint(\"步驟 1: 從多個來源檢索相關文件\")\nprint(\"=\" * 70)\n\nretriever = db.as_retriever(\n    search_type=\"similarity\",\n    search_kwargs={\"k\": 4}  # 取4個相關文件（可能來自不同手冊）\n)\n\nretrieved_docs = retriever.invoke(question)\n\nprint(f\"✅ 找到 {len(retrieved_docs)} 個相關文件\\n\")\nfor i, doc in enumerate(retrieved_docs, 1):\n    source = doc.metadata.get('source', 'Unknown')\n    print(f\"📄 文件 {i} - 來源: {source}\")\n    print(f\"   內容: {doc.page_content[:80]}...\\n\")\n\n# 步驟 2: 建立帶有來源標註的 RAG Chain\nprint(\"=\" * 70)\nprint(\"步驟 2: 建立多來源 RAG Chain\")\nprint(\"=\" * 70)\n\n# 定義提示模板（強調來源資訊）\ntemplate = \"\"\"你是一個專業的產品客服助手。請根據以下多個產品手冊的參考資料回答使用者的問題。\n\n參考資料：\n{context}\n\n使用者問題：{question}\n\n回答要求：\n1. 針對不同產品分別說明（如果問題涉及多個產品）\n2. 在回答中標註資訊來源（例如：「根據洗衣機使用說明...」）\n3. 只根據參考資料回答，不要編造內容\n4. 如果某個產品的資訊不足，請說明\n5. 用條列式整理，讓使用者容易閱讀\n\n回答：\"\"\"\n\nprompt = ChatPromptTemplate.from_template(template)\n\n# 建立 LLM\nllm = ChatOllama(model=\"llama3.2\", temperature=0)\n\n# 定義文件格式化函數（包含來源資訊）\ndef format_docs_with_source(docs):\n    formatted = []\n    for i, doc in enumerate(docs, 1):\n        source = doc.metadata.get('source', 'Unknown')\n        formatted.append(f\"【來源 {i}: {source}】\\n{doc.page_content}\")\n    return \"\\n\\n---\\n\\n\".join(formatted)\n\n# 建立完整的 RAG Chain（整合 3_chains 的技巧）\nrag_chain = (\n    {\n        \"context\": retriever | format_docs_with_source, \n        \"question\": RunnablePassthrough()\n    }\n    | prompt\n    | llm\n    | StrOutputParser()\n)\n\nprint(\"✅ 多來源 RAG Chain 建立完成\\n\")\n\n# 步驟 3: 執行 Chain 並取得整合答案\nprint(\"=\" * 70)\nprint(\"步驟 3: 執行 Chain 取得整合答案\")\nprint(\"=\" * 70)\n\nanswer = rag_chain.invoke(question)\n\nprint(f\"\\n🤖 【AI 整合回答】\\n\")\nprint(answer)\nprint()\n\n# 步驟 4: 示範使用元數據過濾的 Chain\nprint(\"=\" * 70)\nprint(\"步驟 4: 只查詢特定來源的 Chain\")\nprint(\"=\" * 70)\n\nspecific_question = \"路由器如何設定？\"\nprint(f\"❓ 問題: {specific_question}\\n\")\n\n# 創建只查詢路由器手冊的檢索器\ndef retrieve_from_router_manual(query):\n    docs = db.similarity_search(\n        query,\n        k=3,\n        filter={\"source\": \"路由器設定手冊.txt\"}\n    )\n    return docs\n\n# 建立特定來源的 Chain\nspecific_chain = (\n    {\n        \"context\": RunnablePassthrough() | retrieve_from_router_manual | format_docs_with_source,\n        \"question\": RunnablePassthrough()\n    }\n    | prompt\n    | llm\n    | StrOutputParser()\n)\n\nspecific_answer = specific_chain.invoke(specific_question)\nprint(f\"🤖 【只查路由器手冊的回答】\\n\")\nprint(specific_answer)\nprint()\n\nprint(\"=\" * 70)\nprint(\"📚 多來源 RAG Chain 的優勢\")\nprint(\"=\" * 70)\nprint(\"✅ 可以同時查詢多個產品手冊\")\nprint(\"✅ 自動標註資訊來源，方便追蹤\")\nprint(\"✅ 可以用 metadata 過濾特定來源\")\nprint(\"✅ 整合多個文件的資訊給出完整答案\")\nprint(\"\\n💡 這展示了 Chain 3 中學到的組合技巧在 RAG 中的應用！\")",
   "metadata": {},
   "execution_count": null,
   "outputs": []
  }
 ],
 "metadata": {
  "kernelspec": {
   "display_name": "Python 3",
   "language": "python",
   "name": "python3"
  },
  "language_info": {
   "codemirror_mode": {
    "name": "ipython",
    "version": 3
   },
   "file_extension": ".py",
   "mimetype": "text/x-python",
   "name": "python",
   "nbconvert_exporter": "python",
   "pygments_lexer": "ipython3",
   "version": "3.11.0"
  }
 },
 "nbformat": 4,
 "nbformat_minor": 4
}