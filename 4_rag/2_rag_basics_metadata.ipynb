{
 "cells": [
  {
   "cell_type": "markdown",
   "metadata": {},
   "source": [
    "# RAG 多檔案與元數據\n",
    "\n",
    "本範例展示：\n",
    "1. **第1個儲存格**：建立多檔案向量資料庫（含元數據）\n",
    "2. **第2個儲存格**：使用元數據過濾查詢\n",
    "\n",
    "學習目標：理解如何處理多個來源的文件並使用元數據進行過濾檢索"
   ]
  },
  {
   "cell_type": "code",
   "execution_count": null,
   "metadata": {},
   "outputs": [],
   "source": "# 第1個儲存格：建立多檔案向量資料庫（含元數據）\n\nimport os\nfrom langchain.text_splitter import CharacterTextSplitter\nfrom langchain_community.document_loaders import TextLoader\nfrom langchain_community.vectorstores import Chroma\nfrom langchain_community.embeddings import HuggingFaceEmbeddings\n\n# 定義包含文字檔案的目錄和持久化目錄\ncurrent_dir = os.path.dirname(os.path.abspath(\"__file__\"))\nbooks_dir = os.path.join(current_dir, \"books\")\ndb_dir = os.path.join(current_dir, \"db\")\npersistent_directory = os.path.join(db_dir, \"chroma_db_with_metadata_chinese_nb\")\n\nprint(f\"書籍目錄: {books_dir}\")\nprint(f\"持久化目錄: {persistent_directory}\")\n\n# 檢查 Chroma 向量存儲是否已存在\nif not os.path.exists(persistent_directory):\n    print(\"持久化目錄不存在。正在初始化向量存儲...\")\n\n    # 確保書籍目錄存在\n    if not os.path.exists(books_dir):\n        raise FileNotFoundError(\n            f\"目錄 {books_dir} 不存在。請檢查路徑。\"\n        )\n\n    # 列出目錄中所有文字檔案\n    book_files = [f for f in os.listdir(books_dir) if f.endswith(\".txt\")]\n\n    # 從每個檔案讀取文字內容並儲存元數據\n    documents = []\n    for book_file in book_files:\n        file_path = os.path.join(books_dir, book_file)\n        loader = TextLoader(file_path)\n        book_docs = loader.load()\n        for doc in book_docs:\n            # 為每個文件添加元數據以指示其來源\n            doc.metadata = {\"source\": book_file}\n            documents.append(doc)\n\n    # 將文件分割成塊\n    text_splitter = CharacterTextSplitter(chunk_size=1000, chunk_overlap=0)\n    docs = text_splitter.split_documents(documents)\n\n    # 顯示分割文件的資訊\n    print(\"\\n--- 文件塊資訊 ---\")\n    print(f\"文件塊數量: {len(docs)}\")\n\n    # 建立嵌入模型\n    print(\"\\n--- 正在建立嵌入 ---\")\n    embeddings = HuggingFaceEmbeddings(\n        model_name=\"jinaai/jina-embeddings-v2-base-zh\"\n    )\n    print(\"\\n--- 完成建立嵌入 ---\")\n\n    # 建立並持久化向量存儲\n    print(\"\\n--- 正在建立並持久化向量存儲 ---\")\n    db = Chroma.from_documents(\n        docs, embeddings, persist_directory=persistent_directory)\n    print(\"\\n--- 完成建立並持久化向量存儲 ---\")\n\nelse:\n    print(\"向量存儲已存在。無需初始化。\")"
  },
  {
   "cell_type": "code",
   "execution_count": null,
   "metadata": {},
   "outputs": [],
   "source": "# 第2個儲存格：使用元數據過濾查詢\n\nimport os\nfrom langchain_community.vectorstores import Chroma\nfrom langchain_community.embeddings import HuggingFaceEmbeddings\n\n# 定義持久化目錄\ncurrent_dir = os.path.dirname(os.path.abspath(\"__file__\"))\ndb_dir = os.path.join(current_dir, \"db\")\npersistent_directory = os.path.join(db_dir, \"chroma_db_with_metadata_chinese_nb\")\n\n# 定義嵌入模型\nembeddings = HuggingFaceEmbeddings(model_name=\"jinaai/jina-embeddings-v2-base-zh\")\n\n# 使用嵌入函數載入現有的向量存儲\ndb = Chroma(persist_directory=persistent_directory,\n            embedding_function=embeddings)\n\n# 定義使用者的問題\nquery = \"賈寶玉和林黛玉是什麼關係?\"\n\n# 根據查詢檢索相關文件\n# search_type=\"similarity_score_threshold\": 使用相似度分數閾值過濾\n# k=3: 返回最多 3 個相關文件\n# score_threshold=0.1: 較低的閾值，可以返回更多相關文件\nretriever = db.as_retriever(\n    search_type=\"similarity_score_threshold\",\n    search_kwargs={\"k\": 3, \"score_threshold\": 0.1},\n)\nrelevant_docs = retriever.invoke(query)\n\n# 顯示相關結果及元數據\nprint(\"\\n--- 相關文件 ---\")\nfor i, doc in enumerate(relevant_docs, 1):\n    print(f\"文件 {i}:\\n{doc.page_content}\\n\")\n    print(f\"來源: {doc.metadata['source']}\\n\")\n\n# 進階查詢：只從特定來源檢索\nprint(\"\\n--- 只從《紅樓夢》檢索 ---\")\n# 使用 filter 參數指定元數據條件\nspecific_docs = db.similarity_search(\n    query,\n    k=3,\n    filter={\"source\": \"紅樓夢.txt\"}\n)\n\nfor i, doc in enumerate(specific_docs, 1):\n    print(f\"文件 {i}:\\n{doc.page_content}\\n\")\n    print(f\"來源: {doc.metadata['source']}\\n\")"
  }
 ],
 "metadata": {
  "kernelspec": {
   "display_name": "Python 3",
   "language": "python",
   "name": "python3"
  },
  "language_info": {
   "codemirror_mode": {
    "name": "ipython",
    "version": 3
   },
   "file_extension": ".py",
   "mimetype": "text/x-python",
   "name": "python",
   "nbconvert_exporter": "python",
   "pygments_lexer": "ipython3",
   "version": "3.11.0"
  }
 },
 "nbformat": 4,
 "nbformat_minor": 4
}