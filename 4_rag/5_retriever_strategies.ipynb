{
 "cells": [
  {
   "cell_type": "markdown",
   "metadata": {},
   "source": [
    "# 檢索器策略比較\n",
    "\n",
    "本範例展示：\n",
    "1. **第1個儲存格**：載入向量資料庫\n",
    "2. **第2個儲存格**：比較三種檢索策略（Similarity、MMR、Threshold）\n",
    "\n",
    "學習目標：理解不同檢索策略的特點，根據需求選擇最適合的檢索方式"
   ]
  },
  {
   "cell_type": "code",
   "execution_count": null,
   "metadata": {},
   "outputs": [],
   "source": [
    "# 第1個儲存格：載入向量資料庫\n",
    "\n",
    "import os\n",
    "from langchain_community.vectorstores import Chroma\n",
    "from langchain_community.embeddings import HuggingFaceEmbeddings\n",
    "\n",
    "# 定義持久化目錄\n",
    "current_dir = os.path.dirname(os.path.abspath(\"__file__\"))\n",
    "db_dir = os.path.join(current_dir, \"db\")\n",
    "persistent_directory = os.path.join(db_dir, \"chroma_db_with_metadata_chinese_nb\")\n",
    "\n",
    "# 定義嵌入模型\n",
    "embeddings = HuggingFaceEmbeddings(model_name=\"jinaai/jina-embeddings-v2-base-zh\")\n",
    "\n",
    "# 使用嵌入函數載入現有的向量存儲\n",
    "db = Chroma(persist_directory=persistent_directory,\n",
    "            embedding_function=embeddings)\n",
    "\n",
    "print(\"向量資料庫已載入\")\n",
    "print(f\"資料庫位置: {persistent_directory}\")"
   ]
  },
  {
   "cell_type": "code",
   "source": "# 第2個儲存格：比較三種檢索策略（Similarity、MMR、Threshold）\n\nimport os\nfrom langchain_community.vectorstores import Chroma\nfrom langchain_community.embeddings import HuggingFaceEmbeddings\n\n# 定義持久化目錄\ncurrent_dir = os.path.dirname(os.path.abspath(\"__file__\"))\ndb_dir = os.path.join(current_dir, \"db\")\npersistent_directory = os.path.join(db_dir, \"chroma_db_with_metadata_chinese_nb\")\n\n# 定義嵌入模型\nembeddings = HuggingFaceEmbeddings(model_name=\"jinaai/jina-embeddings-v2-base-zh\")\n\n# 載入向量存儲\ndb = Chroma(persist_directory=persistent_directory,\n            embedding_function=embeddings)\n\n# 定義使用者的問題\nquery = \"電動機車電池如何保養？\"\n\nprint(\"\\n\" + \"=\"*70)\nprint(f\"查詢問題：{query}\")\nprint(\"=\"*70)\n\n# 1. 相似度搜尋（Similarity Search）\nprint(f\"\\n{'='*70}\")\nprint(\"檢索策略 1：相似度搜尋 (Similarity Search)\")\nprint(f\"{'='*70}\")\nprint(\"📌 特點：返回與查詢最相似的文件\")\nprint(\"⚙️  參數：k=3（返回3個結果）\\n\")\n\nretriever_similarity = db.as_retriever(\n    search_type=\"similarity\",\n    search_kwargs={\"k\": 3}\n)\ndocs_similarity = retriever_similarity.invoke(query)\n\nfor i, doc in enumerate(docs_similarity, 1):\n    print(f\"文件 {i}:\")\n    content_preview = doc.page_content[:100].replace('\\n', ' ')\n    print(f\"{content_preview}...\")\n    if doc.metadata:\n        print(f\"來源: {doc.metadata.get('source', 'Unknown')}\\n\")\n\n# 2. 最大邊際相關性（MMR - Maximal Marginal Relevance）\nprint(f\"\\n{'='*70}\")\nprint(\"檢索策略 2：最大邊際相關性 (MMR)\")\nprint(f\"{'='*70}\")\nprint(\"📌 特點：結果多樣化，避免重複相似的內容\")\nprint(\"⚙️  參數：k=3, fetch_k=20, lambda_mult=0.5\")\nprint(\"   - fetch_k: 先取20個候選文件\")\nprint(\"   - lambda_mult: 0.5 平衡相關性和多樣性\\n\")\n\nretriever_mmr = db.as_retriever(\n    search_type=\"mmr\",\n    search_kwargs={\"k\": 3, \"fetch_k\": 20, \"lambda_mult\": 0.5}\n)\ndocs_mmr = retriever_mmr.invoke(query)\n\nfor i, doc in enumerate(docs_mmr, 1):\n    print(f\"文件 {i}:\")\n    content_preview = doc.page_content[:100].replace('\\n', ' ')\n    print(f\"{content_preview}...\")\n    if doc.metadata:\n        print(f\"來源: {doc.metadata.get('source', 'Unknown')}\\n\")\n\n# 3. 相似度分數閾值（Similarity Score Threshold）\nprint(f\"\\n{'='*70}\")\nprint(\"檢索策略 3：相似度分數閾值 (Similarity Score Threshold)\")\nprint(f\"{'='*70}\")\nprint(\"📌 特點：只返回相似度分數超過閾值的文件\")\nprint(\"⚙️  參數：score_threshold=0.1（分數 >= 0.1 才返回）\\n\")\n\nretriever_threshold = db.as_retriever(\n    search_type=\"similarity_score_threshold\",\n    search_kwargs={\"score_threshold\": 0.1}\n)\ndocs_threshold = retriever_threshold.invoke(query)\n\nprint(f\"找到 {len(docs_threshold)} 個符合閾值的文件\\n\")\nfor i, doc in enumerate(docs_threshold, 1):\n    print(f\"文件 {i}:\")\n    content_preview = doc.page_content[:100].replace('\\n', ' ')\n    print(f\"{content_preview}...\")\n    if doc.metadata:\n        print(f\"來源: {doc.metadata.get('source', 'Unknown')}\\n\")\n\n# 總結比較\nprint(f\"\\n{'='*70}\")\nprint(\"📊 三種策略比較總結\")\nprint(f\"{'='*70}\")\nprint(f\"\"\"\n檢索策略            返回數量\n─────────────────  ────────\nSimilarity         {len(docs_similarity)} 個\nMMR                {len(docs_mmr)} 個\nThreshold          {len(docs_threshold)} 個\n\n💡 選擇建議：\n✅ Similarity：一般查詢，速度快\n✅ MMR：需要多樣化結果，避免重複\n✅ Threshold：品質優先，過濾低相關性結果\n\n🔍 觀察重點：\n- Similarity 和 MMR 的結果是否有差異？\n- MMR 是否提供了更多元的資訊？\n- Threshold 過濾掉了多少低品質結果？\n\"\"\")",
   "metadata": {},
   "execution_count": null,
   "outputs": []
  },
  {
   "cell_type": "code",
   "execution_count": null,
   "metadata": {},
   "outputs": [],
   "source": "# 第3個儲存格：整合 Chain 功能 - 比較不同檢索策略的 RAG Chain\n\nimport os\nfrom langchain_community.vectorstores import Chroma\nfrom langchain_community.embeddings import HuggingFaceEmbeddings\nfrom langchain_core.prompts import ChatPromptTemplate\nfrom langchain_core.output_parsers import StrOutputParser\nfrom langchain_core.runnables import RunnablePassthrough\nfrom langchain_openai import ChatOpenAI\n\n# 定義持久化目錄\ncurrent_dir = os.path.dirname(os.path.abspath(\"__file__\"))\ndb_dir = os.path.join(current_dir, \"db\")\npersistent_directory = os.path.join(db_dir, \"chroma_db_with_metadata_chinese_nb\")\n\n# 定義嵌入模型\nembeddings = HuggingFaceEmbeddings(model_name=\"jinaai/jina-embeddings-v2-base-zh\")\n\n# 載入向量存儲\ndb = Chroma(persist_directory=persistent_directory,\n            embedding_function=embeddings)\n\n# 初始化 LLM\nllm = ChatOpenAI(model=\"gpt-4o-mini\", temperature=0)\n\n# 定義 Prompt 模板\nprompt = ChatPromptTemplate.from_template(\"\"\"你是一位專業的電動機車維護顧問，請根據提供的資料回答使用者問題。\n\n參考資料：\n{context}\n\n問題：{question}\n\n請提供清楚、實用的回答：\"\"\")\n\n# 格式化文件的函數\ndef format_docs(docs):\n    return \"\\n\\n\".join(doc.page_content for doc in docs)\n\n# 使用不同檢索策略的 RAG Chain 並比較結果\ndef compare_retriever_rag_chains(search_type, search_kwargs, strategy_name, query):\n    print(f\"\\n{'='*70}\")\n    print(f\"檢索策略：{strategy_name}\")\n    print(f\"{'='*70}\")\n    print(f\"搜尋類型: {search_type}\")\n    print(f\"搜尋參數: {search_kwargs}\")\n    print(f\"{'-'*70}\")\n    \n    # 建立檢索器\n    retriever = db.as_retriever(\n        search_type=search_type,\n        search_kwargs=search_kwargs,\n    )\n    \n    # 步驟 1：檢索相關文件\n    print(f\"\\n📋 步驟 1：檢索相關文件\")\n    retrieved_docs = retriever.invoke(query)\n    print(f\"找到 {len(retrieved_docs)} 個相關文件\")\n    for i, doc in enumerate(retrieved_docs, 1):\n        print(f\"\\n文件 {i} 內容預覽：\")\n        content_preview = doc.page_content[:120].replace('\\n', ' ')\n        print(f\"{content_preview}...\")\n        if doc.metadata:\n            print(f\"來源: {doc.metadata.get('source', 'Unknown')}\")\n    \n    # 步驟 2：建立 RAG Chain\n    print(f\"\\n⛓️  步驟 2：建立 RAG Chain\")\n    rag_chain = (\n        {\"context\": retriever | format_docs, \"question\": RunnablePassthrough()}\n        | prompt\n        | llm\n        | StrOutputParser()\n    )\n    \n    # 步驟 3：執行 Chain 並取得答案\n    print(f\"\\n🤖 步驟 3：生成回答\")\n    answer = rag_chain.invoke(query)\n    print(f\"\\n【{strategy_name} 的回答】\")\n    print(answer)\n    print(f\"\\n{'-'*70}\")\n    \n    return answer\n\n# 定義使用者的問題\nquery = \"電動機車電池如何保養？有哪些注意事項？\"\n\nprint(\"\\n\" + \"=\"*70)\nprint(f\"查詢問題：{query}\")\nprint(\"=\"*70)\n\n# 比較不同檢索策略的 RAG Chain 效果\nresults = {}\n\n# 1. 相似度搜尋（Similarity Search）\nresults[\"Similarity\"] = compare_retriever_rag_chains(\n    \"similarity\",\n    {\"k\": 3},\n    \"相似度搜尋 (Similarity Search)\",\n    query\n)\n\n# 2. 最大邊際相關性（MMR）\nresults[\"MMR\"] = compare_retriever_rag_chains(\n    \"mmr\",\n    {\"k\": 3, \"fetch_k\": 20, \"lambda_mult\": 0.5},\n    \"最大邊際相關性 (MMR)\",\n    query\n)\n\n# 3. 相似度分數閾值（Similarity Score Threshold）\nresults[\"Threshold\"] = compare_retriever_rag_chains(\n    \"similarity_score_threshold\",\n    {\"k\": 3, \"score_threshold\": 0.1},\n    \"相似度分數閾值 (Similarity Score Threshold)\",\n    query\n)\n\nprint(\"\\n\" + \"=\"*70)\nprint(\"📊 檢索策略對 RAG Chain 的影響總結\")\nprint(\"=\"*70)\nprint(\"\"\"\n🔍 觀察重點：\n1. 檢索到的文件數量和相關性\n2. 文件內容的多樣性（是否有重複資訊）\n3. 最終答案的完整性和準確性\n\n💡 策略特性比較：\n\n📌 Similarity Search（相似度搜尋）\n   ✅ 優點: 返回最相關的結果，速度快\n   ❌ 缺點: 可能返回內容相似的重複結果\n   🎯 適合場景: \n      - 一般查詢需求\n      - 快速檢索\n      - 問題明確且聚焦\n   \n📌 MMR（最大邊際相關性）\n   ✅ 優點: 結果多樣化，涵蓋不同角度\n   ❌ 缺點: 可能犧牲部分相關性，速度較慢\n   🎯 適合場景:\n      - 需要多樣化的答案\n      - 探索性查詢\n      - 想了解多個面向的資訊\n      \n📌 Similarity Score Threshold（相似度分數閾值）\n   ✅ 優點: 保證結果品質，過濾低相關性\n   ❌ 缺點: 可能返回較少結果或無結果\n   🎯 適合場景:\n      - 品質優先於數量\n      - 精確查詢\n      - 避免錯誤資訊\n\n🎓 實戰建議：\n- 一般用途 → Similarity Search\n- 避免重複內容 → MMR (lambda_mult=0.5-0.7)\n- 高品質要求 → Threshold (score_threshold=0.7-0.9)\n- 可以組合使用：先用 MMR 確保多樣性，再用 Threshold 過濾品質\n\n🔑 關鍵學習：\n檢索策略直接影響 RAG Chain 的輸入品質！\n選擇合適的策略能夠：\n✅ 提供更相關的上下文\n✅ 避免重複或低品質資訊\n✅ 改善 LLM 生成的答案品質\n\"\"\")\nprint(\"=\"*70)"
  }
 ],
 "metadata": {
  "kernelspec": {
   "display_name": "Python 3",
   "language": "python",
   "name": "python3"
  },
  "language_info": {
   "codemirror_mode": {
    "name": "ipython",
    "version": 3
   },
   "file_extension": ".py",
   "mimetype": "text/x-python",
   "name": "python",
   "nbconvert_exporter": "python",
   "pygments_lexer": "ipython3",
   "version": "3.11.0"
  }
 },
 "nbformat": 4,
 "nbformat_minor": 4
}