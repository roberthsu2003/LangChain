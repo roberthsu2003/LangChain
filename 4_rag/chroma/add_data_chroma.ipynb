{
 "cells": [
  {
   "cell_type": "code",
   "execution_count": null,
   "metadata": {},
   "outputs": [],
   "source": [
    "import chromadb\n",
    "from sentence_transformers import SentenceTransformer\n",
    "\n",
    "# 本地執行 Hugging Face 模型（不需要 API Key）\n",
    "model = SentenceTransformer(\"intfloat/multilingual-e5-large\")\n",
    "\n",
    "# 初始化 ChromaDB(使用本地端保存的資料庫)\n",
    "chroma_client = chromadb.PersistentClient(path='./chroma_db',)\n",
    "my_collection = chroma_client.get_or_create_collection(name='my_collection')"
   ]
  },
  {
   "cell_type": "code",
   "execution_count": null,
   "metadata": {},
   "outputs": [
    {
     "name": "stdout",
     "output_type": "stream",
     "text": [
      "✅ 已儲存本地計算的嵌入向量！\n"
     ]
    }
   ],
   "source": [
    "# 轉換文本成向量\n",
    "texts = [\"今天天氣很好！\",\"下雨天適合喝熱茶。\"]\n",
    "embeddings = model.encode(texts).tolist() # 轉換成 list 格式,符合 ChromaDB 的要求\n",
    "for i, (text, embedding) in enumerate(zip(texts, embeddings)):\n",
    "    my_collection.upsert(\n",
    "        ids=[f\"id_{i}\"],\n",
    "        documents=[text],\n",
    "        embeddings=[embedding]\n",
    "    )\n",
    "print(\"✅ 已儲存本地計算的嵌入向量！\")"
   ]
  },
  {
   "cell_type": "code",
   "execution_count": null,
   "metadata": {},
   "outputs": [
    {
     "data": {
      "text/plain": [
       "{'ids': [['id_0']],\n",
       " 'embeddings': None,\n",
       " 'documents': [['it a nice day！']],\n",
       " 'uris': None,\n",
       " 'data': None,\n",
       " 'metadatas': [[None]],\n",
       " 'distances': [[0.26763425693677245]],\n",
       " 'included': [<IncludeEnum.distances: 'distances'>,\n",
       "  <IncludeEnum.documents: 'documents'>,\n",
       "  <IncludeEnum.metadatas: 'metadatas'>]}"
      ]
     },
     "execution_count": 4,
     "metadata": {},
     "output_type": "execute_result"
    }
   ],
   "source": [
    "#注意使用query_embeddings的參數\n",
    "query_embedding = model.encode([\"今天天氣很好！\"]).tolist()\n",
    "my_collection.query(\n",
    "    query_embeddings=query_embedding,\n",
    "    n_results=1\n",
    ")"
   ]
  },
  {
   "cell_type": "code",
   "execution_count": null,
   "metadata": {},
   "outputs": [],
   "source": [
    "import chromadb\n",
    "import chromadb.utils.embedding_functions as embedding_functions\n",
    "\n",
    "# 設定 Hugging Face 嵌入函數（需要 API Key）\n",
    "huggingface_ef = embedding_functions.HuggingFaceEmbeddingFunction(\n",
    "    api_key=\"hf_xxxxxxx\", #Make calls to inference providers權限要開啟,\n",
    "    model_name=\"intfloat/multilingual-e5-large\"\n",
    ")\n",
    "\n",
    "# 初始化 ChromaDB\n",
    "chroma_client = chromadb.PersistentClient(path=\"./chroma_db\")\n",
    "\n",
    "# 創建一個 ChromaDB Collection（儲存向量）\n",
    "mycollection = chroma_client.get_or_create_collection(\n",
    "    name=\"mycollection\",\n",
    "    embedding_function=huggingface_ef\n",
    ")\n",
    "\n",
    "# 加入一些文本數據\n",
    "mycollection.upsert(\n",
    "    ids=[\"1\", \"2\"],\n",
    "    documents=[\"今天天氣很好！\", \"下雨天適合喝熱茶。\"]\n",
    ")\n",
    "\n",
    "# print(\"✅ 向量儲存完成！\")"
   ]
  },
  {
   "cell_type": "code",
   "execution_count": null,
   "metadata": {},
   "outputs": [
    {
     "data": {
      "text/plain": [
       "{'ids': [['1', '2']],\n",
       " 'embeddings': None,\n",
       " 'documents': [['今天天氣很好！', '下雨天適合喝熱茶。']],\n",
       " 'uris': None,\n",
       " 'data': None,\n",
       " 'metadatas': [[None, None]],\n",
       " 'distances': [[2.5161756403231264e-12, 0.2676620101520762]],\n",
       " 'included': [<IncludeEnum.distances: 'distances'>,\n",
       "  <IncludeEnum.documents: 'documents'>,\n",
       "  <IncludeEnum.metadatas: 'metadatas'>]}"
      ]
     },
     "execution_count": 20,
     "metadata": {},
     "output_type": "execute_result"
    }
   ],
   "source": [
    "#\n",
    "query_embedding = model.encode([\"今天天氣很好！\"]).tolist()\n",
    "mycollection.query(\n",
    "    query_texts=[\"今天天氣很好！\"],#只有使用api_key的時候才能使用query_texts\n",
    "    n_results=2\n",
    ")"
   ]
  }
 ],
 "metadata": {
  "kernelspec": {
   "display_name": "base",
   "language": "python",
   "name": "python3"
  },
  "language_info": {
   "codemirror_mode": {
    "name": "ipython",
    "version": 3
   },
   "file_extension": ".py",
   "mimetype": "text/x-python",
   "name": "python",
   "nbconvert_exporter": "python",
   "pygments_lexer": "ipython3",
   "version": "3.12.2"
  }
 },
 "nbformat": 4,
 "nbformat_minor": 2
}
