{
 "cells": [
  {
   "cell_type": "code",
   "execution_count": 3,
   "metadata": {},
   "outputs": [],
   "source": [
    "import chromadb\n",
    "from sentence_transformers import SentenceTransformer\n",
    "\n",
    "# 本地執行 Hugging Face 模型（不需要 API Key）\n",
    "model = SentenceTransformer(\"intfloat/multilingual-e5-large\")\n",
    "\n",
    "# 初始化 ChromaDB(使用本地端保存的資料庫)\n",
    "chroma_client = chromadb.PersistentClient(path='./chroma_db')\n",
    "my_collection = chroma_client.get_or_create_collection(name='my_collection')\n"
   ]
  },
  {
   "cell_type": "code",
   "execution_count": 6,
   "metadata": {},
   "outputs": [
    {
     "name": "stdout",
     "output_type": "stream",
     "text": [
      "✅ 已儲存本地計算的嵌入向量！\n"
     ]
    }
   ],
   "source": [
    "# 轉換文本成向量\n",
    "texts = [\"今天天氣很好！\",\"下雨天適合喝熱茶。\"]\n",
    "embeddings = model.encode(texts).tolist() # 轉換成 list 格式,符合 ChromaDB 的要求\n",
    "for i, (text, embedding) in enumerate(zip(texts, embeddings)):\n",
    "    my_collection.add(\n",
    "        ids=[f\"id_{i}\"],\n",
    "        documents=[text],\n",
    "        embeddings=[embedding]\n",
    "    )\n",
    "print(\"✅ 已儲存本地計算的嵌入向量！\")"
   ]
  },
  {
   "cell_type": "code",
   "execution_count": null,
   "metadata": {},
   "outputs": [],
   "source": []
  }
 ],
 "metadata": {
  "kernelspec": {
   "display_name": "base",
   "language": "python",
   "name": "python3"
  },
  "language_info": {
   "codemirror_mode": {
    "name": "ipython",
    "version": 3
   },
   "file_extension": ".py",
   "mimetype": "text/x-python",
   "name": "python",
   "nbconvert_exporter": "python",
   "pygments_lexer": "ipython3",
   "version": "3.12.2"
  }
 },
 "nbformat": 4,
 "nbformat_minor": 2
}
