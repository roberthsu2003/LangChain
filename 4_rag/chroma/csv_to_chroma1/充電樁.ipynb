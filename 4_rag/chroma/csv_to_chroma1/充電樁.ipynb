{
 "cells": [
  {
   "cell_type": "code",
   "execution_count": 101,
   "metadata": {},
   "outputs": [
    {
     "data": {
      "text/html": [
       "<div>\n",
       "<style scoped>\n",
       "    .dataframe tbody tr th:only-of-type {\n",
       "        vertical-align: middle;\n",
       "    }\n",
       "\n",
       "    .dataframe tbody tr th {\n",
       "        vertical-align: top;\n",
       "    }\n",
       "\n",
       "    .dataframe thead th {\n",
       "        text-align: right;\n",
       "    }\n",
       "</style>\n",
       "<table border=\"1\" class=\"dataframe\">\n",
       "  <thead>\n",
       "    <tr style=\"text-align: right;\">\n",
       "      <th></th>\n",
       "      <th>充電樁位置</th>\n",
       "      <th>地址</th>\n",
       "      <th>經度</th>\n",
       "      <th>緯度</th>\n",
       "      <th>充電樁數量</th>\n",
       "    </tr>\n",
       "  </thead>\n",
       "  <tbody>\n",
       "    <tr>\n",
       "      <th>0</th>\n",
       "      <td>168停車聯盟蘆洲三民場</td>\n",
       "      <td>新北市蘆洲區三民路33號</td>\n",
       "      <td>121.475323</td>\n",
       "      <td>25.083243</td>\n",
       "      <td>4槍</td>\n",
       "    </tr>\n",
       "    <tr>\n",
       "      <th>1</th>\n",
       "      <td>168停車聯盟南昌場</td>\n",
       "      <td>臺北市中正區南昌路一段54巷4弄2號</td>\n",
       "      <td>121.516688</td>\n",
       "      <td>25.031312</td>\n",
       "      <td>1槍</td>\n",
       "    </tr>\n",
       "    <tr>\n",
       "      <th>2</th>\n",
       "      <td>城市車旅長安站</td>\n",
       "      <td>臺北市中山區長安東路1段26號</td>\n",
       "      <td>121.525813</td>\n",
       "      <td>25.048687</td>\n",
       "      <td>1槍</td>\n",
       "    </tr>\n",
       "    <tr>\n",
       "      <th>3</th>\n",
       "      <td>城市車旅復興SOGO三站</td>\n",
       "      <td>臺北市大安區復興南路196巷1號</td>\n",
       "      <td>121.542937</td>\n",
       "      <td>25.039938</td>\n",
       "      <td>2槍</td>\n",
       "    </tr>\n",
       "    <tr>\n",
       "      <th>4</th>\n",
       "      <td>城市車旅中崙站</td>\n",
       "      <td>臺北市松山區八德路2段174巷11弄5、7號</td>\n",
       "      <td>121.538938</td>\n",
       "      <td>25.045437</td>\n",
       "      <td>1槍</td>\n",
       "    </tr>\n",
       "  </tbody>\n",
       "</table>\n",
       "</div>"
      ],
      "text/plain": [
       "          充電樁位置                      地址          經度         緯度 充電樁數量\n",
       "0  168停車聯盟蘆洲三民場            新北市蘆洲區三民路33號  121.475323  25.083243    4槍\n",
       "1    168停車聯盟南昌場      臺北市中正區南昌路一段54巷4弄2號  121.516688  25.031312    1槍\n",
       "2       城市車旅長安站         臺北市中山區長安東路1段26號  121.525813  25.048687    1槍\n",
       "3  城市車旅復興SOGO三站        臺北市大安區復興南路196巷1號  121.542937  25.039938    2槍\n",
       "4       城市車旅中崙站  臺北市松山區八德路2段174巷11弄5、7號  121.538938  25.045437    1槍"
      ]
     },
     "execution_count": 101,
     "metadata": {},
     "output_type": "execute_result"
    }
   ],
   "source": [
    "import pandas as pd\n",
    "\n",
    "# 讀取 csv 檔案\n",
    "csv_path = '001.csv'\n",
    "df = pd.read_csv(csv_path)\n",
    "df.head()"
   ]
  },
  {
   "cell_type": "code",
   "execution_count": 121,
   "metadata": {},
   "outputs": [],
   "source": [
    "import chromadb\n",
    "import chromadb.utils.embedding_functions as embedding_functions\n",
    "import os\n",
    "from dotenv import load_dotenv\n",
    "\n",
    "load_dotenv()\n",
    "# 設定 Hugging Face 嵌入函數（需要 API Key）\n",
    "# exprot HUGGINGFACE_API_KEY=api_xxx\n",
    "\n",
    "huggingface_ef = embedding_functions.HuggingFaceEmbeddingFunction(\n",
    "    api_key=os.getenv('HUGGINGFACE_API_KEY'),\n",
    "    model_name = 'intfloat/multilingual-e5-large'\n",
    ")\n",
    "\n",
    "# 初始化 ChromaDB\n",
    "client = chromadb.PersistentClient(path=\"./chroma_db\")\n",
    "charging_station = client.get_or_create_collection(\n",
    "    name='charging_station',\n",
    "    embedding_function=huggingface_ef\n",
    "    )\n"
   ]
  },
  {
   "cell_type": "code",
   "execution_count": 122,
   "metadata": {},
   "outputs": [
    {
     "name": "stdout",
     "output_type": "stream",
     "text": [
      "充電椿資料已存入ChromaDB\n"
     ]
    }
   ],
   "source": [
    "#加入資料\n",
    "for index, row in df.iterrows():\n",
    "    station_info = f'{row[\"充電樁位置\"]}, 地址:{row[\"地址\"]},充電樁數量:{row[\"充電樁數量\"]}'\n",
    "    metadata = {\n",
    "        \"longitude\": float(row[\"經度\"]),\n",
    "        \"latitude\": float(row['緯度']),\n",
    "    }\n",
    "    \n",
    "    #插入資料\n",
    "    charging_station.upsert(\n",
    "        ids = [str(index)],\n",
    "        documents=[station_info],\n",
    "        metadatas = [metadata]\n",
    "    )\n",
    "\n",
    "print(\"充電椿資料已存入ChromaDB\")"
   ]
  },
  {
   "cell_type": "code",
   "execution_count": 123,
   "metadata": {},
   "outputs": [
    {
     "data": {
      "text/plain": [
       "13"
      ]
     },
     "execution_count": 123,
     "metadata": {},
     "output_type": "execute_result"
    }
   ],
   "source": [
    "#查詢\n",
    "charging_station.peek()\n",
    "charging_station.count()"
   ]
  },
  {
   "cell_type": "code",
   "execution_count": 141,
   "metadata": {},
   "outputs": [
    {
     "data": {
      "text/plain": [
       "{'ids': ['0', '1', '2', '3', '4', '5', '6', '7', '8', '9', '10', '11', '12'],\n",
       " 'embeddings': None,\n",
       " 'documents': ['168停車聯盟蘆洲三民場, 地址:新北市蘆洲區三民路33號,充電樁數量:4槍',\n",
       "  '168停車聯盟南昌場, 地址:臺北市中正區南昌路一段54巷4弄2號,充電樁數量:1槍',\n",
       "  '城市車旅長安站, 地址:臺北市中山區長安東路1段26號,充電樁數量:1槍',\n",
       "  '城市車旅復興SOGO三站, 地址:臺北市大安區復興南路196巷1號,充電樁數量:2槍',\n",
       "  '城市車旅中崙站, 地址:臺北市松山區八德路2段174巷11弄5、7號,充電樁數量:1槍',\n",
       "  '城市車旅青年站, 地址:臺北市萬華區水源路213巷內,充電樁數量:6槍',\n",
       "  '城市車旅延吉站, 地址:臺北市松山區八德路3段106巷13號旁,充電樁數量:1槍',\n",
       "  '城市車旅古亭站, 地址:臺北市大安區和平東路1段53號,充電樁數量:1槍',\n",
       "  '城市車旅士東國小站, 地址:台北市士林區中山北路6段424號,充電樁數量:1槍',\n",
       "  '城市車旅瑞安站, 地址:臺北市大安區和平東路二段89號,充電樁數量:2槍',\n",
       "  '城市車旅台北科技站, 地址:臺北市大安區復興南路二段193巷16號,充電樁數量:1槍',\n",
       "  '城市車旅永康二站, 地址:臺北市大安區永康街13巷8號,充電樁數量:1槍',\n",
       "  '城市車旅忠孝玉成站, 地址:臺北市南港區忠孝東路六段62號,充電樁數量:2槍'],\n",
       " 'uris': None,\n",
       " 'data': None,\n",
       " 'metadatas': [{'latitude': 25.0832431, 'longitude': 121.4753234},\n",
       "  {'latitude': 25.0313125, 'longitude': 121.5166875},\n",
       "  {'latitude': 25.0486875, 'longitude': 121.5258125},\n",
       "  {'latitude': 25.0399375, 'longitude': 121.5429375},\n",
       "  {'latitude': 25.0454375, 'longitude': 121.5389375},\n",
       "  {'latitude': 25.0193125, 'longitude': 121.5013125},\n",
       "  {'latitude': 25.0475625, 'longitude': 121.5538125},\n",
       "  {'latitude': 25.0271875, 'longitude': 121.5240625},\n",
       "  {'latitude': 25.1136875, 'longitude': 121.5271875},\n",
       "  {'latitude': 25.0256875, 'longitude': 121.5393125},\n",
       "  {'latitude': 25.0263957, 'longitude': 121.544465},\n",
       "  {'latitude': 25.0325625, 'longitude': 121.5301875},\n",
       "  {'latitude': 25.0459375, 'longitude': 121.5835625}],\n",
       " 'included': [<IncludeEnum.documents: 'documents'>,\n",
       "  <IncludeEnum.metadatas: 'metadatas'>]}"
      ]
     },
     "execution_count": 141,
     "metadata": {},
     "output_type": "execute_result"
    }
   ],
   "source": [
    "all_stations = charging_station.get() #取得所有資料\n",
    "all_stations"
   ]
  },
  {
   "cell_type": "code",
   "execution_count": 125,
   "metadata": {},
   "outputs": [
    {
     "name": "stdout",
     "output_type": "stream",
     "text": [
      "[('168停車聯盟蘆洲三民場, 地址:新北市蘆洲區三民路33號,充電樁數量:4槍', 5.760379671072387),\n",
      " ('168停車聯盟南昌場, 地址:臺北市中正區南昌路一段54巷4弄2號,充電樁數量:1槍', 1.8268520340991024),\n",
      " ('城市車旅長安站, 地址:臺北市中山區長安東路1段26號,充電樁數量:1槍', 0.8846635093599351),\n",
      " ('城市車旅復興SOGO三站, 地址:臺北市大安區復興南路196巷1號,充電樁數量:2槍', 2.7489907110443865),\n",
      " ('城市車旅中崙站, 地址:臺北市松山區八德路2段174巷11弄5、7號,充電樁數量:1槍', 2.219150272757932),\n",
      " ('城市車旅青年站, 地址:臺北市萬華區水源路213巷內,充電樁數量:6槍', 3.535085172551711),\n",
      " ('城市車旅延吉站, 地址:臺北市松山區八德路3段106巷13號旁,充電樁數量:1槍', 3.7047920325954378),\n",
      " ('城市車旅古亭站, 地址:臺北市大安區和平東路1段53號,充電樁數量:1槍', 2.3889869393129213),\n",
      " ('城市車旅士東國小站, 地址:台北市士林區中山北路6段424號,充電樁數量:1槍', 7.369234386035939),\n",
      " ('城市車旅瑞安站, 地址:臺北市大安區和平東路二段89號,充電樁數量:2槍', 3.3204064126342745),\n",
      " ('城市車旅台北科技站, 地址:臺北市大安區復興南路二段193巷16號,充電樁數量:1槍', 3.639861233396292),\n",
      " ('城市車旅永康二站, 地址:臺北市大安區永康街13巷8號,充電樁數量:1槍', 2.1432301277357624),\n",
      " ('城市車旅忠孝玉成站, 地址:臺北市南港區忠孝東路六段62號,充電樁數量:2槍', 6.7100204727346675)]\n"
     ]
    }
   ],
   "source": [
    "from geopy.distance import geodesic\n",
    "from pprint import pprint\n",
    "# 用戶的目前位置('台北車站')\n",
    "user_location = (25.0478, 121.5171)\n",
    "\n",
    "#計算和用戶的距離\n",
    "stations_with_distance = []\n",
    "for doc, meta in zip(all_stations[\"documents\"], all_stations[\"metadatas\"]):    \n",
    "    stations_location = (meta[\"latitude\"], meta['longitude']) #取出座標\n",
    "    distance_km = geodesic(user_location, stations_location).km #計算距離\n",
    "    stations_with_distance.append((doc, distance_km))\n",
    "pprint(stations_with_distance)\n"
   ]
  },
  {
   "cell_type": "code",
   "execution_count": 126,
   "metadata": {},
   "outputs": [
    {
     "data": {
      "text/plain": [
       "[('城市車旅長安站, 地址:臺北市中山區長安東路1段26號,充電樁數量:1槍', 0.8846635093599351),\n",
       " ('168停車聯盟南昌場, 地址:臺北市中正區南昌路一段54巷4弄2號,充電樁數量:1槍', 1.8268520340991024),\n",
       " ('城市車旅永康二站, 地址:臺北市大安區永康街13巷8號,充電樁數量:1槍', 2.1432301277357624),\n",
       " ('城市車旅中崙站, 地址:臺北市松山區八德路2段174巷11弄5、7號,充電樁數量:1槍', 2.219150272757932),\n",
       " ('城市車旅古亭站, 地址:臺北市大安區和平東路1段53號,充電樁數量:1槍', 2.3889869393129213),\n",
       " ('城市車旅復興SOGO三站, 地址:臺北市大安區復興南路196巷1號,充電樁數量:2槍', 2.7489907110443865),\n",
       " ('城市車旅瑞安站, 地址:臺北市大安區和平東路二段89號,充電樁數量:2槍', 3.3204064126342745),\n",
       " ('城市車旅青年站, 地址:臺北市萬華區水源路213巷內,充電樁數量:6槍', 3.535085172551711),\n",
       " ('城市車旅台北科技站, 地址:臺北市大安區復興南路二段193巷16號,充電樁數量:1槍', 3.639861233396292),\n",
       " ('城市車旅延吉站, 地址:臺北市松山區八德路3段106巷13號旁,充電樁數量:1槍', 3.7047920325954378),\n",
       " ('168停車聯盟蘆洲三民場, 地址:新北市蘆洲區三民路33號,充電樁數量:4槍', 5.760379671072387),\n",
       " ('城市車旅忠孝玉成站, 地址:臺北市南港區忠孝東路六段62號,充電樁數量:2槍', 6.7100204727346675),\n",
       " ('城市車旅士東國小站, 地址:台北市士林區中山北路6段424號,充電樁數量:1槍', 7.369234386035939)]"
      ]
     },
     "execution_count": 126,
     "metadata": {},
     "output_type": "execute_result"
    }
   ],
   "source": [
    "#根據距離排序\n",
    "stations_with_distance.sort(key=lambda x:x[1])\n",
    "stations_with_distance"
   ]
  },
  {
   "cell_type": "code",
   "execution_count": 127,
   "metadata": {},
   "outputs": [
    {
     "name": "stdout",
     "output_type": "stream",
     "text": [
      "最近的充電站:\n",
      "城市車旅長安站, 地址:臺北市中山區長安東路1段26號,充電樁數量:1槍, 距離:0.88 公里\n",
      "168停車聯盟南昌場, 地址:臺北市中正區南昌路一段54巷4弄2號,充電樁數量:1槍, 距離:1.83 公里\n",
      "城市車旅永康二站, 地址:臺北市大安區永康街13巷8號,充電樁數量:1槍, 距離:2.14 公里\n"
     ]
    }
   ],
   "source": [
    "#顯示最近的3個充電站\n",
    "print(\"最近的充電站:\")\n",
    "for station, distance in stations_with_distance[:3]:\n",
    "    print(f\"{station}, 距離:{distance:.2f} 公里\")"
   ]
  },
  {
   "cell_type": "code",
   "execution_count": 139,
   "metadata": {},
   "outputs": [
    {
     "data": {
      "text/plain": [
       "'城市車旅永康二站, 地址:臺北市大安區永康街13巷8號,充電樁數量:1槍'"
      ]
     },
     "execution_count": 139,
     "metadata": {},
     "output_type": "execute_result"
    }
   ],
   "source": [
    "query_text = \"永康二站在什麼地方?\"\n",
    "result = charging_station.query(\n",
    "    query_texts = [query_text],\n",
    "    n_results=3\n",
    ")\n",
    "result['documents'][0][0]\n"
   ]
  },
  {
   "cell_type": "code",
   "execution_count": 99,
   "metadata": {},
   "outputs": [],
   "source": [
    "client.delete_collection(name='charging_station')"
   ]
  }
 ],
 "metadata": {
  "kernelspec": {
   "display_name": "base",
   "language": "python",
   "name": "python3"
  },
  "language_info": {
   "codemirror_mode": {
    "name": "ipython",
    "version": 3
   },
   "file_extension": ".py",
   "mimetype": "text/x-python",
   "name": "python",
   "nbconvert_exporter": "python",
   "pygments_lexer": "ipython3",
   "version": "3.12.2"
  }
 },
 "nbformat": 4,
 "nbformat_minor": 2
}
