{
 "cells": [
  {
   "cell_type": "code",
   "execution_count": null,
   "metadata": {},
   "outputs": [
    {
     "name": "stdout",
     "output_type": "stream",
     "text": [
      "Collection(name=my_collection)\n"
     ]
    }
   ],
   "source": [
    "import chromadb\n",
    "import chromadb.utils.embedding_functions as embedding_functions\n",
    "import os\n",
    "#export HUGGINGFACE_API_KEY=your_api_key\n",
    "chroma_client = chromadb.Client()\n",
    "huggingface_ef = embedding_functions.HuggingFaceEmbeddingFunction(\n",
    "    api_key=os.getenv(\"HUGGINGFACE_API_KEY\"),\n",
    "    model_name=\"intfloat/multilingual-e5-large\"\n",
    ")\n",
    "collection = chroma_client.get_or_create_collection(\n",
    "    name=\"my_collection\",\n",
    "    embedding_function=huggingface_ef)\n",
    "print(collection)\n",
    "\n"
   ]
  },
  {
   "cell_type": "code",
   "execution_count": 2,
   "metadata": {},
   "outputs": [
    {
     "name": "stdout",
     "output_type": "stream",
     "text": [
      "Collection(name=my_collection)\n"
     ]
    }
   ],
   "source": [
    "import chromadb\n",
    "import chromadb.utils.embedding_functions as embedding_functions\n",
    "import os\n",
    "from datetime import datetime\n",
    "\n",
    "#export HUGGINGFACE_API_KEY=your_api_key\n",
    "chroma_client = chromadb.Client()\n",
    "huggingface_ef = embedding_functions.HuggingFaceEmbeddingFunction(\n",
    "    api_key=os.getenv(\"HUGGINGFACE_API_KEY\"),\n",
    "    model_name=\"intfloat/multilingual-e5-large\"\n",
    ")\n",
    "collection = chroma_client.get_or_create_collection(\n",
    "    name=\"my_collection\",\n",
    "    embedding_function=huggingface_ef,\n",
    "    metadata={\n",
    "        \"description\":\"我的第一個Chroma 集合\",\n",
    "        \"created\": str(datetime.now())\n",
    "    })\n",
    "print(collection)\n",
    "\n"
   ]
  }
 ],
 "metadata": {
  "kernelspec": {
   "display_name": "base",
   "language": "python",
   "name": "python3"
  },
  "language_info": {
   "codemirror_mode": {
    "name": "ipython",
    "version": 3
   },
   "file_extension": ".py",
   "mimetype": "text/x-python",
   "name": "python",
   "nbconvert_exporter": "python",
   "pygments_lexer": "ipython3",
   "version": "3.12.2"
  }
 },
 "nbformat": 4,
 "nbformat_minor": 2
}
