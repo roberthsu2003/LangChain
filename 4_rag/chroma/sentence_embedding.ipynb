{
 "cells": [
  {
   "cell_type": "code",
   "execution_count": null,
   "metadata": {},
   "outputs": [],
   "source": [
    "!pip install sentence-transformers ipywidgets scikit-learn"
   ]
  },
  {
   "cell_type": "code",
   "execution_count": null,
   "metadata": {},
   "outputs": [],
   "source": [
    "from sentence_transformers import SentenceTransformer\n",
    "\n",
    "#載入 Hugging Face 的 multilingual-e5-large\n",
    "model = SentenceTransformer('intfloat/multilingual-e5-large')\n",
    "\n"
   ]
  },
  {
   "cell_type": "code",
   "execution_count": null,
   "metadata": {},
   "outputs": [],
   "source": [
    "#測試中文句子\n",
    "sentences = [\"這是一個測試句子。\", \"這是一個示範文本。\"]\n",
    "\n",
    "#計算句子的向量\n",
    "embeddings = model.encode(sentences)\n",
    "\n",
    "#印出句子的向量\n",
    "for sentence, embedding in zip(sentences, embeddings):\n",
    "    print(\"Sentence:\", sentence)\n",
    "    print(\"Embedding:\", embedding)\n",
    "    print(\"\")\n",
    "\n",
    "#顯示向量的維度\n",
    "print(\"Embedding size:\", embeddings.shape)"
   ]
  },
  {
   "cell_type": "code",
   "execution_count": null,
   "metadata": {},
   "outputs": [],
   "source": [
    "from sklearn.metrics.pairwise import cosine_similarity\n",
    "\n",
    "#計算兩個句子的相似度\n",
    "similarity = cosine_similarity([embeddings[0]], [embeddings[1]])\n",
    "print(similarity[0][0]) #愈接近 1 表示兩個句子愈相似"
   ]
  }
 ],
 "metadata": {
  "kernelspec": {
   "display_name": "base",
   "language": "python",
   "name": "python3"
  },
  "language_info": {
   "codemirror_mode": {
    "name": "ipython",
    "version": 3
   },
   "file_extension": ".py",
   "mimetype": "text/x-python",
   "name": "python",
   "nbconvert_exporter": "python",
   "pygments_lexer": "ipython3",
   "version": "3.12.2"
  }
 },
 "nbformat": 4,
 "nbformat_minor": 2
}
