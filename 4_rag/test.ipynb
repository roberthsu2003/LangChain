{
 "cells": [
  {
   "cell_type": "code",
   "execution_count": 1,
   "id": "d99e7ed4",
   "metadata": {},
   "outputs": [
    {
     "name": "stderr",
     "output_type": "stream",
     "text": [
      "Created a chunk of size 1048, which is longer than the specified 1000\n",
      "Created a chunk of size 1312, which is longer than the specified 1000\n",
      "Created a chunk of size 1007, which is longer than the specified 1000\n",
      "Created a chunk of size 1184, which is longer than the specified 1000\n",
      "Created a chunk of size 1045, which is longer than the specified 1000\n",
      "Created a chunk of size 1132, which is longer than the specified 1000\n",
      "Created a chunk of size 1674, which is longer than the specified 1000\n",
      "/var/folders/7g/kb_wcfhj3710_xnyqdgx_v940000gn/T/ipykernel_4387/3630437045.py:17: LangChainDeprecationWarning: The class `HuggingFaceEmbeddings` was deprecated in LangChain 0.2.2 and will be removed in 1.0. An updated version of the class exists in the :class:`~langchain-huggingface package and should be used instead. To use it run `pip install -U :class:`~langchain-huggingface` and import as `from :class:`~langchain_huggingface import HuggingFaceEmbeddings``.\n",
      "  embeddings = HuggingFaceEmbeddings(\n"
     ]
    },
    {
     "name": "stdout",
     "output_type": "stream",
     "text": [
      "[Document(metadata={'source': 'books/三國演義.txt'}, page_content='昔賈誼求試屬國，詭係單于；終軍欲以長纓，牽制勁越；弱冠慷慨，前世美之；近\\n日路粹，嚴象亦用異才擢拜臺郎：衡宜與為比。如龍躍天衢，振翼雲漢，揚聲紫微，垂\\n光虹蜺，足以昭近署之多士，增四門之穆穆。鈞天廣樂，必奇麗之觀；帝室王居，必蓄\\n非常之寶。若衡等輩，不可多得。激楚、陽阿，至妙之容，掌伎者之所貪；飛兔、騕裏\\n，絕足奔放，良、樂之所急也。臣等區區，敢不以聞？陞下篤慎取士，必須效試。乞令\\n衡以褐衣召見。如無可觀釆，臣等受面欺之罪。」\\n\\n\\u3000\\u3000帝覽表，以付曹操。操遂使人召衡至。禮畢，操不命坐。禰衡仰天歎曰：「天地雖\\n闊，何無一人也！」操曰：「吾手下有數十人，皆當世英雄，何謂無人？」衡曰：「願\\n聞。」操曰：「荀彧，荀攸，郭嘉，程昱，機深智遠，雖蕭何，陳平不及也。張遼[陳\\n怡妏3]，許褚，樂進，李典，勇不可當，雖岑彭，馬武不及也。呂虔，滿寵，為從事；\\n于禁，徐晃，為先鋒。夏侯惇，天下奇才；曹子孝，世間福將。安得無人？」衡笑曰：\\n「公言差矣。此等人物，吾盡識之：荀彧可使弔喪問疾，荀攸可使看墳守墓，程昱可使\\n關門閉戶，郭嘉可使白詞念賦，張遼可使擊鼓鳴金，許褚可使牧牛放馬，樂進可使取狀\\n讀詔，李典可使傳書送檄，呂虔可使磨刀鑄劍，滿寵可使飲酒食糟，于禁可使負版築牆\\n，徐晃可使屠豬殺狗。夏侯惇稱為『完體將軍』，曹子孝呼為『要錢太守』。其餘皆是\\n衣架！飯囊！酒桶！肉袋耳！」操怒曰：「汝有何能？」衡曰：「天文地理，無一不通\\n；三教九流，無一不曉；上可以致君為堯、舜，下可以配德於孔、顏。豈與俗子共論乎\\n！」時止有張遼在側，掣劍欲斬之。操曰：「吾正少一鼓吏；早晚朝賀宴享，可令禰衡\\n充此職。」衡不推辭，應聲而去。遼曰：「此人出言不遜，何不殺之？」操曰：「此人\\n素有虛名，遠近所聞。今日殺之，天下必謂我不能容物，彼自以為能，故令為鼓吏以辱\\n之。」\\n\\n\\u3000\\u3000來日，操於省廳上大宴賓客，今鼓使撾鼓。舊吏云：「撾鼓必換新衣。」衡穿舊衣\\n而入，遂擊鼓為「漁陽三撾」，音節殊妙，淵淵有金石聲。坐客聽之，莫不慷慨流涕。\\n左右喝曰：「何不更衣！」衡當面脫下舊破衣服，裸體而立，渾身盡露。坐客皆掩面。\\n衡乃徐徐著褲，顏色不變。'), Document(metadata={'source': 'books/三國演義.txt'}, page_content='飲至半夜，操酒酣，遙指南岸曰：「周瑜，魯肅，不識天時。今幸有投降之人，為\\n彼心腹之患，此天助吾也。」荀攸曰：「丞相勿言，恐有泄漏。」操大笑曰：「座上諸\\n公，與近侍左右，皆吾心腹之人也，，言之何礙？」又指夏口曰：「劉備，諸葛亮，汝\\n不料螻蟻之力，欲撼泰山，何其愚耶！」顧謂諸將曰：「吾今年五十四歲矣。如得江南\\n，竊有所喜。昔日喬公與吾至契，吾知其二女皆有國色。後不料為孫策，周瑜，所娶。\\n吾今新構銅雀臺於漳水之上，如得江南，當娶二喬，置之臺上，以娛暮年，吾願足矣。\\n」言罷大笑。唐人杜牧之有詩曰：折戟沈沙鐵未消，自將磨洗認前朝。東風不與周郎便\\n，銅雀春深鎖二喬。\\n\\n\\u3000\\u3000曹操正笑談間，忽聞鴉聲望南飛鳴而去。操問曰：「此鴉緣何夜鳴？」左右答曰：\\n「鴉見月明，疑是天曉，故離樹而鳴也。」操又大笑。時操已醉，乃取槊立於船上，以\\n酒奠於江中，滿飲三爵，橫槊謂諸將曰：「我持此槊破黃巾，擒呂布，滅袁術，收袁紹\\n，深入塞北，直抵遼東，縱橫天下：頗不負大丈之志也。今對此景，甚有慷慨。吾當作\\n歌，汝等和之。」歌曰：對酒當歌，人生幾何？譬如朝露，去日苦多。慨當以慷，憂思\\n難忘。何以解憂，惟有杜康。青青子衿，悠悠我心。呦呦鹿鳴，食野之苹。我有嘉賓，\\n鼓瑟吹笙。皎皎如月，何時可輟？憂從中來，不可斷絕。越陌度阡，枉用相存。契闊談\\n讌，心念舊恩。月明星稀，烏鵲南飛，遶樹三匝，無枝可依。山不厭高，水不厭深。周\\n公吐哺，天下歸心。\\n\\n\\u3000\\u3000歌罷，眾和之，共皆歡笑。忽座間一人進曰：「大軍相當之際，將士用命之時，丞\\n相何故出此不吉之言？」操視之，乃揚州刺史，沛國相人：姓劉，名馥，字元穎。馥起\\n自合淝，創立州治，聚逃散之民，立學校，廣屯田，興治教，久事曹操，多立功績。當\\n下操橫槊問曰：「吾言有何不吉？」馥曰：「『月明星稀，烏鵲南飛，遶樹三匝，無枝\\n可依。』此不吉之言。」操大怒曰：「汝安敢敗吾興！」手起一槊，刺死劉馥。眾皆驚\\n駭，遂罷宴。\\n\\n\\u3000\\u3000次日，操酒醒，懊恨不已。馥子劉熙，告請父屍歸葬。操泣曰：「吾昨因醉誤傷汝\\n父，悔之無及。可以三公厚禮葬之。」又撥軍士護送靈柩，即日回葬。\\n\\n\\u3000\\u3000次日，水軍都督毛玠，于禁，詣帳下，請曰：「大小船隻，俱已配搭連鎖停當。旌\\n旗戰具，一一齊備。請丞相調遣，剋日進兵。」'), Document(metadata={'source': 'books/三國演義.txt'}, page_content='孔融聞之，來見操曰：「袁紹勢大，不可與戰，只可與和。」荀彧曰：「袁紹無用\\n之人，何必議和？」融曰：「袁紹土廣民強。其部下如許攸，郭圖，審配，逢紀，皆智\\n謀之士；田豐，沮授，皆忠臣也；顏良，文醜，勇冠三軍；其餘高覽，張郃，淳于瓊，\\n等俱世之名將，──何謂紹為無用之人乎？」彧笑曰：「紹兵多而不整；田豐剛而犯上\\n，許攸貪而不智，審配專而無謀，逢紀果而無用，此四人者，勢不相容，必生內變。顏\\n良，文醜，匹夫之勇，一戰可擒。其餘碌碌等輩，縱有百萬，何足道哉！」\\n\\n\\u3000\\u3000孔融默然。操大笑曰：「皆不出荀文若之料。」遂喚前軍劉岱、後軍王忠引軍五萬\\n，打著丞相旗號，去徐州攻劉備。原來劉岱舊為袞州刺史；及操取袞州，岱降於操，操\\n用為偏將，故今差他與王忠一同領兵。操卻自引大軍二十萬，進黎陽，拒袁紹。程昱曰\\n：「恐劉岱、王忠不稱其使。」操曰：「吾亦知非劉備敵手，權且虛張聲勢。」分付：\\n「不可輕進。待我破紹，再勒兵破備。」劉岱、王忠領兵去了。曹操自引兵至黎陽。兩\\n軍隔八十里，各自深溝高壘，相持不戰。自八月守至十月。原來許攸不樂審配領兵，沮\\n授又恨紹不用其謀，各不相和，不圖進取。袁紹心懷疑惑，不思進兵。操乃喚呂布手下\\n降將臧霸把守青、徐；于禁、李典屯兵河上；曹仁總督大軍，屯於官渡。操自引一軍，\\n竟回許都。\\n\\n\\u3000\\u3000且說劉岱、王忠引軍五萬離徐州一百里下寨。中軍虛打曹丞相旗號，未敢進兵，只\\n打聽河北消息。這裏玄德也不知曹操虛實，未敢擅動，亦只探聽河北。忽曹操差人催劉\\n岱、王忠進戰。二人在寨中商議。岱曰：「丞相催促攻城，你可先去。」王忠曰：「丞\\n相先差你。」岱曰：「我是主將，如何先去？」忠曰：「我和你同引兵去。」岱曰：「\\n我與你拈鬮；拈著的便去。」王忠拈著「先」字，只得分一半軍馬，來攻徐州。\\n\\n\\u3000\\u3000玄德聽知軍馬到來，請陳登商議曰：「袁本初雖屯兵黎陽，奈謀臣不和，尚未進取\\n。曹操不知在何處。聞黎陽軍中，無操旗號，如何這裏卻反有他旗號？」登曰：「操詭\\n計百出，必以河北為重，親自監督，卻故意不建旗號，乃於此處虛張聲勢。吾意操必不\\n在此。」玄德曰：「兩弟誰可探聽虛實？」張飛曰：「小弟願往。」玄德曰：「汝為人\\n躁暴，不可去。」飛曰：「便是有曹操也挐將來！」雲長曰：「待弟往觀其動靜。」玄\\n德曰：「雲長若去，我卻放心。」')]\n"
     ]
    }
   ],
   "source": [
    "from typing import Text\n",
    "from langchain_community.document_loaders import TextLoader\n",
    "from langchain_text_splitters import CharacterTextSplitter\n",
    "from langchain_community.vectorstores import Chroma\n",
    "from langchain_community.embeddings import HuggingFaceEmbeddings\n",
    "#from sentence_transformers import SentenceTransformer\n",
    "\n",
    "\n",
    "# 載入文檔\n",
    "loader = TextLoader(\"books/三國演義.txt\")\n",
    "documents = loader.load()\n",
    "\n",
    "# 分割文檔\n",
    "text_spliter = CharacterTextSplitter(chunk_size=1000, chunk_overlap=0)\n",
    "docs = text_spliter.split_documents(documents)\n",
    "\n",
    "embeddings = HuggingFaceEmbeddings(\n",
    "    model_name = 'intfloat/multilingual-e5-large'\n",
    ")\n",
    "\n",
    "db = Chroma.from_documents(docs, embeddings, persist_directory=\"./db\")\n",
    "\n",
    "# 查詢\n",
    "results = db.similarity_search(\"劉備\", k=3)\n",
    "print(results)"
   ]
  }
 ],
 "metadata": {
  "kernelspec": {
   "display_name": ".venv",
   "language": "python",
   "name": "python3"
  },
  "language_info": {
   "codemirror_mode": {
    "name": "ipython",
    "version": 3
   },
   "file_extension": ".py",
   "mimetype": "text/x-python",
   "name": "python",
   "nbconvert_exporter": "python",
   "pygments_lexer": "ipython3",
   "version": "3.11.13"
  }
 },
 "nbformat": 4,
 "nbformat_minor": 5
}
