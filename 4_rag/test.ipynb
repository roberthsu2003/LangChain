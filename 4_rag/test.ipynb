{
 "cells": [
  {
   "cell_type": "code",
   "execution_count": null,
   "id": "d99e7ed4",
   "metadata": {},
   "outputs": [
    {
     "name": "stderr",
     "output_type": "stream",
     "text": [
      "Created a chunk of size 1048, which is longer than the specified 1000\n",
      "Created a chunk of size 1312, which is longer than the specified 1000\n",
      "Created a chunk of size 1007, which is longer than the specified 1000\n",
      "Created a chunk of size 1184, which is longer than the specified 1000\n",
      "Created a chunk of size 1045, which is longer than the specified 1000\n",
      "Created a chunk of size 1132, which is longer than the specified 1000\n",
      "Created a chunk of size 1674, which is longer than the specified 1000\n",
      "Some weights of BertModel were not initialized from the model checkpoint at jinaai/jina-embeddings-v2-base-zh and are newly initialized: ['embeddings.position_embeddings.weight', 'encoder.layer.0.intermediate.dense.bias', 'encoder.layer.0.intermediate.dense.weight', 'encoder.layer.0.output.LayerNorm.bias', 'encoder.layer.0.output.LayerNorm.weight', 'encoder.layer.0.output.dense.bias', 'encoder.layer.0.output.dense.weight', 'encoder.layer.1.intermediate.dense.bias', 'encoder.layer.1.intermediate.dense.weight', 'encoder.layer.1.output.LayerNorm.bias', 'encoder.layer.1.output.LayerNorm.weight', 'encoder.layer.1.output.dense.bias', 'encoder.layer.1.output.dense.weight', 'encoder.layer.10.intermediate.dense.bias', 'encoder.layer.10.intermediate.dense.weight', 'encoder.layer.10.output.LayerNorm.bias', 'encoder.layer.10.output.LayerNorm.weight', 'encoder.layer.10.output.dense.bias', 'encoder.layer.10.output.dense.weight', 'encoder.layer.11.intermediate.dense.bias', 'encoder.layer.11.intermediate.dense.weight', 'encoder.layer.11.output.LayerNorm.bias', 'encoder.layer.11.output.LayerNorm.weight', 'encoder.layer.11.output.dense.bias', 'encoder.layer.11.output.dense.weight', 'encoder.layer.2.intermediate.dense.bias', 'encoder.layer.2.intermediate.dense.weight', 'encoder.layer.2.output.LayerNorm.bias', 'encoder.layer.2.output.LayerNorm.weight', 'encoder.layer.2.output.dense.bias', 'encoder.layer.2.output.dense.weight', 'encoder.layer.3.intermediate.dense.bias', 'encoder.layer.3.intermediate.dense.weight', 'encoder.layer.3.output.LayerNorm.bias', 'encoder.layer.3.output.LayerNorm.weight', 'encoder.layer.3.output.dense.bias', 'encoder.layer.3.output.dense.weight', 'encoder.layer.4.intermediate.dense.bias', 'encoder.layer.4.intermediate.dense.weight', 'encoder.layer.4.output.LayerNorm.bias', 'encoder.layer.4.output.LayerNorm.weight', 'encoder.layer.4.output.dense.bias', 'encoder.layer.4.output.dense.weight', 'encoder.layer.5.intermediate.dense.bias', 'encoder.layer.5.intermediate.dense.weight', 'encoder.layer.5.output.LayerNorm.bias', 'encoder.layer.5.output.LayerNorm.weight', 'encoder.layer.5.output.dense.bias', 'encoder.layer.5.output.dense.weight', 'encoder.layer.6.intermediate.dense.bias', 'encoder.layer.6.intermediate.dense.weight', 'encoder.layer.6.output.LayerNorm.bias', 'encoder.layer.6.output.LayerNorm.weight', 'encoder.layer.6.output.dense.bias', 'encoder.layer.6.output.dense.weight', 'encoder.layer.7.intermediate.dense.bias', 'encoder.layer.7.intermediate.dense.weight', 'encoder.layer.7.output.LayerNorm.bias', 'encoder.layer.7.output.LayerNorm.weight', 'encoder.layer.7.output.dense.bias', 'encoder.layer.7.output.dense.weight', 'encoder.layer.8.intermediate.dense.bias', 'encoder.layer.8.intermediate.dense.weight', 'encoder.layer.8.output.LayerNorm.bias', 'encoder.layer.8.output.LayerNorm.weight', 'encoder.layer.8.output.dense.bias', 'encoder.layer.8.output.dense.weight', 'encoder.layer.9.intermediate.dense.bias', 'encoder.layer.9.intermediate.dense.weight', 'encoder.layer.9.output.LayerNorm.bias', 'encoder.layer.9.output.LayerNorm.weight', 'encoder.layer.9.output.dense.bias', 'encoder.layer.9.output.dense.weight']\n",
      "You should probably TRAIN this model on a down-stream task to be able to use it for predictions and inference.\n"
     ]
    },
    {
     "name": "stdout",
     "output_type": "stream",
     "text": [
      "載入現有資料庫\n",
      "[Document(metadata={'source': 'books/三國演義.txt'}, page_content='術惶恐無言，命斬進讒之人，以謝孫堅。忽人報堅曰：「關上有一將，乘馬來寨中\\n，要見將軍。」堅辭袁術，歸到本寨，喚來問時，乃董卓愛將李傕。堅曰：「汝來何為\\n？」傕曰：「丞相所敬者，惟將軍耳。今特使傕來結親：丞相有女，欲配將軍之子。」\\n堅大怒，叱曰：「董卓逆天無道，蕩覆王室，吾欲夷其九族，以謝天下，安肯與逆賊結\\n親耶！吾不斬汝！汝當速去，早早獻關，饒你性命！倘若遲誤，粉骨碎身！」\\n\\n\\u3000\\u3000李傕抱頭鼠竄，回見董卓，說孫堅如此無禮。卓怒，問李儒。儒曰：「溫侯新敗，\\n兵無戰心。不若引兵回洛陽，遷帝於長安，以應童謠。近日街市童謠曰：『西頭一個漢\\n，東頭一個漢。鹿走入長安，方可無斯難。』臣思此言，『西頭一個漢』，乃應高祖旺\\n於西都長安，傳一十二帝；『東頭一個漢』，乃應光武旺於東都洛陽，今亦傳一十二帝\\n。天運合回，丞相遷回長安，方可無虞。」卓大喜曰：「非汝言，吾實不悟。」遂引呂\\n布星夜回洛陽，商議遷都。聚文武於朝堂，卓曰：「漢東都洛陽，二百餘年，氣數已衰\\n。吾觀旺氣實在長安，吾欲奉駕西幸。汝等各宜促裝。」\\n\\n\\u3000\\u3000司徒楊彪曰：「關中殘破零落。今無故捐宗廟，棄皇陵，恐百姓驚動。天下動之至\\n易，安之至難：望丞相鋻察。」卓怒曰：「汝阻國家大計耶？」太尉黃琬曰：「楊司徒\\n之言是也；往者王莽篡逆，更始赤眉之時，焚燒長安，盡為瓦礫之地；更兼人民流移，\\n百無一二；今棄宮室而就荒地，非所宜也。」卓曰：「關東賊起，天下播亂；長安有崤\\n、函之險；更近隴右，木石磚瓦，剋日可辦，宮室營造，不須月餘。汝等再休亂言。」\\n司徒苟爽諫曰：「丞相若欲遷都，百姓騷動不寧矣。」卓大怒曰：「吾為天下計，豈惜\\n小民哉！」即日罷楊彪、黃琬、荀爽為庶民。\\n\\n\\u3000\\u3000卓出上車，只見二人望車而揖；視之，乃尚書周毖、城門校尉伍瓊也。卓問有何事\\n，毖曰：「今聞丞相欲遷都長安，故來諫耳。」卓大怒曰：「我始初聽你兩個，保用袁\\n紹；今紹已反，是汝等一黨！」叱武士推出都門斬首。遂下令遷都，限來日便行。李儒\\n曰：「今錢糧缺少，洛陽富戶極多，可籍沒入官。但是袁紹等門下，殺其宗黨而抄其家\\n貲，必得巨萬。」'), Document(metadata={'source': 'books/三國演義.txt'}, page_content='司馬師看畢，勃然大怒曰：「原來汝等正欲謀害吾兄弟！情理難容！」遂令將三人\\n腰斬於市，滅其三族。三人罵不絕口。比臨東市中，牙齒盡被打落，各人含糊數罵而死\\n。師直入後宮。魏主曹芳正與張皇后商議此事。皇后曰：c內廷耳目頗多，倘事泄露，\\n必累妾矣！」\\n\\n\\u3000\\u3000正言間，必見師入，皇后大驚。師按劍謂芳曰：「臣父立陛下為君，功德不在周公\\n之下；臣事陛下，亦與伊尹何別乎？今反以恩為讎，以功為過，欲與二三小臣，謀害臣\\n兄弟，何也？」芳曰：「朕無此心。」師袖中取出汗衫，擲之於地曰：「此誰人所作耶\\n？」芳魂飛天外，魄散九霄，戰慄而答曰：「此皆為他人所逼故也。朕豈敢興此心？」\\n師曰：「妄誣大臣造反，當加何罪？」芳跪告曰：「朕合有罪，望大將軍恕之！」師曰\\n：「陛下請起。國法未可廢也。」乃指張皇后曰：「此是張緝之女，理當除之！」芳大\\n哭求免，師不從，叱左右將張后捉出，至東華門內，用白練絞死。後人有詩曰：\\n\\n\\u3000\\u3000當年伏后出宮門，跣足哀號別至尊。司馬今朝依此例，天教還報在兒孫。\\n\\n\\u3000\\u3000次日，司馬師大會群臣曰：「今主上荒淫無道，褻近娼優，聽信讒言，閉塞賢路：\\n其罪甚於漢之昌邑，不能主天下。吾謹按伊尹、霍光之法，別立新君，以保社稷，以安\\n天下，如何？」眾皆應曰：「大將軍行伊、霍之事，所謂應天順人，誰敢違命？」師遂\\n同多官入永寧宮，奏聞太后。太后曰：「大將軍欲立何人為君？」師曰：「臣觀彭城王\\n曹據，聰明仁孝，可以為天下之主。」太后曰：「彭城王乃老身之叔，今立為君，我何\\n以當之？今有高貴鄉公曹髦，乃文皇帝之孫，此人溫恭克讓，可以立之。卿等大臣，從\\n長計議。」\\n\\n\\u3000\\u3000一人奏曰：「太后之言是也。便可立之。」眾視之，乃司馬師宗叔司馬孚也。師遂\\n遣使往元城召高貴鄉公，請太后升太極殿，召芳責之曰：「汝荒淫無度，褻近娼優，不\\n可承天下；當納下璽綬，復齊王之爵，目下起程，非宣召不許入朝。」芳泣拜太后，納\\n了國寶，乘王車大哭而去。只有數員忠義之臣，含淚而送。後人有詩曰：\\n\\n\\u3000\\u3000昔日曹瞞相漢時，欺他寡婦與孤兒。誰知四十餘年後，寡婦孤兒亦被欺！'), Document(metadata={'source': 'books/三國演義.txt'}, page_content='卻說姜維從董亭望南安而來，至武城山前，謂夏侯霸曰：「近南安有一山，名武城\\n山；若先得了，可奪南安之勢。只恐鄧艾多謀，必先提防。」\\n\\n\\u3000\\u3000正疑慮間，忽然山上一聲砲響，喊聲大震，鼓角齊鳴，旌旗遍豎，皆是魏兵：中央\\n風飄起一黃旗，大書「鄧艾」字樣。蜀兵大驚。山上數處精兵殺下，勢不可當，前軍大\\n敗。維急率中軍人馬去救時，魏兵已退。維直來武城山下搦鄧艾戰，山上魏兵並不下來\\n。維令軍士辱罵，至晚，方欲退軍，山上鼓角齊鳴，卻又不見魏兵下來。維欲上山衝殺\\n，山上砲石甚嚴，不能得進。守至三更，欲回，山上鼓角又鳴。維移兵下山屯紮。比及\\n令軍搬運木石，方欲豎立為寨，山上鼓角又鳴，魏兵驟至。蜀兵大亂，自相踐踏，退回\\n舊寨。\\n\\n\\u3000\\u3000次日，姜維令軍士運糧草車仗，至武城山，穿連排定，欲立起寨柵，以為屯兵之計\\n。是夜二更，鄧艾令五百人，各執火把，分兩路下山，放火燒車仗。兩兵混殺了一夜，\\n營寨又立不成。維復引兵退，再與夏侯霸商議曰：「南安未得，不如先取上邽。上邽乃\\n南安屯糧之所；若得上邽，南安自危矣。」遂留霸屯於武城山。維盡引精兵猛將，逕取\\n上邽。行了一宿，將及天明，見山勢狹峻，道路崎嶇，乃問鄉導官曰：「此處何名？」\\n答曰：「段谷。」維大驚曰：「其名不美：『段谷』者，『斷谷』也。倘有人斷其谷口\\n，如之奈何？」\\n\\n\\u3000\\u3000正躊躇未決，忽報前軍來報：「山後塵頭大起，必有伏兵。」維急令退兵，師纂、\\n鄧忠，兩軍殺出。維且戰且走，前面喊聲大震，鄧艾引兵殺到：三路夾攻，蜀兵大敗。\\n幸得夏侯霸引兵殺到，魏兵方退，救了姜維，欲再往祁山。霸曰：「祁山寨已被陳泰打\\n破，鮑素陣亡，全寨人馬皆退回漢中去了。」維不敢取董亭，急投山僻小路而回。後面\\n鄧艾急追，維令諸軍前進，自為斷後。\\n\\n\\u3000\\u3000正行之際，忽然山中一軍突出，乃魏將陳泰也。魏兵一聲喊起，將姜維因在核心。\\n維人馬困乏，左衝右突，不能得出。盪寇將軍張嶷，聞姜維受困，引數百騎殺入重圍，\\n維因乘勢殺出。嶷被魏兵亂箭射死。維得脫重圍，復回漢中；因感張嶷忠勇，沒於王事\\n，乃表贈其子孫。於是蜀中將士，多有陣亡者，皆歸罪於姜維。維照武侯街亭舊例，乃\\n上表自貶為後將軍行大將軍事。')]\n"
     ]
    }
   ],
   "source": [
    "from langchain_community.document_loaders import TextLoader\n",
    "from langchain_text_splitters import CharacterTextSplitter\n",
    "from langchain_community.vectorstores import Chroma\n",
    "from langchain_community.embeddings import HuggingFaceEmbeddings\n",
    "import os\n",
    "from pathlib import Path\n",
    "\n",
    "\n",
    "# 載入文檔\n",
    "loader = TextLoader(\"books/三國演義.txt\")\n",
    "documents = loader.load()\n",
    "\n",
    "# 分割文檔\n",
    "# chunk_size=1000: 每個文本區塊最多 1000 個字元，避免超過模型限制\n",
    "# chunk_overlap=200: 區塊之間重疊 200 個字元，防止重要資訊在分割時被切斷\n",
    "text_spliter = CharacterTextSplitter(chunk_size=1000, chunk_overlap=200)\n",
    "docs = text_spliter.split_documents(documents)\n",
    "\n",
    "# 使用 HuggingFace 的中文 embedding 模型\n",
    "embeddings = HuggingFaceEmbeddings(\n",
    "    model_name = 'jinaai/jina-embeddings-v2-base-zh'\n",
    ")\n",
    "\n",
    "# 設定向量資料庫路徑（使用絕對路徑避免權限問題）\n",
    "db_path = os.path.abspath(\"./db\")\n",
    "\n",
    "# 檢查資料庫是否已存在，避免每次都重建\n",
    "if Path(db_path).exists():\n",
    "    # 資料庫已存在，直接載入\n",
    "    db = Chroma(persist_directory=db_path, embedding_function=embeddings)\n",
    "    print(\"載入現有資料庫\")\n",
    "else:\n",
    "    # 資料庫不存在，建立新的向量資料庫\n",
    "    db = Chroma.from_documents(docs, embeddings, persist_directory=db_path)\n",
    "    print(\"建立新資料庫\")\n",
    "\n",
    "# 查詢與「劉備」最相似的 3 個文本區塊\n",
    "results = db.similarity_search(\"劉備\", k=3)\n",
    "print(results)"
   ]
  }
 ],
 "metadata": {
  "kernelspec": {
   "display_name": ".venv",
   "language": "python",
   "name": "python3"
  },
  "language_info": {
   "codemirror_mode": {
    "name": "ipython",
    "version": 3
   },
   "file_extension": ".py",
   "mimetype": "text/x-python",
   "name": "python",
   "nbconvert_exporter": "python",
   "pygments_lexer": "ipython3",
   "version": "3.11.13"
  }
 },
 "nbformat": 4,
 "nbformat_minor": 5
}
